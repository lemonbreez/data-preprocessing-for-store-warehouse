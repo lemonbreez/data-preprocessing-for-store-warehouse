{
  "cells": [
    {
      "cell_type": "markdown",
      "metadata": {
        "id": "view-in-github",
        "colab_type": "text"
      },
      "source": [
        "<a href=\"https://colab.research.google.com/github/lemonbreez/data-preprocessing-for-store-warehouse/blob/main/Assignment_DataMining.ipynb\" target=\"_parent\"><img src=\"https://colab.research.google.com/assets/colab-badge.svg\" alt=\"Open In Colab\"/></a>"
      ]
    },
    {
      "cell_type": "markdown",
      "metadata": {
        "id": "QW0IS7S5f0yu"
      },
      "source": [
        "GROUP MEMBERS:\n",
        "*   Maysa Saeed Alghamdi\n",
        "*   Manar Ali Alali\n",
        "*   Raneem Abdullah Alshehri\n",
        "\n",
        "\n",
        "\n"
      ]
    },
    {
      "cell_type": "code",
      "execution_count": null,
      "metadata": {
        "colab": {
          "base_uri": "https://localhost:8080/"
        },
        "id": "fIUX53VcPzw-",
        "outputId": "a6be5223-b99f-48fe-d75e-a4587f0fe88d"
      },
      "outputs": [
        {
          "output_type": "stream",
          "name": "stdout",
          "text": [
            "Drive already mounted at /content/drive; to attempt to forcibly remount, call drive.mount(\"/content/drive\", force_remount=True).\n"
          ]
        }
      ],
      "source": [
        "from google.colab import drive\n",
        "drive.mount('/content/drive')"
      ]
    },
    {
      "cell_type": "code",
      "execution_count": null,
      "metadata": {
        "colab": {
          "base_uri": "https://localhost:8080/"
        },
        "id": "ZmymTGNIQbI3",
        "outputId": "64abe6ed-f9ed-43a1-eaa1-7159d5c015bc"
      },
      "outputs": [
        {
          "output_type": "stream",
          "name": "stdout",
          "text": [
            "Requirement already satisfied: scikit-learn in /usr/local/lib/python3.10/dist-packages (1.2.2)\n",
            "Requirement already satisfied: pandas in /usr/local/lib/python3.10/dist-packages (1.5.3)\n",
            "Requirement already satisfied: numpy in /usr/local/lib/python3.10/dist-packages (1.23.5)\n",
            "Requirement already satisfied: dtale in /usr/local/lib/python3.10/dist-packages (3.7.0)\n",
            "Requirement already satisfied: notebook in /usr/local/lib/python3.10/dist-packages (6.5.5)\n",
            "Requirement already satisfied: scipy>=1.3.2 in /usr/local/lib/python3.10/dist-packages (from scikit-learn) (1.11.3)\n",
            "Requirement already satisfied: joblib>=1.1.1 in /usr/local/lib/python3.10/dist-packages (from scikit-learn) (1.3.2)\n",
            "Requirement already satisfied: threadpoolctl>=2.0.0 in /usr/local/lib/python3.10/dist-packages (from scikit-learn) (3.2.0)\n",
            "Requirement already satisfied: python-dateutil>=2.8.1 in /usr/local/lib/python3.10/dist-packages (from pandas) (2.8.2)\n",
            "Requirement already satisfied: pytz>=2020.1 in /usr/local/lib/python3.10/dist-packages (from pandas) (2023.3.post1)\n",
            "Requirement already satisfied: dash-colorscales in /usr/local/lib/python3.10/dist-packages (from dtale) (0.0.4)\n",
            "Requirement already satisfied: dash-daq in /usr/local/lib/python3.10/dist-packages (from dtale) (0.5.0)\n",
            "Requirement already satisfied: Flask-Compress in /usr/local/lib/python3.10/dist-packages (from dtale) (1.14)\n",
            "Requirement already satisfied: future>=0.14.0 in /usr/local/lib/python3.10/dist-packages (from dtale) (0.18.3)\n",
            "Requirement already satisfied: kaleido in /usr/local/lib/python3.10/dist-packages (from dtale) (0.2.1)\n",
            "Requirement already satisfied: missingno in /usr/local/lib/python3.10/dist-packages (from dtale) (0.5.2)\n",
            "Requirement already satisfied: squarify in /usr/local/lib/python3.10/dist-packages (from dtale) (0.4.3)\n",
            "Requirement already satisfied: strsimpy in /usr/local/lib/python3.10/dist-packages (from dtale) (0.2.1)\n",
            "Requirement already satisfied: six in /usr/local/lib/python3.10/dist-packages (from dtale) (1.16.0)\n",
            "Requirement already satisfied: xlrd in /usr/local/lib/python3.10/dist-packages (from dtale) (2.0.1)\n",
            "Requirement already satisfied: beautifulsoup4 in /usr/local/lib/python3.10/dist-packages (from dtale) (4.11.2)\n",
            "Requirement already satisfied: certifi in /usr/local/lib/python3.10/dist-packages (from dtale) (2023.7.22)\n",
            "Requirement already satisfied: flask-ngrok in /usr/local/lib/python3.10/dist-packages (from dtale) (0.0.25)\n",
            "Requirement already satisfied: lz4 in /usr/local/lib/python3.10/dist-packages (from dtale) (4.3.2)\n",
            "Requirement already satisfied: cycler in /usr/local/lib/python3.10/dist-packages (from dtale) (0.12.1)\n",
            "Requirement already satisfied: dash-bootstrap-components<=1.3.1 in /usr/local/lib/python3.10/dist-packages (from dtale) (1.3.1)\n",
            "Requirement already satisfied: networkx in /usr/local/lib/python3.10/dist-packages (from dtale) (3.2)\n",
            "Requirement already satisfied: seaborn in /usr/local/lib/python3.10/dist-packages (from dtale) (0.12.2)\n",
            "Requirement already satisfied: statsmodels in /usr/local/lib/python3.10/dist-packages (from dtale) (0.14.0)\n",
            "Requirement already satisfied: openpyxl!=3.2.0b1 in /usr/local/lib/python3.10/dist-packages (from dtale) (3.1.2)\n",
            "Requirement already satisfied: xarray in /usr/local/lib/python3.10/dist-packages (from dtale) (2023.7.0)\n",
            "Requirement already satisfied: dash in /usr/local/lib/python3.10/dist-packages (from dtale) (2.14.1)\n",
            "Requirement already satisfied: et-xmlfile in /usr/local/lib/python3.10/dist-packages (from dtale) (1.1.0)\n",
            "Requirement already satisfied: plotly in /usr/local/lib/python3.10/dist-packages (from dtale) (5.15.0)\n",
            "Requirement already satisfied: Flask<2.3 in /usr/local/lib/python3.10/dist-packages (from dtale) (2.2.5)\n",
            "Requirement already satisfied: itsdangerous in /usr/local/lib/python3.10/dist-packages (from dtale) (2.1.2)\n",
            "Requirement already satisfied: requests in /usr/local/lib/python3.10/dist-packages (from dtale) (2.31.0)\n",
            "Requirement already satisfied: werkzeug<2.3 in /usr/local/lib/python3.10/dist-packages (from dtale) (2.2.3)\n",
            "Requirement already satisfied: matplotlib in /usr/local/lib/python3.10/dist-packages (from dtale) (3.7.1)\n",
            "Requirement already satisfied: jinja2 in /usr/local/lib/python3.10/dist-packages (from notebook) (3.1.2)\n",
            "Requirement already satisfied: tornado>=6.1 in /usr/local/lib/python3.10/dist-packages (from notebook) (6.3.2)\n",
            "Requirement already satisfied: pyzmq<25,>=17 in /usr/local/lib/python3.10/dist-packages (from notebook) (23.2.1)\n",
            "Requirement already satisfied: argon2-cffi in /usr/local/lib/python3.10/dist-packages (from notebook) (23.1.0)\n",
            "Requirement already satisfied: traitlets>=4.2.1 in /usr/local/lib/python3.10/dist-packages (from notebook) (5.7.1)\n",
            "Requirement already satisfied: jupyter-core>=4.6.1 in /usr/local/lib/python3.10/dist-packages (from notebook) (5.4.0)\n",
            "Requirement already satisfied: jupyter-client<8,>=5.3.4 in /usr/local/lib/python3.10/dist-packages (from notebook) (6.1.12)\n",
            "Requirement already satisfied: ipython-genutils in /usr/local/lib/python3.10/dist-packages (from notebook) (0.2.0)\n",
            "Requirement already satisfied: nbformat in /usr/local/lib/python3.10/dist-packages (from notebook) (5.9.2)\n",
            "Requirement already satisfied: nbconvert>=5 in /usr/local/lib/python3.10/dist-packages (from notebook) (6.5.4)\n",
            "Requirement already satisfied: nest-asyncio>=1.5 in /usr/local/lib/python3.10/dist-packages (from notebook) (1.5.8)\n",
            "Requirement already satisfied: ipykernel in /usr/local/lib/python3.10/dist-packages (from notebook) (5.5.6)\n",
            "Requirement already satisfied: Send2Trash>=1.8.0 in /usr/local/lib/python3.10/dist-packages (from notebook) (1.8.2)\n",
            "Requirement already satisfied: terminado>=0.8.3 in /usr/local/lib/python3.10/dist-packages (from notebook) (0.17.1)\n",
            "Requirement already satisfied: prometheus-client in /usr/local/lib/python3.10/dist-packages (from notebook) (0.17.1)\n",
            "Requirement already satisfied: nbclassic>=0.4.7 in /usr/local/lib/python3.10/dist-packages (from notebook) (1.0.0)\n",
            "Requirement already satisfied: dash-html-components==2.0.0 in /usr/local/lib/python3.10/dist-packages (from dash->dtale) (2.0.0)\n",
            "Requirement already satisfied: dash-core-components==2.0.0 in /usr/local/lib/python3.10/dist-packages (from dash->dtale) (2.0.0)\n",
            "Requirement already satisfied: dash-table==5.0.0 in /usr/local/lib/python3.10/dist-packages (from dash->dtale) (5.0.0)\n",
            "Requirement already satisfied: typing-extensions>=4.1.1 in /usr/local/lib/python3.10/dist-packages (from dash->dtale) (4.5.0)\n",
            "Requirement already satisfied: retrying in /usr/local/lib/python3.10/dist-packages (from dash->dtale) (1.3.4)\n",
            "Requirement already satisfied: ansi2html in /usr/local/lib/python3.10/dist-packages (from dash->dtale) (1.8.0)\n",
            "Requirement already satisfied: setuptools in /usr/local/lib/python3.10/dist-packages (from dash->dtale) (67.7.2)\n",
            "Requirement already satisfied: importlib-metadata in /usr/local/lib/python3.10/dist-packages (from dash->dtale) (6.8.0)\n",
            "Requirement already satisfied: click>=8.0 in /usr/local/lib/python3.10/dist-packages (from Flask<2.3->dtale) (8.1.7)\n",
            "Requirement already satisfied: MarkupSafe>=2.0 in /usr/local/lib/python3.10/dist-packages (from jinja2->notebook) (2.1.3)\n",
            "Requirement already satisfied: platformdirs>=2.5 in /usr/local/lib/python3.10/dist-packages (from jupyter-core>=4.6.1->notebook) (3.11.0)\n",
            "Requirement already satisfied: jupyter-server>=1.8 in /usr/local/lib/python3.10/dist-packages (from nbclassic>=0.4.7->notebook) (1.24.0)\n",
            "Requirement already satisfied: notebook-shim>=0.2.3 in /usr/local/lib/python3.10/dist-packages (from nbclassic>=0.4.7->notebook) (0.2.3)\n",
            "Requirement already satisfied: lxml in /usr/local/lib/python3.10/dist-packages (from nbconvert>=5->notebook) (4.9.3)\n",
            "Requirement already satisfied: bleach in /usr/local/lib/python3.10/dist-packages (from nbconvert>=5->notebook) (6.1.0)\n",
            "Requirement already satisfied: defusedxml in /usr/local/lib/python3.10/dist-packages (from nbconvert>=5->notebook) (0.7.1)\n",
            "Requirement already satisfied: entrypoints>=0.2.2 in /usr/local/lib/python3.10/dist-packages (from nbconvert>=5->notebook) (0.4)\n",
            "Requirement already satisfied: jupyterlab-pygments in /usr/local/lib/python3.10/dist-packages (from nbconvert>=5->notebook) (0.2.2)\n",
            "Requirement already satisfied: mistune<2,>=0.8.1 in /usr/local/lib/python3.10/dist-packages (from nbconvert>=5->notebook) (0.8.4)\n",
            "Requirement already satisfied: nbclient>=0.5.0 in /usr/local/lib/python3.10/dist-packages (from nbconvert>=5->notebook) (0.8.0)\n",
            "Requirement already satisfied: packaging in /usr/local/lib/python3.10/dist-packages (from nbconvert>=5->notebook) (23.2)\n",
            "Requirement already satisfied: pandocfilters>=1.4.1 in /usr/local/lib/python3.10/dist-packages (from nbconvert>=5->notebook) (1.5.0)\n",
            "Requirement already satisfied: pygments>=2.4.1 in /usr/local/lib/python3.10/dist-packages (from nbconvert>=5->notebook) (2.16.1)\n",
            "Requirement already satisfied: tinycss2 in /usr/local/lib/python3.10/dist-packages (from nbconvert>=5->notebook) (1.2.1)\n",
            "Requirement already satisfied: fastjsonschema in /usr/local/lib/python3.10/dist-packages (from nbformat->notebook) (2.18.1)\n",
            "Requirement already satisfied: jsonschema>=2.6 in /usr/local/lib/python3.10/dist-packages (from nbformat->notebook) (4.19.1)\n",
            "Requirement already satisfied: tenacity>=6.2.0 in /usr/local/lib/python3.10/dist-packages (from plotly->dtale) (8.2.3)\n",
            "Requirement already satisfied: ptyprocess in /usr/local/lib/python3.10/dist-packages (from terminado>=0.8.3->notebook) (0.7.0)\n",
            "Requirement already satisfied: argon2-cffi-bindings in /usr/local/lib/python3.10/dist-packages (from argon2-cffi->notebook) (21.2.0)\n",
            "Requirement already satisfied: soupsieve>1.2 in /usr/local/lib/python3.10/dist-packages (from beautifulsoup4->dtale) (2.5)\n",
            "Requirement already satisfied: brotli in /usr/local/lib/python3.10/dist-packages (from Flask-Compress->dtale) (1.1.0)\n",
            "Requirement already satisfied: ipython>=5.0.0 in /usr/local/lib/python3.10/dist-packages (from ipykernel->notebook) (7.34.0)\n",
            "Requirement already satisfied: contourpy>=1.0.1 in /usr/local/lib/python3.10/dist-packages (from matplotlib->dtale) (1.1.1)\n",
            "Requirement already satisfied: fonttools>=4.22.0 in /usr/local/lib/python3.10/dist-packages (from matplotlib->dtale) (4.43.1)\n",
            "Requirement already satisfied: kiwisolver>=1.0.1 in /usr/local/lib/python3.10/dist-packages (from matplotlib->dtale) (1.4.5)\n",
            "Requirement already satisfied: pillow>=6.2.0 in /usr/local/lib/python3.10/dist-packages (from matplotlib->dtale) (9.4.0)\n",
            "Requirement already satisfied: pyparsing>=2.3.1 in /usr/local/lib/python3.10/dist-packages (from matplotlib->dtale) (3.1.1)\n",
            "Requirement already satisfied: charset-normalizer<4,>=2 in /usr/local/lib/python3.10/dist-packages (from requests->dtale) (3.3.1)\n",
            "Requirement already satisfied: idna<4,>=2.5 in /usr/local/lib/python3.10/dist-packages (from requests->dtale) (3.4)\n",
            "Requirement already satisfied: urllib3<3,>=1.21.1 in /usr/local/lib/python3.10/dist-packages (from requests->dtale) (2.0.7)\n",
            "Requirement already satisfied: patsy>=0.5.2 in /usr/local/lib/python3.10/dist-packages (from statsmodels->dtale) (0.5.3)\n",
            "Requirement already satisfied: jedi>=0.16 in /usr/local/lib/python3.10/dist-packages (from ipython>=5.0.0->ipykernel->notebook) (0.19.1)\n",
            "Requirement already satisfied: decorator in /usr/local/lib/python3.10/dist-packages (from ipython>=5.0.0->ipykernel->notebook) (4.4.2)\n",
            "Requirement already satisfied: pickleshare in /usr/local/lib/python3.10/dist-packages (from ipython>=5.0.0->ipykernel->notebook) (0.7.5)\n",
            "Requirement already satisfied: prompt-toolkit!=3.0.0,!=3.0.1,<3.1.0,>=2.0.0 in /usr/local/lib/python3.10/dist-packages (from ipython>=5.0.0->ipykernel->notebook) (3.0.39)\n",
            "Requirement already satisfied: backcall in /usr/local/lib/python3.10/dist-packages (from ipython>=5.0.0->ipykernel->notebook) (0.2.0)\n",
            "Requirement already satisfied: matplotlib-inline in /usr/local/lib/python3.10/dist-packages (from ipython>=5.0.0->ipykernel->notebook) (0.1.6)\n",
            "Requirement already satisfied: pexpect>4.3 in /usr/local/lib/python3.10/dist-packages (from ipython>=5.0.0->ipykernel->notebook) (4.8.0)\n",
            "Requirement already satisfied: attrs>=22.2.0 in /usr/local/lib/python3.10/dist-packages (from jsonschema>=2.6->nbformat->notebook) (23.1.0)\n",
            "Requirement already satisfied: jsonschema-specifications>=2023.03.6 in /usr/local/lib/python3.10/dist-packages (from jsonschema>=2.6->nbformat->notebook) (2023.7.1)\n",
            "Requirement already satisfied: referencing>=0.28.4 in /usr/local/lib/python3.10/dist-packages (from jsonschema>=2.6->nbformat->notebook) (0.30.2)\n",
            "Requirement already satisfied: rpds-py>=0.7.1 in /usr/local/lib/python3.10/dist-packages (from jsonschema>=2.6->nbformat->notebook) (0.10.6)\n",
            "Requirement already satisfied: anyio<4,>=3.1.0 in /usr/local/lib/python3.10/dist-packages (from jupyter-server>=1.8->nbclassic>=0.4.7->notebook) (3.7.1)\n",
            "Requirement already satisfied: websocket-client in /usr/local/lib/python3.10/dist-packages (from jupyter-server>=1.8->nbclassic>=0.4.7->notebook) (1.6.4)\n",
            "Requirement already satisfied: cffi>=1.0.1 in /usr/local/lib/python3.10/dist-packages (from argon2-cffi-bindings->argon2-cffi->notebook) (1.16.0)\n",
            "Requirement already satisfied: webencodings in /usr/local/lib/python3.10/dist-packages (from bleach->nbconvert>=5->notebook) (0.5.1)\n",
            "Requirement already satisfied: zipp>=0.5 in /usr/local/lib/python3.10/dist-packages (from importlib-metadata->dash->dtale) (3.17.0)\n",
            "Requirement already satisfied: sniffio>=1.1 in /usr/local/lib/python3.10/dist-packages (from anyio<4,>=3.1.0->jupyter-server>=1.8->nbclassic>=0.4.7->notebook) (1.3.0)\n",
            "Requirement already satisfied: exceptiongroup in /usr/local/lib/python3.10/dist-packages (from anyio<4,>=3.1.0->jupyter-server>=1.8->nbclassic>=0.4.7->notebook) (1.1.3)\n",
            "Requirement already satisfied: pycparser in /usr/local/lib/python3.10/dist-packages (from cffi>=1.0.1->argon2-cffi-bindings->argon2-cffi->notebook) (2.21)\n",
            "Requirement already satisfied: parso<0.9.0,>=0.8.3 in /usr/local/lib/python3.10/dist-packages (from jedi>=0.16->ipython>=5.0.0->ipykernel->notebook) (0.8.3)\n",
            "Requirement already satisfied: wcwidth in /usr/local/lib/python3.10/dist-packages (from prompt-toolkit!=3.0.0,!=3.0.1,<3.1.0,>=2.0.0->ipython>=5.0.0->ipykernel->notebook) (0.2.8)\n"
          ]
        }
      ],
      "source": [
        "!pip install scikit-learn pandas numpy dtale notebook"
      ]
    },
    {
      "cell_type": "code",
      "execution_count": null,
      "metadata": {
        "id": "Z20ErwMjQfEE"
      },
      "outputs": [],
      "source": [
        "import numpy as np # used for handling numbers\n",
        "import pandas as pd # used for handling the dataset\n",
        "import seaborn as sns\n",
        "import matplotlib.pyplot as plt\n",
        "from sklearn.impute import SimpleImputer # used for handling missing data\n",
        "from sklearn.preprocessing import LabelEncoder, OneHotEncoder # used for encoding categorical data\n",
        "from sklearn.model_selection import train_test_split # used for splitting training and testing data\n",
        "from sklearn.preprocessing import StandardScaler # used for feature scaling"
      ]
    },
    {
      "cell_type": "code",
      "execution_count": null,
      "metadata": {
        "id": "O5ir-G9MQiXf"
      },
      "outputs": [],
      "source": [
        "df = pd.read_csv(\"/content/drive/MyDrive/DataminingAssignment/Dataset1.csv\")"
      ]
    },
    {
      "cell_type": "markdown",
      "source": [
        "This shows us the mean, std, and the quatiles"
      ],
      "metadata": {
        "id": "4KH0FBa_HqJo"
      }
    },
    {
      "cell_type": "code",
      "execution_count": null,
      "metadata": {
        "colab": {
          "base_uri": "https://localhost:8080/",
          "height": 355
        },
        "id": "cwj29kKsQn9I",
        "outputId": "992640b9-f9a1-4004-c9aa-a497566aaea1"
      },
      "outputs": [
        {
          "output_type": "execute_result",
          "data": {
            "text/plain": [
              "             Row ID     Discount   Unit Price  Shipping Cost  Customer ID  \\\n",
              "count   1952.000000  1952.000000  1952.000000    1952.000000  1952.000000   \n",
              "mean   19916.479508     0.048975   109.079221      12.968151  1735.376537   \n",
              "std     5957.595627     0.031378   393.481301      17.414631   991.078006   \n",
              "min       64.000000     0.000000     1.140000       0.490000     3.000000   \n",
              "25%    19121.000000     0.020000     6.480000       3.230000   875.000000   \n",
              "50%    21164.500000     0.050000    20.990000       6.150000  1738.000000   \n",
              "75%    23483.250000     0.080000   100.972500      14.362500  2578.250000   \n",
              "max    26389.000000     0.210000  6783.020000     164.730000  3403.000000   \n",
              "\n",
              "       Product Base Margin   Postal Code        Profit  Quantity ordered new  \\\n",
              "count          1936.000000   1952.000000   1952.000000           1952.000000   \n",
              "mean              0.515186  51534.769467    114.793859             12.944672   \n",
              "std               0.137055  29362.828420   1141.112387             13.871565   \n",
              "min               0.350000   1001.000000 -16476.838000              1.000000   \n",
              "25%               0.380000  28560.000000    -84.485400              5.000000   \n",
              "50%               0.525000  48765.500000      1.476450             10.000000   \n",
              "75%               0.590000  78550.000000    116.201575             16.000000   \n",
              "max               0.850000  99362.000000   9228.225600            167.000000   \n",
              "\n",
              "              Sales      Order ID  \n",
              "count   1952.000000   1952.000000  \n",
              "mean     985.828832  82365.924180  \n",
              "std     2559.900167  19042.295798  \n",
              "min        2.250000    359.000000  \n",
              "25%       58.807500  86767.750000  \n",
              "50%      202.395000  88376.000000  \n",
              "75%      802.945000  89957.000000  \n",
              "max    45737.330000  91586.000000  "
            ],
            "text/html": [
              "\n",
              "  <div id=\"df-58d4a5e8-28c1-421d-9233-68c4f605b5b1\" class=\"colab-df-container\">\n",
              "    <div>\n",
              "<style scoped>\n",
              "    .dataframe tbody tr th:only-of-type {\n",
              "        vertical-align: middle;\n",
              "    }\n",
              "\n",
              "    .dataframe tbody tr th {\n",
              "        vertical-align: top;\n",
              "    }\n",
              "\n",
              "    .dataframe thead th {\n",
              "        text-align: right;\n",
              "    }\n",
              "</style>\n",
              "<table border=\"1\" class=\"dataframe\">\n",
              "  <thead>\n",
              "    <tr style=\"text-align: right;\">\n",
              "      <th></th>\n",
              "      <th>Row ID</th>\n",
              "      <th>Discount</th>\n",
              "      <th>Unit Price</th>\n",
              "      <th>Shipping Cost</th>\n",
              "      <th>Customer ID</th>\n",
              "      <th>Product Base Margin</th>\n",
              "      <th>Postal Code</th>\n",
              "      <th>Profit</th>\n",
              "      <th>Quantity ordered new</th>\n",
              "      <th>Sales</th>\n",
              "      <th>Order ID</th>\n",
              "    </tr>\n",
              "  </thead>\n",
              "  <tbody>\n",
              "    <tr>\n",
              "      <th>count</th>\n",
              "      <td>1952.000000</td>\n",
              "      <td>1952.000000</td>\n",
              "      <td>1952.000000</td>\n",
              "      <td>1952.000000</td>\n",
              "      <td>1952.000000</td>\n",
              "      <td>1936.000000</td>\n",
              "      <td>1952.000000</td>\n",
              "      <td>1952.000000</td>\n",
              "      <td>1952.000000</td>\n",
              "      <td>1952.000000</td>\n",
              "      <td>1952.000000</td>\n",
              "    </tr>\n",
              "    <tr>\n",
              "      <th>mean</th>\n",
              "      <td>19916.479508</td>\n",
              "      <td>0.048975</td>\n",
              "      <td>109.079221</td>\n",
              "      <td>12.968151</td>\n",
              "      <td>1735.376537</td>\n",
              "      <td>0.515186</td>\n",
              "      <td>51534.769467</td>\n",
              "      <td>114.793859</td>\n",
              "      <td>12.944672</td>\n",
              "      <td>985.828832</td>\n",
              "      <td>82365.924180</td>\n",
              "    </tr>\n",
              "    <tr>\n",
              "      <th>std</th>\n",
              "      <td>5957.595627</td>\n",
              "      <td>0.031378</td>\n",
              "      <td>393.481301</td>\n",
              "      <td>17.414631</td>\n",
              "      <td>991.078006</td>\n",
              "      <td>0.137055</td>\n",
              "      <td>29362.828420</td>\n",
              "      <td>1141.112387</td>\n",
              "      <td>13.871565</td>\n",
              "      <td>2559.900167</td>\n",
              "      <td>19042.295798</td>\n",
              "    </tr>\n",
              "    <tr>\n",
              "      <th>min</th>\n",
              "      <td>64.000000</td>\n",
              "      <td>0.000000</td>\n",
              "      <td>1.140000</td>\n",
              "      <td>0.490000</td>\n",
              "      <td>3.000000</td>\n",
              "      <td>0.350000</td>\n",
              "      <td>1001.000000</td>\n",
              "      <td>-16476.838000</td>\n",
              "      <td>1.000000</td>\n",
              "      <td>2.250000</td>\n",
              "      <td>359.000000</td>\n",
              "    </tr>\n",
              "    <tr>\n",
              "      <th>25%</th>\n",
              "      <td>19121.000000</td>\n",
              "      <td>0.020000</td>\n",
              "      <td>6.480000</td>\n",
              "      <td>3.230000</td>\n",
              "      <td>875.000000</td>\n",
              "      <td>0.380000</td>\n",
              "      <td>28560.000000</td>\n",
              "      <td>-84.485400</td>\n",
              "      <td>5.000000</td>\n",
              "      <td>58.807500</td>\n",
              "      <td>86767.750000</td>\n",
              "    </tr>\n",
              "    <tr>\n",
              "      <th>50%</th>\n",
              "      <td>21164.500000</td>\n",
              "      <td>0.050000</td>\n",
              "      <td>20.990000</td>\n",
              "      <td>6.150000</td>\n",
              "      <td>1738.000000</td>\n",
              "      <td>0.525000</td>\n",
              "      <td>48765.500000</td>\n",
              "      <td>1.476450</td>\n",
              "      <td>10.000000</td>\n",
              "      <td>202.395000</td>\n",
              "      <td>88376.000000</td>\n",
              "    </tr>\n",
              "    <tr>\n",
              "      <th>75%</th>\n",
              "      <td>23483.250000</td>\n",
              "      <td>0.080000</td>\n",
              "      <td>100.972500</td>\n",
              "      <td>14.362500</td>\n",
              "      <td>2578.250000</td>\n",
              "      <td>0.590000</td>\n",
              "      <td>78550.000000</td>\n",
              "      <td>116.201575</td>\n",
              "      <td>16.000000</td>\n",
              "      <td>802.945000</td>\n",
              "      <td>89957.000000</td>\n",
              "    </tr>\n",
              "    <tr>\n",
              "      <th>max</th>\n",
              "      <td>26389.000000</td>\n",
              "      <td>0.210000</td>\n",
              "      <td>6783.020000</td>\n",
              "      <td>164.730000</td>\n",
              "      <td>3403.000000</td>\n",
              "      <td>0.850000</td>\n",
              "      <td>99362.000000</td>\n",
              "      <td>9228.225600</td>\n",
              "      <td>167.000000</td>\n",
              "      <td>45737.330000</td>\n",
              "      <td>91586.000000</td>\n",
              "    </tr>\n",
              "  </tbody>\n",
              "</table>\n",
              "</div>\n",
              "    <div class=\"colab-df-buttons\">\n",
              "\n",
              "  <div class=\"colab-df-container\">\n",
              "    <button class=\"colab-df-convert\" onclick=\"convertToInteractive('df-58d4a5e8-28c1-421d-9233-68c4f605b5b1')\"\n",
              "            title=\"Convert this dataframe to an interactive table.\"\n",
              "            style=\"display:none;\">\n",
              "\n",
              "  <svg xmlns=\"http://www.w3.org/2000/svg\" height=\"24px\" viewBox=\"0 -960 960 960\">\n",
              "    <path d=\"M120-120v-720h720v720H120Zm60-500h600v-160H180v160Zm220 220h160v-160H400v160Zm0 220h160v-160H400v160ZM180-400h160v-160H180v160Zm440 0h160v-160H620v160ZM180-180h160v-160H180v160Zm440 0h160v-160H620v160Z\"/>\n",
              "  </svg>\n",
              "    </button>\n",
              "\n",
              "  <style>\n",
              "    .colab-df-container {\n",
              "      display:flex;\n",
              "      gap: 12px;\n",
              "    }\n",
              "\n",
              "    .colab-df-convert {\n",
              "      background-color: #E8F0FE;\n",
              "      border: none;\n",
              "      border-radius: 50%;\n",
              "      cursor: pointer;\n",
              "      display: none;\n",
              "      fill: #1967D2;\n",
              "      height: 32px;\n",
              "      padding: 0 0 0 0;\n",
              "      width: 32px;\n",
              "    }\n",
              "\n",
              "    .colab-df-convert:hover {\n",
              "      background-color: #E2EBFA;\n",
              "      box-shadow: 0px 1px 2px rgba(60, 64, 67, 0.3), 0px 1px 3px 1px rgba(60, 64, 67, 0.15);\n",
              "      fill: #174EA6;\n",
              "    }\n",
              "\n",
              "    .colab-df-buttons div {\n",
              "      margin-bottom: 4px;\n",
              "    }\n",
              "\n",
              "    [theme=dark] .colab-df-convert {\n",
              "      background-color: #3B4455;\n",
              "      fill: #D2E3FC;\n",
              "    }\n",
              "\n",
              "    [theme=dark] .colab-df-convert:hover {\n",
              "      background-color: #434B5C;\n",
              "      box-shadow: 0px 1px 3px 1px rgba(0, 0, 0, 0.15);\n",
              "      filter: drop-shadow(0px 1px 2px rgba(0, 0, 0, 0.3));\n",
              "      fill: #FFFFFF;\n",
              "    }\n",
              "  </style>\n",
              "\n",
              "    <script>\n",
              "      const buttonEl =\n",
              "        document.querySelector('#df-58d4a5e8-28c1-421d-9233-68c4f605b5b1 button.colab-df-convert');\n",
              "      buttonEl.style.display =\n",
              "        google.colab.kernel.accessAllowed ? 'block' : 'none';\n",
              "\n",
              "      async function convertToInteractive(key) {\n",
              "        const element = document.querySelector('#df-58d4a5e8-28c1-421d-9233-68c4f605b5b1');\n",
              "        const dataTable =\n",
              "          await google.colab.kernel.invokeFunction('convertToInteractive',\n",
              "                                                    [key], {});\n",
              "        if (!dataTable) return;\n",
              "\n",
              "        const docLinkHtml = 'Like what you see? Visit the ' +\n",
              "          '<a target=\"_blank\" href=https://colab.research.google.com/notebooks/data_table.ipynb>data table notebook</a>'\n",
              "          + ' to learn more about interactive tables.';\n",
              "        element.innerHTML = '';\n",
              "        dataTable['output_type'] = 'display_data';\n",
              "        await google.colab.output.renderOutput(dataTable, element);\n",
              "        const docLink = document.createElement('div');\n",
              "        docLink.innerHTML = docLinkHtml;\n",
              "        element.appendChild(docLink);\n",
              "      }\n",
              "    </script>\n",
              "  </div>\n",
              "\n",
              "\n",
              "<div id=\"df-7bcaf09f-3dba-4f5f-a239-80bea5c2ffe2\">\n",
              "  <button class=\"colab-df-quickchart\" onclick=\"quickchart('df-7bcaf09f-3dba-4f5f-a239-80bea5c2ffe2')\"\n",
              "            title=\"Suggest charts.\"\n",
              "            style=\"display:none;\">\n",
              "\n",
              "<svg xmlns=\"http://www.w3.org/2000/svg\" height=\"24px\"viewBox=\"0 0 24 24\"\n",
              "     width=\"24px\">\n",
              "    <g>\n",
              "        <path d=\"M19 3H5c-1.1 0-2 .9-2 2v14c0 1.1.9 2 2 2h14c1.1 0 2-.9 2-2V5c0-1.1-.9-2-2-2zM9 17H7v-7h2v7zm4 0h-2V7h2v10zm4 0h-2v-4h2v4z\"/>\n",
              "    </g>\n",
              "</svg>\n",
              "  </button>\n",
              "\n",
              "<style>\n",
              "  .colab-df-quickchart {\n",
              "      --bg-color: #E8F0FE;\n",
              "      --fill-color: #1967D2;\n",
              "      --hover-bg-color: #E2EBFA;\n",
              "      --hover-fill-color: #174EA6;\n",
              "      --disabled-fill-color: #AAA;\n",
              "      --disabled-bg-color: #DDD;\n",
              "  }\n",
              "\n",
              "  [theme=dark] .colab-df-quickchart {\n",
              "      --bg-color: #3B4455;\n",
              "      --fill-color: #D2E3FC;\n",
              "      --hover-bg-color: #434B5C;\n",
              "      --hover-fill-color: #FFFFFF;\n",
              "      --disabled-bg-color: #3B4455;\n",
              "      --disabled-fill-color: #666;\n",
              "  }\n",
              "\n",
              "  .colab-df-quickchart {\n",
              "    background-color: var(--bg-color);\n",
              "    border: none;\n",
              "    border-radius: 50%;\n",
              "    cursor: pointer;\n",
              "    display: none;\n",
              "    fill: var(--fill-color);\n",
              "    height: 32px;\n",
              "    padding: 0;\n",
              "    width: 32px;\n",
              "  }\n",
              "\n",
              "  .colab-df-quickchart:hover {\n",
              "    background-color: var(--hover-bg-color);\n",
              "    box-shadow: 0 1px 2px rgba(60, 64, 67, 0.3), 0 1px 3px 1px rgba(60, 64, 67, 0.15);\n",
              "    fill: var(--button-hover-fill-color);\n",
              "  }\n",
              "\n",
              "  .colab-df-quickchart-complete:disabled,\n",
              "  .colab-df-quickchart-complete:disabled:hover {\n",
              "    background-color: var(--disabled-bg-color);\n",
              "    fill: var(--disabled-fill-color);\n",
              "    box-shadow: none;\n",
              "  }\n",
              "\n",
              "  .colab-df-spinner {\n",
              "    border: 2px solid var(--fill-color);\n",
              "    border-color: transparent;\n",
              "    border-bottom-color: var(--fill-color);\n",
              "    animation:\n",
              "      spin 1s steps(1) infinite;\n",
              "  }\n",
              "\n",
              "  @keyframes spin {\n",
              "    0% {\n",
              "      border-color: transparent;\n",
              "      border-bottom-color: var(--fill-color);\n",
              "      border-left-color: var(--fill-color);\n",
              "    }\n",
              "    20% {\n",
              "      border-color: transparent;\n",
              "      border-left-color: var(--fill-color);\n",
              "      border-top-color: var(--fill-color);\n",
              "    }\n",
              "    30% {\n",
              "      border-color: transparent;\n",
              "      border-left-color: var(--fill-color);\n",
              "      border-top-color: var(--fill-color);\n",
              "      border-right-color: var(--fill-color);\n",
              "    }\n",
              "    40% {\n",
              "      border-color: transparent;\n",
              "      border-right-color: var(--fill-color);\n",
              "      border-top-color: var(--fill-color);\n",
              "    }\n",
              "    60% {\n",
              "      border-color: transparent;\n",
              "      border-right-color: var(--fill-color);\n",
              "    }\n",
              "    80% {\n",
              "      border-color: transparent;\n",
              "      border-right-color: var(--fill-color);\n",
              "      border-bottom-color: var(--fill-color);\n",
              "    }\n",
              "    90% {\n",
              "      border-color: transparent;\n",
              "      border-bottom-color: var(--fill-color);\n",
              "    }\n",
              "  }\n",
              "</style>\n",
              "\n",
              "  <script>\n",
              "    async function quickchart(key) {\n",
              "      const quickchartButtonEl =\n",
              "        document.querySelector('#' + key + ' button');\n",
              "      quickchartButtonEl.disabled = true;  // To prevent multiple clicks.\n",
              "      quickchartButtonEl.classList.add('colab-df-spinner');\n",
              "      try {\n",
              "        const charts = await google.colab.kernel.invokeFunction(\n",
              "            'suggestCharts', [key], {});\n",
              "      } catch (error) {\n",
              "        console.error('Error during call to suggestCharts:', error);\n",
              "      }\n",
              "      quickchartButtonEl.classList.remove('colab-df-spinner');\n",
              "      quickchartButtonEl.classList.add('colab-df-quickchart-complete');\n",
              "    }\n",
              "    (() => {\n",
              "      let quickchartButtonEl =\n",
              "        document.querySelector('#df-7bcaf09f-3dba-4f5f-a239-80bea5c2ffe2 button');\n",
              "      quickchartButtonEl.style.display =\n",
              "        google.colab.kernel.accessAllowed ? 'block' : 'none';\n",
              "    })();\n",
              "  </script>\n",
              "</div>\n",
              "    </div>\n",
              "  </div>\n"
            ]
          },
          "metadata": {},
          "execution_count": 5
        }
      ],
      "source": [
        "df.describe()"
      ]
    },
    {
      "cell_type": "markdown",
      "source": [
        "df.info shows each attribute with the number of instances as well as their data type"
      ],
      "metadata": {
        "id": "G6aBEZHNH5_7"
      }
    },
    {
      "cell_type": "code",
      "execution_count": null,
      "metadata": {
        "colab": {
          "base_uri": "https://localhost:8080/"
        },
        "id": "-02AwoBuQqdr",
        "outputId": "764593bb-a7a5-45ce-ea5e-9627bb27a236"
      },
      "outputs": [
        {
          "output_type": "stream",
          "name": "stdout",
          "text": [
            "<class 'pandas.core.frame.DataFrame'>\n",
            "RangeIndex: 1953 entries, 0 to 1952\n",
            "Data columns (total 25 columns):\n",
            " #   Column                Non-Null Count  Dtype  \n",
            "---  ------                --------------  -----  \n",
            " 0   Row ID                1952 non-null   float64\n",
            " 1   Order Priority        1952 non-null   object \n",
            " 2   Discount              1952 non-null   float64\n",
            " 3   Unit Price            1952 non-null   float64\n",
            " 4   Shipping Cost         1952 non-null   float64\n",
            " 5   Customer ID           1952 non-null   float64\n",
            " 6   Customer Name         1952 non-null   object \n",
            " 7   Ship Mode             1952 non-null   object \n",
            " 8   Customer Segment      1952 non-null   object \n",
            " 9   Product Category      1952 non-null   object \n",
            " 10  Product Sub-Category  1952 non-null   object \n",
            " 11  Product Container     1952 non-null   object \n",
            " 12  Product Name          1952 non-null   object \n",
            " 13  Product Base Margin   1936 non-null   float64\n",
            " 14  Country               1952 non-null   object \n",
            " 15  Region                1952 non-null   object \n",
            " 16  State or Province     1952 non-null   object \n",
            " 17  City                  1952 non-null   object \n",
            " 18  Postal Code           1952 non-null   float64\n",
            " 19  Order Date            1952 non-null   object \n",
            " 20  Ship Date             1952 non-null   object \n",
            " 21  Profit                1952 non-null   float64\n",
            " 22  Quantity ordered new  1952 non-null   float64\n",
            " 23  Sales                 1952 non-null   float64\n",
            " 24  Order ID              1952 non-null   float64\n",
            "dtypes: float64(11), object(14)\n",
            "memory usage: 381.6+ KB\n"
          ]
        }
      ],
      "source": [
        "df.info()"
      ]
    },
    {
      "cell_type": "markdown",
      "metadata": {
        "id": "Td8oT9_gTHaG"
      },
      "source": [
        "## calling a method that shows the missing values in each column"
      ]
    },
    {
      "cell_type": "markdown",
      "source": [
        "DATA CLEANING\n"
      ],
      "metadata": {
        "id": "dbFh-Z2KpGzh"
      }
    },
    {
      "cell_type": "code",
      "execution_count": null,
      "metadata": {
        "colab": {
          "base_uri": "https://localhost:8080/"
        },
        "id": "YcIbWpmeQusI",
        "outputId": "4e8c65bb-c98b-4c60-d44b-765a92bed1f5"
      },
      "outputs": [
        {
          "output_type": "execute_result",
          "data": {
            "text/plain": [
              "Row ID                   1\n",
              "Order Priority           1\n",
              "Discount                 1\n",
              "Unit Price               1\n",
              "Shipping Cost            1\n",
              "Customer ID              1\n",
              "Customer Name            1\n",
              "Ship Mode                1\n",
              "Customer Segment         1\n",
              "Product Category         1\n",
              "Product Sub-Category     1\n",
              "Product Container        1\n",
              "Product Name             1\n",
              "Product Base Margin     17\n",
              "Country                  1\n",
              "Region                   1\n",
              "State or Province        1\n",
              "City                     1\n",
              "Postal Code              1\n",
              "Order Date               1\n",
              "Ship Date                1\n",
              "Profit                   1\n",
              "Quantity ordered new     1\n",
              "Sales                    1\n",
              "Order ID                 1\n",
              "dtype: int64"
            ]
          },
          "metadata": {},
          "execution_count": 7
        }
      ],
      "source": [
        "df.isnull().sum()"
      ]
    },
    {
      "cell_type": "code",
      "execution_count": null,
      "metadata": {
        "colab": {
          "base_uri": "https://localhost:8080/",
          "height": 377
        },
        "id": "5KjCrKArQxYx",
        "outputId": "658b7089-4006-4824-eb12-cd4f18450a0a"
      },
      "outputs": [
        {
          "output_type": "execute_result",
          "data": {
            "text/plain": [
              "    Row ID Order Priority  Discount  Unit Price  Shipping Cost  Customer ID  \\\n",
              "0  20847.0           High      0.01        2.84           0.93          3.0   \n",
              "1  20228.0  Not Specified      0.02      500.98          26.00          5.0   \n",
              "2  21776.0       Critical      0.06        9.48           7.29         11.0   \n",
              "3  24844.0         Medium      0.09       78.69          19.99         14.0   \n",
              "4  24846.0         Medium      0.08        3.28           2.31         14.0   \n",
              "\n",
              "       Customer Name       Ship Mode Customer Segment Product Category  ...  \\\n",
              "0      Bonnie Potter     Express Air        Corporate  Office Supplies  ...   \n",
              "1     Ronnie Proctor  Delivery Truck      Home Office        Furniture  ...   \n",
              "2      Marcus Dunlap     Regular Air      Home Office        Furniture  ...   \n",
              "3  Gwendolyn F Tyson     Regular Air   Small Business        Furniture  ...   \n",
              "4  Gwendolyn F Tyson     Regular Air   Small Business  Office Supplies  ...   \n",
              "\n",
              "    Region State or Province         City  Postal Code  Order Date  \\\n",
              "0     West        Washington    Anacortes      98221.0  07/01/2015   \n",
              "1     West        California  San Gabriel      91776.0  13/06/2015   \n",
              "2     East        New Jersey      Roselle       7203.0  15/02/2015   \n",
              "3  Central         Minnesota   Prior Lake      55372.0  12/05/2015   \n",
              "4  Central         Minnesota   Prior Lake      55372.0  12/05/2015   \n",
              "\n",
              "    Ship Date     Profit Quantity ordered new    Sales Order ID  \n",
              "0  08/01/2015     4.5600                  4.0    13.01  88522.0  \n",
              "1  15/06/2015  4390.3665                 12.0  6362.85  90193.0  \n",
              "2  17/02/2015   -53.8096                 22.0   211.15  90192.0  \n",
              "3  14/05/2015   803.4705                 16.0  1164.45  86838.0  \n",
              "4  13/05/2015   -24.0300                  7.0    22.23  86838.0  \n",
              "\n",
              "[5 rows x 25 columns]"
            ],
            "text/html": [
              "\n",
              "  <div id=\"df-a5a791d1-99cc-464f-93ee-4f5e7b087ba5\" class=\"colab-df-container\">\n",
              "    <div>\n",
              "<style scoped>\n",
              "    .dataframe tbody tr th:only-of-type {\n",
              "        vertical-align: middle;\n",
              "    }\n",
              "\n",
              "    .dataframe tbody tr th {\n",
              "        vertical-align: top;\n",
              "    }\n",
              "\n",
              "    .dataframe thead th {\n",
              "        text-align: right;\n",
              "    }\n",
              "</style>\n",
              "<table border=\"1\" class=\"dataframe\">\n",
              "  <thead>\n",
              "    <tr style=\"text-align: right;\">\n",
              "      <th></th>\n",
              "      <th>Row ID</th>\n",
              "      <th>Order Priority</th>\n",
              "      <th>Discount</th>\n",
              "      <th>Unit Price</th>\n",
              "      <th>Shipping Cost</th>\n",
              "      <th>Customer ID</th>\n",
              "      <th>Customer Name</th>\n",
              "      <th>Ship Mode</th>\n",
              "      <th>Customer Segment</th>\n",
              "      <th>Product Category</th>\n",
              "      <th>...</th>\n",
              "      <th>Region</th>\n",
              "      <th>State or Province</th>\n",
              "      <th>City</th>\n",
              "      <th>Postal Code</th>\n",
              "      <th>Order Date</th>\n",
              "      <th>Ship Date</th>\n",
              "      <th>Profit</th>\n",
              "      <th>Quantity ordered new</th>\n",
              "      <th>Sales</th>\n",
              "      <th>Order ID</th>\n",
              "    </tr>\n",
              "  </thead>\n",
              "  <tbody>\n",
              "    <tr>\n",
              "      <th>0</th>\n",
              "      <td>20847.0</td>\n",
              "      <td>High</td>\n",
              "      <td>0.01</td>\n",
              "      <td>2.84</td>\n",
              "      <td>0.93</td>\n",
              "      <td>3.0</td>\n",
              "      <td>Bonnie Potter</td>\n",
              "      <td>Express Air</td>\n",
              "      <td>Corporate</td>\n",
              "      <td>Office Supplies</td>\n",
              "      <td>...</td>\n",
              "      <td>West</td>\n",
              "      <td>Washington</td>\n",
              "      <td>Anacortes</td>\n",
              "      <td>98221.0</td>\n",
              "      <td>07/01/2015</td>\n",
              "      <td>08/01/2015</td>\n",
              "      <td>4.5600</td>\n",
              "      <td>4.0</td>\n",
              "      <td>13.01</td>\n",
              "      <td>88522.0</td>\n",
              "    </tr>\n",
              "    <tr>\n",
              "      <th>1</th>\n",
              "      <td>20228.0</td>\n",
              "      <td>Not Specified</td>\n",
              "      <td>0.02</td>\n",
              "      <td>500.98</td>\n",
              "      <td>26.00</td>\n",
              "      <td>5.0</td>\n",
              "      <td>Ronnie Proctor</td>\n",
              "      <td>Delivery Truck</td>\n",
              "      <td>Home Office</td>\n",
              "      <td>Furniture</td>\n",
              "      <td>...</td>\n",
              "      <td>West</td>\n",
              "      <td>California</td>\n",
              "      <td>San Gabriel</td>\n",
              "      <td>91776.0</td>\n",
              "      <td>13/06/2015</td>\n",
              "      <td>15/06/2015</td>\n",
              "      <td>4390.3665</td>\n",
              "      <td>12.0</td>\n",
              "      <td>6362.85</td>\n",
              "      <td>90193.0</td>\n",
              "    </tr>\n",
              "    <tr>\n",
              "      <th>2</th>\n",
              "      <td>21776.0</td>\n",
              "      <td>Critical</td>\n",
              "      <td>0.06</td>\n",
              "      <td>9.48</td>\n",
              "      <td>7.29</td>\n",
              "      <td>11.0</td>\n",
              "      <td>Marcus Dunlap</td>\n",
              "      <td>Regular Air</td>\n",
              "      <td>Home Office</td>\n",
              "      <td>Furniture</td>\n",
              "      <td>...</td>\n",
              "      <td>East</td>\n",
              "      <td>New Jersey</td>\n",
              "      <td>Roselle</td>\n",
              "      <td>7203.0</td>\n",
              "      <td>15/02/2015</td>\n",
              "      <td>17/02/2015</td>\n",
              "      <td>-53.8096</td>\n",
              "      <td>22.0</td>\n",
              "      <td>211.15</td>\n",
              "      <td>90192.0</td>\n",
              "    </tr>\n",
              "    <tr>\n",
              "      <th>3</th>\n",
              "      <td>24844.0</td>\n",
              "      <td>Medium</td>\n",
              "      <td>0.09</td>\n",
              "      <td>78.69</td>\n",
              "      <td>19.99</td>\n",
              "      <td>14.0</td>\n",
              "      <td>Gwendolyn F Tyson</td>\n",
              "      <td>Regular Air</td>\n",
              "      <td>Small Business</td>\n",
              "      <td>Furniture</td>\n",
              "      <td>...</td>\n",
              "      <td>Central</td>\n",
              "      <td>Minnesota</td>\n",
              "      <td>Prior Lake</td>\n",
              "      <td>55372.0</td>\n",
              "      <td>12/05/2015</td>\n",
              "      <td>14/05/2015</td>\n",
              "      <td>803.4705</td>\n",
              "      <td>16.0</td>\n",
              "      <td>1164.45</td>\n",
              "      <td>86838.0</td>\n",
              "    </tr>\n",
              "    <tr>\n",
              "      <th>4</th>\n",
              "      <td>24846.0</td>\n",
              "      <td>Medium</td>\n",
              "      <td>0.08</td>\n",
              "      <td>3.28</td>\n",
              "      <td>2.31</td>\n",
              "      <td>14.0</td>\n",
              "      <td>Gwendolyn F Tyson</td>\n",
              "      <td>Regular Air</td>\n",
              "      <td>Small Business</td>\n",
              "      <td>Office Supplies</td>\n",
              "      <td>...</td>\n",
              "      <td>Central</td>\n",
              "      <td>Minnesota</td>\n",
              "      <td>Prior Lake</td>\n",
              "      <td>55372.0</td>\n",
              "      <td>12/05/2015</td>\n",
              "      <td>13/05/2015</td>\n",
              "      <td>-24.0300</td>\n",
              "      <td>7.0</td>\n",
              "      <td>22.23</td>\n",
              "      <td>86838.0</td>\n",
              "    </tr>\n",
              "  </tbody>\n",
              "</table>\n",
              "<p>5 rows × 25 columns</p>\n",
              "</div>\n",
              "    <div class=\"colab-df-buttons\">\n",
              "\n",
              "  <div class=\"colab-df-container\">\n",
              "    <button class=\"colab-df-convert\" onclick=\"convertToInteractive('df-a5a791d1-99cc-464f-93ee-4f5e7b087ba5')\"\n",
              "            title=\"Convert this dataframe to an interactive table.\"\n",
              "            style=\"display:none;\">\n",
              "\n",
              "  <svg xmlns=\"http://www.w3.org/2000/svg\" height=\"24px\" viewBox=\"0 -960 960 960\">\n",
              "    <path d=\"M120-120v-720h720v720H120Zm60-500h600v-160H180v160Zm220 220h160v-160H400v160Zm0 220h160v-160H400v160ZM180-400h160v-160H180v160Zm440 0h160v-160H620v160ZM180-180h160v-160H180v160Zm440 0h160v-160H620v160Z\"/>\n",
              "  </svg>\n",
              "    </button>\n",
              "\n",
              "  <style>\n",
              "    .colab-df-container {\n",
              "      display:flex;\n",
              "      gap: 12px;\n",
              "    }\n",
              "\n",
              "    .colab-df-convert {\n",
              "      background-color: #E8F0FE;\n",
              "      border: none;\n",
              "      border-radius: 50%;\n",
              "      cursor: pointer;\n",
              "      display: none;\n",
              "      fill: #1967D2;\n",
              "      height: 32px;\n",
              "      padding: 0 0 0 0;\n",
              "      width: 32px;\n",
              "    }\n",
              "\n",
              "    .colab-df-convert:hover {\n",
              "      background-color: #E2EBFA;\n",
              "      box-shadow: 0px 1px 2px rgba(60, 64, 67, 0.3), 0px 1px 3px 1px rgba(60, 64, 67, 0.15);\n",
              "      fill: #174EA6;\n",
              "    }\n",
              "\n",
              "    .colab-df-buttons div {\n",
              "      margin-bottom: 4px;\n",
              "    }\n",
              "\n",
              "    [theme=dark] .colab-df-convert {\n",
              "      background-color: #3B4455;\n",
              "      fill: #D2E3FC;\n",
              "    }\n",
              "\n",
              "    [theme=dark] .colab-df-convert:hover {\n",
              "      background-color: #434B5C;\n",
              "      box-shadow: 0px 1px 3px 1px rgba(0, 0, 0, 0.15);\n",
              "      filter: drop-shadow(0px 1px 2px rgba(0, 0, 0, 0.3));\n",
              "      fill: #FFFFFF;\n",
              "    }\n",
              "  </style>\n",
              "\n",
              "    <script>\n",
              "      const buttonEl =\n",
              "        document.querySelector('#df-a5a791d1-99cc-464f-93ee-4f5e7b087ba5 button.colab-df-convert');\n",
              "      buttonEl.style.display =\n",
              "        google.colab.kernel.accessAllowed ? 'block' : 'none';\n",
              "\n",
              "      async function convertToInteractive(key) {\n",
              "        const element = document.querySelector('#df-a5a791d1-99cc-464f-93ee-4f5e7b087ba5');\n",
              "        const dataTable =\n",
              "          await google.colab.kernel.invokeFunction('convertToInteractive',\n",
              "                                                    [key], {});\n",
              "        if (!dataTable) return;\n",
              "\n",
              "        const docLinkHtml = 'Like what you see? Visit the ' +\n",
              "          '<a target=\"_blank\" href=https://colab.research.google.com/notebooks/data_table.ipynb>data table notebook</a>'\n",
              "          + ' to learn more about interactive tables.';\n",
              "        element.innerHTML = '';\n",
              "        dataTable['output_type'] = 'display_data';\n",
              "        await google.colab.output.renderOutput(dataTable, element);\n",
              "        const docLink = document.createElement('div');\n",
              "        docLink.innerHTML = docLinkHtml;\n",
              "        element.appendChild(docLink);\n",
              "      }\n",
              "    </script>\n",
              "  </div>\n",
              "\n",
              "\n",
              "<div id=\"df-44e49ef7-8a70-4552-9e0f-0e3596cfa754\">\n",
              "  <button class=\"colab-df-quickchart\" onclick=\"quickchart('df-44e49ef7-8a70-4552-9e0f-0e3596cfa754')\"\n",
              "            title=\"Suggest charts.\"\n",
              "            style=\"display:none;\">\n",
              "\n",
              "<svg xmlns=\"http://www.w3.org/2000/svg\" height=\"24px\"viewBox=\"0 0 24 24\"\n",
              "     width=\"24px\">\n",
              "    <g>\n",
              "        <path d=\"M19 3H5c-1.1 0-2 .9-2 2v14c0 1.1.9 2 2 2h14c1.1 0 2-.9 2-2V5c0-1.1-.9-2-2-2zM9 17H7v-7h2v7zm4 0h-2V7h2v10zm4 0h-2v-4h2v4z\"/>\n",
              "    </g>\n",
              "</svg>\n",
              "  </button>\n",
              "\n",
              "<style>\n",
              "  .colab-df-quickchart {\n",
              "      --bg-color: #E8F0FE;\n",
              "      --fill-color: #1967D2;\n",
              "      --hover-bg-color: #E2EBFA;\n",
              "      --hover-fill-color: #174EA6;\n",
              "      --disabled-fill-color: #AAA;\n",
              "      --disabled-bg-color: #DDD;\n",
              "  }\n",
              "\n",
              "  [theme=dark] .colab-df-quickchart {\n",
              "      --bg-color: #3B4455;\n",
              "      --fill-color: #D2E3FC;\n",
              "      --hover-bg-color: #434B5C;\n",
              "      --hover-fill-color: #FFFFFF;\n",
              "      --disabled-bg-color: #3B4455;\n",
              "      --disabled-fill-color: #666;\n",
              "  }\n",
              "\n",
              "  .colab-df-quickchart {\n",
              "    background-color: var(--bg-color);\n",
              "    border: none;\n",
              "    border-radius: 50%;\n",
              "    cursor: pointer;\n",
              "    display: none;\n",
              "    fill: var(--fill-color);\n",
              "    height: 32px;\n",
              "    padding: 0;\n",
              "    width: 32px;\n",
              "  }\n",
              "\n",
              "  .colab-df-quickchart:hover {\n",
              "    background-color: var(--hover-bg-color);\n",
              "    box-shadow: 0 1px 2px rgba(60, 64, 67, 0.3), 0 1px 3px 1px rgba(60, 64, 67, 0.15);\n",
              "    fill: var(--button-hover-fill-color);\n",
              "  }\n",
              "\n",
              "  .colab-df-quickchart-complete:disabled,\n",
              "  .colab-df-quickchart-complete:disabled:hover {\n",
              "    background-color: var(--disabled-bg-color);\n",
              "    fill: var(--disabled-fill-color);\n",
              "    box-shadow: none;\n",
              "  }\n",
              "\n",
              "  .colab-df-spinner {\n",
              "    border: 2px solid var(--fill-color);\n",
              "    border-color: transparent;\n",
              "    border-bottom-color: var(--fill-color);\n",
              "    animation:\n",
              "      spin 1s steps(1) infinite;\n",
              "  }\n",
              "\n",
              "  @keyframes spin {\n",
              "    0% {\n",
              "      border-color: transparent;\n",
              "      border-bottom-color: var(--fill-color);\n",
              "      border-left-color: var(--fill-color);\n",
              "    }\n",
              "    20% {\n",
              "      border-color: transparent;\n",
              "      border-left-color: var(--fill-color);\n",
              "      border-top-color: var(--fill-color);\n",
              "    }\n",
              "    30% {\n",
              "      border-color: transparent;\n",
              "      border-left-color: var(--fill-color);\n",
              "      border-top-color: var(--fill-color);\n",
              "      border-right-color: var(--fill-color);\n",
              "    }\n",
              "    40% {\n",
              "      border-color: transparent;\n",
              "      border-right-color: var(--fill-color);\n",
              "      border-top-color: var(--fill-color);\n",
              "    }\n",
              "    60% {\n",
              "      border-color: transparent;\n",
              "      border-right-color: var(--fill-color);\n",
              "    }\n",
              "    80% {\n",
              "      border-color: transparent;\n",
              "      border-right-color: var(--fill-color);\n",
              "      border-bottom-color: var(--fill-color);\n",
              "    }\n",
              "    90% {\n",
              "      border-color: transparent;\n",
              "      border-bottom-color: var(--fill-color);\n",
              "    }\n",
              "  }\n",
              "</style>\n",
              "\n",
              "  <script>\n",
              "    async function quickchart(key) {\n",
              "      const quickchartButtonEl =\n",
              "        document.querySelector('#' + key + ' button');\n",
              "      quickchartButtonEl.disabled = true;  // To prevent multiple clicks.\n",
              "      quickchartButtonEl.classList.add('colab-df-spinner');\n",
              "      try {\n",
              "        const charts = await google.colab.kernel.invokeFunction(\n",
              "            'suggestCharts', [key], {});\n",
              "      } catch (error) {\n",
              "        console.error('Error during call to suggestCharts:', error);\n",
              "      }\n",
              "      quickchartButtonEl.classList.remove('colab-df-spinner');\n",
              "      quickchartButtonEl.classList.add('colab-df-quickchart-complete');\n",
              "    }\n",
              "    (() => {\n",
              "      let quickchartButtonEl =\n",
              "        document.querySelector('#df-44e49ef7-8a70-4552-9e0f-0e3596cfa754 button');\n",
              "      quickchartButtonEl.style.display =\n",
              "        google.colab.kernel.accessAllowed ? 'block' : 'none';\n",
              "    })();\n",
              "  </script>\n",
              "</div>\n",
              "    </div>\n",
              "  </div>\n"
            ]
          },
          "metadata": {},
          "execution_count": 8
        }
      ],
      "source": [
        "df.head()"
      ]
    },
    {
      "cell_type": "markdown",
      "metadata": {
        "id": "_SXwm02YTaQ6"
      },
      "source": [
        "## the size of the dataset before preprocessing"
      ]
    },
    {
      "cell_type": "code",
      "execution_count": null,
      "metadata": {
        "colab": {
          "base_uri": "https://localhost:8080/"
        },
        "id": "5d85L8bIQ0eI",
        "outputId": "c980825e-45e2-4560-f5ee-2c51c059ee19"
      },
      "outputs": [
        {
          "output_type": "execute_result",
          "data": {
            "text/plain": [
              "(1953, 25)"
            ]
          },
          "metadata": {},
          "execution_count": 9
        }
      ],
      "source": [
        "df.shape"
      ]
    },
    {
      "cell_type": "code",
      "execution_count": null,
      "metadata": {
        "colab": {
          "base_uri": "https://localhost:8080/"
        },
        "id": "RBlODp8qQ5QC",
        "outputId": "8d2e6cf9-5cfd-4c32-87e9-b7637450ee9d"
      },
      "outputs": [
        {
          "output_type": "stream",
          "name": "stdout",
          "text": [
            "Missing values distribution: \n",
            "Row ID                  0.000512\n",
            "Order Priority          0.000512\n",
            "Discount                0.000512\n",
            "Unit Price              0.000512\n",
            "Shipping Cost           0.000512\n",
            "Customer ID             0.000512\n",
            "Customer Name           0.000512\n",
            "Ship Mode               0.000512\n",
            "Customer Segment        0.000512\n",
            "Product Category        0.000512\n",
            "Product Sub-Category    0.000512\n",
            "Product Container       0.000512\n",
            "Product Name            0.000512\n",
            "Product Base Margin     0.008705\n",
            "Country                 0.000512\n",
            "Region                  0.000512\n",
            "State or Province       0.000512\n",
            "City                    0.000512\n",
            "Postal Code             0.000512\n",
            "Order Date              0.000512\n",
            "Ship Date               0.000512\n",
            "Profit                  0.000512\n",
            "Quantity ordered new    0.000512\n",
            "Sales                   0.000512\n",
            "Order ID                0.000512\n",
            "dtype: float64\n"
          ]
        }
      ],
      "source": [
        "print(\"Missing values distribution: \")\n",
        "print(df.isnull().mean())"
      ]
    },
    {
      "cell_type": "code",
      "execution_count": null,
      "metadata": {
        "colab": {
          "base_uri": "https://localhost:8080/"
        },
        "id": "KPUwgB3wQ8mJ",
        "outputId": "56534157-a915-4190-917b-8c829fe64654"
      },
      "outputs": [
        {
          "output_type": "execute_result",
          "data": {
            "text/plain": [
              "United States    1952\n",
              "Name: Country, dtype: int64"
            ]
          },
          "metadata": {},
          "execution_count": 11
        }
      ],
      "source": [
        "df['Country'].value_counts()"
      ]
    },
    {
      "cell_type": "markdown",
      "source": [
        "Remove rows containing integers in 'Product Name', as the attribute had some int mixed in. For eg: 6160, 5155 and more\n"
      ],
      "metadata": {
        "id": "IwT3Wywfs2sI"
      }
    },
    {
      "cell_type": "code",
      "source": [
        "print(df['Product Name'][26:37])"
      ],
      "metadata": {
        "colab": {
          "base_uri": "https://localhost:8080/"
        },
        "id": "3TC-qMX-1Fi6",
        "outputId": "1cf5e2e0-7edd-4601-e19a-c7dc913e8f2a"
      },
      "execution_count": null,
      "outputs": [
        {
          "output_type": "stream",
          "name": "stdout",
          "text": [
            "26                                                 6160\n",
            "27    Okidata Pacemark 4410N Wide Format Dot Matrix ...\n",
            "28                                           Xerox 1903\n",
            "29                           Durable Pressboard Binders\n",
            "30                                           Newell 310\n",
            "31                                            Xerox 193\n",
            "32    Snap-A-Way® Black Print Carbonless Speed Messa...\n",
            "33                                            Avery 501\n",
            "34                                                 5165\n",
            "35                Dual Level, Single-Width Filing Carts\n",
            "36    Hon 4070 Series Pagoda™ Armless Upholstered St...\n",
            "Name: Product Name, dtype: object\n"
          ]
        }
      ]
    },
    {
      "cell_type": "code",
      "source": [
        "\n",
        "# df = df[~df['Product Name'].str.contains(r'\\d', na=False)]\n",
        "df['Product Name'] = df['Product Name'].astype(str)\n",
        "\n",
        "# Use a regular expression to identify rows containing only integers\n",
        "integer_rows = df['Product Name'].str.match(r'^\\d+$')\n",
        "\n",
        "# Remove rows containing only integers\n",
        "df = df[~integer_rows]\n",
        "# Now, 'df' only contains rows without integer values in 'Product Name'\n"
      ],
      "metadata": {
        "id": "nQzwegHgsUZ6"
      },
      "execution_count": null,
      "outputs": []
    },
    {
      "cell_type": "code",
      "source": [
        "print(df['Product Name'][26:37]) #successfully removes the int values"
      ],
      "metadata": {
        "colab": {
          "base_uri": "https://localhost:8080/"
        },
        "id": "itRbm1sPs5xK",
        "outputId": "2645de2f-dca8-4284-9da4-b9281690d131"
      },
      "execution_count": null,
      "outputs": [
        {
          "output_type": "stream",
          "name": "stdout",
          "text": [
            "27    Okidata Pacemark 4410N Wide Format Dot Matrix ...\n",
            "28                                           Xerox 1903\n",
            "29                           Durable Pressboard Binders\n",
            "30                                           Newell 310\n",
            "31                                            Xerox 193\n",
            "32    Snap-A-Way® Black Print Carbonless Speed Messa...\n",
            "33                                            Avery 501\n",
            "35                Dual Level, Single-Width Filing Carts\n",
            "36    Hon 4070 Series Pagoda™ Armless Upholstered St...\n",
            "37                          Hon Valutask™ Swivel Chairs\n",
            "38                Dual Level, Single-Width Filing Carts\n",
            "Name: Product Name, dtype: object\n"
          ]
        }
      ]
    },
    {
      "cell_type": "code",
      "source": [
        "df['Product Container'].value_counts()"
      ],
      "metadata": {
        "colab": {
          "base_uri": "https://localhost:8080/"
        },
        "id": "dhTlpcRUuBFu",
        "outputId": "bc85cd82-2248-43fd-f173-bf0c742024c8"
      },
      "execution_count": null,
      "outputs": [
        {
          "output_type": "execute_result",
          "data": {
            "text/plain": [
              "Small Box     952\n",
              "Wrap Bag      279\n",
              "Small Pack    219\n",
              "Jumbo Drum    152\n",
              "Jumbo Box     124\n",
              "Large Box     100\n",
              "Medium Box     87\n",
              "Name: Product Container, dtype: int64"
            ]
          },
          "metadata": {},
          "execution_count": 18
        }
      ]
    },
    {
      "cell_type": "markdown",
      "source": [
        "Above, only the Jumbo Drum stands out so we will assume its with Jumbo Box and replace it with Box instead of Drum"
      ],
      "metadata": {
        "id": "EvUuoBjUu4YK"
      }
    },
    {
      "cell_type": "code",
      "source": [
        "df['Product Container'] = df['Product Container'].replace('Jumbo Drum', 'Jumbo Box')"
      ],
      "metadata": {
        "id": "0wMUC2kjvCBR"
      },
      "execution_count": null,
      "outputs": []
    },
    {
      "cell_type": "code",
      "source": [
        "df['Product Container'].value_counts()"
      ],
      "metadata": {
        "colab": {
          "base_uri": "https://localhost:8080/"
        },
        "id": "QZbwDHC2vN4o",
        "outputId": "139fd8f9-2f78-4f50-e53c-bb9df328bb2b"
      },
      "execution_count": null,
      "outputs": [
        {
          "output_type": "execute_result",
          "data": {
            "text/plain": [
              "Small Box     952\n",
              "Wrap Bag      279\n",
              "Jumbo Box     276\n",
              "Small Pack    219\n",
              "Large Box     100\n",
              "Medium Box     87\n",
              "Name: Product Container, dtype: int64"
            ]
          },
          "metadata": {},
          "execution_count": 20
        }
      ]
    },
    {
      "cell_type": "markdown",
      "metadata": {
        "id": "QpoM8bMxUBfe"
      },
      "source": [
        "##Data Selection: Redundancy was found, in columns Country and Row id. So we will delete them"
      ]
    },
    {
      "cell_type": "code",
      "execution_count": null,
      "metadata": {
        "colab": {
          "base_uri": "https://localhost:8080/",
          "height": 377
        },
        "id": "14m5XMPWRNw8",
        "outputId": "ece8ce8a-3294-4bfa-cd1a-57ccb0eae948"
      },
      "outputs": [
        {
          "output_type": "execute_result",
          "data": {
            "text/plain": [
              "    Row ID Order Priority  Discount  Unit Price  Shipping Cost  Customer ID  \\\n",
              "0  20847.0           High      0.01        2.84           0.93          3.0   \n",
              "1  20228.0  Not Specified      0.02      500.98          26.00          5.0   \n",
              "2  21776.0       Critical      0.06        9.48           7.29         11.0   \n",
              "3  24844.0         Medium      0.09       78.69          19.99         14.0   \n",
              "4  24846.0         Medium      0.08        3.28           2.31         14.0   \n",
              "\n",
              "       Customer Name       Ship Mode Customer Segment Product Category  ...  \\\n",
              "0      Bonnie Potter     Express Air        Corporate  Office Supplies  ...   \n",
              "1     Ronnie Proctor  Delivery Truck      Home Office        Furniture  ...   \n",
              "2      Marcus Dunlap     Regular Air      Home Office        Furniture  ...   \n",
              "3  Gwendolyn F Tyson     Regular Air   Small Business        Furniture  ...   \n",
              "4  Gwendolyn F Tyson     Regular Air   Small Business  Office Supplies  ...   \n",
              "\n",
              "    Region State or Province         City  Postal Code  Order Date  \\\n",
              "0     West        Washington    Anacortes      98221.0  07/01/2015   \n",
              "1     West        California  San Gabriel      91776.0  13/06/2015   \n",
              "2     East        New Jersey      Roselle       7203.0  15/02/2015   \n",
              "3  Central         Minnesota   Prior Lake      55372.0  12/05/2015   \n",
              "4  Central         Minnesota   Prior Lake      55372.0  12/05/2015   \n",
              "\n",
              "    Ship Date     Profit  Quantity ordered new    Sales Order ID  \n",
              "0  08/01/2015     4.5600                   4.0    13.01  88522.0  \n",
              "1  15/06/2015  4390.3665                  12.0  6362.85  90193.0  \n",
              "2  17/02/2015   -53.8096                  22.0   211.15  90192.0  \n",
              "3  14/05/2015   803.4705                  16.0  1164.45  86838.0  \n",
              "4  13/05/2015   -24.0300                   7.0    22.23  86838.0  \n",
              "\n",
              "[5 rows x 24 columns]"
            ],
            "text/html": [
              "\n",
              "  <div id=\"df-c8e59b66-a330-40be-b09e-9e762e3d3914\" class=\"colab-df-container\">\n",
              "    <div>\n",
              "<style scoped>\n",
              "    .dataframe tbody tr th:only-of-type {\n",
              "        vertical-align: middle;\n",
              "    }\n",
              "\n",
              "    .dataframe tbody tr th {\n",
              "        vertical-align: top;\n",
              "    }\n",
              "\n",
              "    .dataframe thead th {\n",
              "        text-align: right;\n",
              "    }\n",
              "</style>\n",
              "<table border=\"1\" class=\"dataframe\">\n",
              "  <thead>\n",
              "    <tr style=\"text-align: right;\">\n",
              "      <th></th>\n",
              "      <th>Row ID</th>\n",
              "      <th>Order Priority</th>\n",
              "      <th>Discount</th>\n",
              "      <th>Unit Price</th>\n",
              "      <th>Shipping Cost</th>\n",
              "      <th>Customer ID</th>\n",
              "      <th>Customer Name</th>\n",
              "      <th>Ship Mode</th>\n",
              "      <th>Customer Segment</th>\n",
              "      <th>Product Category</th>\n",
              "      <th>...</th>\n",
              "      <th>Region</th>\n",
              "      <th>State or Province</th>\n",
              "      <th>City</th>\n",
              "      <th>Postal Code</th>\n",
              "      <th>Order Date</th>\n",
              "      <th>Ship Date</th>\n",
              "      <th>Profit</th>\n",
              "      <th>Quantity ordered new</th>\n",
              "      <th>Sales</th>\n",
              "      <th>Order ID</th>\n",
              "    </tr>\n",
              "  </thead>\n",
              "  <tbody>\n",
              "    <tr>\n",
              "      <th>0</th>\n",
              "      <td>20847.0</td>\n",
              "      <td>High</td>\n",
              "      <td>0.01</td>\n",
              "      <td>2.84</td>\n",
              "      <td>0.93</td>\n",
              "      <td>3.0</td>\n",
              "      <td>Bonnie Potter</td>\n",
              "      <td>Express Air</td>\n",
              "      <td>Corporate</td>\n",
              "      <td>Office Supplies</td>\n",
              "      <td>...</td>\n",
              "      <td>West</td>\n",
              "      <td>Washington</td>\n",
              "      <td>Anacortes</td>\n",
              "      <td>98221.0</td>\n",
              "      <td>07/01/2015</td>\n",
              "      <td>08/01/2015</td>\n",
              "      <td>4.5600</td>\n",
              "      <td>4.0</td>\n",
              "      <td>13.01</td>\n",
              "      <td>88522.0</td>\n",
              "    </tr>\n",
              "    <tr>\n",
              "      <th>1</th>\n",
              "      <td>20228.0</td>\n",
              "      <td>Not Specified</td>\n",
              "      <td>0.02</td>\n",
              "      <td>500.98</td>\n",
              "      <td>26.00</td>\n",
              "      <td>5.0</td>\n",
              "      <td>Ronnie Proctor</td>\n",
              "      <td>Delivery Truck</td>\n",
              "      <td>Home Office</td>\n",
              "      <td>Furniture</td>\n",
              "      <td>...</td>\n",
              "      <td>West</td>\n",
              "      <td>California</td>\n",
              "      <td>San Gabriel</td>\n",
              "      <td>91776.0</td>\n",
              "      <td>13/06/2015</td>\n",
              "      <td>15/06/2015</td>\n",
              "      <td>4390.3665</td>\n",
              "      <td>12.0</td>\n",
              "      <td>6362.85</td>\n",
              "      <td>90193.0</td>\n",
              "    </tr>\n",
              "    <tr>\n",
              "      <th>2</th>\n",
              "      <td>21776.0</td>\n",
              "      <td>Critical</td>\n",
              "      <td>0.06</td>\n",
              "      <td>9.48</td>\n",
              "      <td>7.29</td>\n",
              "      <td>11.0</td>\n",
              "      <td>Marcus Dunlap</td>\n",
              "      <td>Regular Air</td>\n",
              "      <td>Home Office</td>\n",
              "      <td>Furniture</td>\n",
              "      <td>...</td>\n",
              "      <td>East</td>\n",
              "      <td>New Jersey</td>\n",
              "      <td>Roselle</td>\n",
              "      <td>7203.0</td>\n",
              "      <td>15/02/2015</td>\n",
              "      <td>17/02/2015</td>\n",
              "      <td>-53.8096</td>\n",
              "      <td>22.0</td>\n",
              "      <td>211.15</td>\n",
              "      <td>90192.0</td>\n",
              "    </tr>\n",
              "    <tr>\n",
              "      <th>3</th>\n",
              "      <td>24844.0</td>\n",
              "      <td>Medium</td>\n",
              "      <td>0.09</td>\n",
              "      <td>78.69</td>\n",
              "      <td>19.99</td>\n",
              "      <td>14.0</td>\n",
              "      <td>Gwendolyn F Tyson</td>\n",
              "      <td>Regular Air</td>\n",
              "      <td>Small Business</td>\n",
              "      <td>Furniture</td>\n",
              "      <td>...</td>\n",
              "      <td>Central</td>\n",
              "      <td>Minnesota</td>\n",
              "      <td>Prior Lake</td>\n",
              "      <td>55372.0</td>\n",
              "      <td>12/05/2015</td>\n",
              "      <td>14/05/2015</td>\n",
              "      <td>803.4705</td>\n",
              "      <td>16.0</td>\n",
              "      <td>1164.45</td>\n",
              "      <td>86838.0</td>\n",
              "    </tr>\n",
              "    <tr>\n",
              "      <th>4</th>\n",
              "      <td>24846.0</td>\n",
              "      <td>Medium</td>\n",
              "      <td>0.08</td>\n",
              "      <td>3.28</td>\n",
              "      <td>2.31</td>\n",
              "      <td>14.0</td>\n",
              "      <td>Gwendolyn F Tyson</td>\n",
              "      <td>Regular Air</td>\n",
              "      <td>Small Business</td>\n",
              "      <td>Office Supplies</td>\n",
              "      <td>...</td>\n",
              "      <td>Central</td>\n",
              "      <td>Minnesota</td>\n",
              "      <td>Prior Lake</td>\n",
              "      <td>55372.0</td>\n",
              "      <td>12/05/2015</td>\n",
              "      <td>13/05/2015</td>\n",
              "      <td>-24.0300</td>\n",
              "      <td>7.0</td>\n",
              "      <td>22.23</td>\n",
              "      <td>86838.0</td>\n",
              "    </tr>\n",
              "  </tbody>\n",
              "</table>\n",
              "<p>5 rows × 24 columns</p>\n",
              "</div>\n",
              "    <div class=\"colab-df-buttons\">\n",
              "\n",
              "  <div class=\"colab-df-container\">\n",
              "    <button class=\"colab-df-convert\" onclick=\"convertToInteractive('df-c8e59b66-a330-40be-b09e-9e762e3d3914')\"\n",
              "            title=\"Convert this dataframe to an interactive table.\"\n",
              "            style=\"display:none;\">\n",
              "\n",
              "  <svg xmlns=\"http://www.w3.org/2000/svg\" height=\"24px\" viewBox=\"0 -960 960 960\">\n",
              "    <path d=\"M120-120v-720h720v720H120Zm60-500h600v-160H180v160Zm220 220h160v-160H400v160Zm0 220h160v-160H400v160ZM180-400h160v-160H180v160Zm440 0h160v-160H620v160ZM180-180h160v-160H180v160Zm440 0h160v-160H620v160Z\"/>\n",
              "  </svg>\n",
              "    </button>\n",
              "\n",
              "  <style>\n",
              "    .colab-df-container {\n",
              "      display:flex;\n",
              "      gap: 12px;\n",
              "    }\n",
              "\n",
              "    .colab-df-convert {\n",
              "      background-color: #E8F0FE;\n",
              "      border: none;\n",
              "      border-radius: 50%;\n",
              "      cursor: pointer;\n",
              "      display: none;\n",
              "      fill: #1967D2;\n",
              "      height: 32px;\n",
              "      padding: 0 0 0 0;\n",
              "      width: 32px;\n",
              "    }\n",
              "\n",
              "    .colab-df-convert:hover {\n",
              "      background-color: #E2EBFA;\n",
              "      box-shadow: 0px 1px 2px rgba(60, 64, 67, 0.3), 0px 1px 3px 1px rgba(60, 64, 67, 0.15);\n",
              "      fill: #174EA6;\n",
              "    }\n",
              "\n",
              "    .colab-df-buttons div {\n",
              "      margin-bottom: 4px;\n",
              "    }\n",
              "\n",
              "    [theme=dark] .colab-df-convert {\n",
              "      background-color: #3B4455;\n",
              "      fill: #D2E3FC;\n",
              "    }\n",
              "\n",
              "    [theme=dark] .colab-df-convert:hover {\n",
              "      background-color: #434B5C;\n",
              "      box-shadow: 0px 1px 3px 1px rgba(0, 0, 0, 0.15);\n",
              "      filter: drop-shadow(0px 1px 2px rgba(0, 0, 0, 0.3));\n",
              "      fill: #FFFFFF;\n",
              "    }\n",
              "  </style>\n",
              "\n",
              "    <script>\n",
              "      const buttonEl =\n",
              "        document.querySelector('#df-c8e59b66-a330-40be-b09e-9e762e3d3914 button.colab-df-convert');\n",
              "      buttonEl.style.display =\n",
              "        google.colab.kernel.accessAllowed ? 'block' : 'none';\n",
              "\n",
              "      async function convertToInteractive(key) {\n",
              "        const element = document.querySelector('#df-c8e59b66-a330-40be-b09e-9e762e3d3914');\n",
              "        const dataTable =\n",
              "          await google.colab.kernel.invokeFunction('convertToInteractive',\n",
              "                                                    [key], {});\n",
              "        if (!dataTable) return;\n",
              "\n",
              "        const docLinkHtml = 'Like what you see? Visit the ' +\n",
              "          '<a target=\"_blank\" href=https://colab.research.google.com/notebooks/data_table.ipynb>data table notebook</a>'\n",
              "          + ' to learn more about interactive tables.';\n",
              "        element.innerHTML = '';\n",
              "        dataTable['output_type'] = 'display_data';\n",
              "        await google.colab.output.renderOutput(dataTable, element);\n",
              "        const docLink = document.createElement('div');\n",
              "        docLink.innerHTML = docLinkHtml;\n",
              "        element.appendChild(docLink);\n",
              "      }\n",
              "    </script>\n",
              "  </div>\n",
              "\n",
              "\n",
              "<div id=\"df-476949fa-0d9d-47ff-8574-a8e7da242113\">\n",
              "  <button class=\"colab-df-quickchart\" onclick=\"quickchart('df-476949fa-0d9d-47ff-8574-a8e7da242113')\"\n",
              "            title=\"Suggest charts.\"\n",
              "            style=\"display:none;\">\n",
              "\n",
              "<svg xmlns=\"http://www.w3.org/2000/svg\" height=\"24px\"viewBox=\"0 0 24 24\"\n",
              "     width=\"24px\">\n",
              "    <g>\n",
              "        <path d=\"M19 3H5c-1.1 0-2 .9-2 2v14c0 1.1.9 2 2 2h14c1.1 0 2-.9 2-2V5c0-1.1-.9-2-2-2zM9 17H7v-7h2v7zm4 0h-2V7h2v10zm4 0h-2v-4h2v4z\"/>\n",
              "    </g>\n",
              "</svg>\n",
              "  </button>\n",
              "\n",
              "<style>\n",
              "  .colab-df-quickchart {\n",
              "      --bg-color: #E8F0FE;\n",
              "      --fill-color: #1967D2;\n",
              "      --hover-bg-color: #E2EBFA;\n",
              "      --hover-fill-color: #174EA6;\n",
              "      --disabled-fill-color: #AAA;\n",
              "      --disabled-bg-color: #DDD;\n",
              "  }\n",
              "\n",
              "  [theme=dark] .colab-df-quickchart {\n",
              "      --bg-color: #3B4455;\n",
              "      --fill-color: #D2E3FC;\n",
              "      --hover-bg-color: #434B5C;\n",
              "      --hover-fill-color: #FFFFFF;\n",
              "      --disabled-bg-color: #3B4455;\n",
              "      --disabled-fill-color: #666;\n",
              "  }\n",
              "\n",
              "  .colab-df-quickchart {\n",
              "    background-color: var(--bg-color);\n",
              "    border: none;\n",
              "    border-radius: 50%;\n",
              "    cursor: pointer;\n",
              "    display: none;\n",
              "    fill: var(--fill-color);\n",
              "    height: 32px;\n",
              "    padding: 0;\n",
              "    width: 32px;\n",
              "  }\n",
              "\n",
              "  .colab-df-quickchart:hover {\n",
              "    background-color: var(--hover-bg-color);\n",
              "    box-shadow: 0 1px 2px rgba(60, 64, 67, 0.3), 0 1px 3px 1px rgba(60, 64, 67, 0.15);\n",
              "    fill: var(--button-hover-fill-color);\n",
              "  }\n",
              "\n",
              "  .colab-df-quickchart-complete:disabled,\n",
              "  .colab-df-quickchart-complete:disabled:hover {\n",
              "    background-color: var(--disabled-bg-color);\n",
              "    fill: var(--disabled-fill-color);\n",
              "    box-shadow: none;\n",
              "  }\n",
              "\n",
              "  .colab-df-spinner {\n",
              "    border: 2px solid var(--fill-color);\n",
              "    border-color: transparent;\n",
              "    border-bottom-color: var(--fill-color);\n",
              "    animation:\n",
              "      spin 1s steps(1) infinite;\n",
              "  }\n",
              "\n",
              "  @keyframes spin {\n",
              "    0% {\n",
              "      border-color: transparent;\n",
              "      border-bottom-color: var(--fill-color);\n",
              "      border-left-color: var(--fill-color);\n",
              "    }\n",
              "    20% {\n",
              "      border-color: transparent;\n",
              "      border-left-color: var(--fill-color);\n",
              "      border-top-color: var(--fill-color);\n",
              "    }\n",
              "    30% {\n",
              "      border-color: transparent;\n",
              "      border-left-color: var(--fill-color);\n",
              "      border-top-color: var(--fill-color);\n",
              "      border-right-color: var(--fill-color);\n",
              "    }\n",
              "    40% {\n",
              "      border-color: transparent;\n",
              "      border-right-color: var(--fill-color);\n",
              "      border-top-color: var(--fill-color);\n",
              "    }\n",
              "    60% {\n",
              "      border-color: transparent;\n",
              "      border-right-color: var(--fill-color);\n",
              "    }\n",
              "    80% {\n",
              "      border-color: transparent;\n",
              "      border-right-color: var(--fill-color);\n",
              "      border-bottom-color: var(--fill-color);\n",
              "    }\n",
              "    90% {\n",
              "      border-color: transparent;\n",
              "      border-bottom-color: var(--fill-color);\n",
              "    }\n",
              "  }\n",
              "</style>\n",
              "\n",
              "  <script>\n",
              "    async function quickchart(key) {\n",
              "      const quickchartButtonEl =\n",
              "        document.querySelector('#' + key + ' button');\n",
              "      quickchartButtonEl.disabled = true;  // To prevent multiple clicks.\n",
              "      quickchartButtonEl.classList.add('colab-df-spinner');\n",
              "      try {\n",
              "        const charts = await google.colab.kernel.invokeFunction(\n",
              "            'suggestCharts', [key], {});\n",
              "      } catch (error) {\n",
              "        console.error('Error during call to suggestCharts:', error);\n",
              "      }\n",
              "      quickchartButtonEl.classList.remove('colab-df-spinner');\n",
              "      quickchartButtonEl.classList.add('colab-df-quickchart-complete');\n",
              "    }\n",
              "    (() => {\n",
              "      let quickchartButtonEl =\n",
              "        document.querySelector('#df-476949fa-0d9d-47ff-8574-a8e7da242113 button');\n",
              "      quickchartButtonEl.style.display =\n",
              "        google.colab.kernel.accessAllowed ? 'block' : 'none';\n",
              "    })();\n",
              "  </script>\n",
              "</div>\n",
              "    </div>\n",
              "  </div>\n"
            ]
          },
          "metadata": {},
          "execution_count": 21
        }
      ],
      "source": [
        "df = df.drop(columns=['Country'])\n",
        "df.head()"
      ]
    },
    {
      "cell_type": "code",
      "execution_count": null,
      "metadata": {
        "colab": {
          "base_uri": "https://localhost:8080/",
          "height": 377
        },
        "id": "1co8tXbxRP9e",
        "outputId": "b8b7d307-b72a-4aae-9246-d5daae226c27"
      },
      "outputs": [
        {
          "output_type": "execute_result",
          "data": {
            "text/plain": [
              "  Order Priority  Discount  Unit Price  Shipping Cost  Customer ID  \\\n",
              "0           High      0.01        2.84           0.93          3.0   \n",
              "1  Not Specified      0.02      500.98          26.00          5.0   \n",
              "2       Critical      0.06        9.48           7.29         11.0   \n",
              "3         Medium      0.09       78.69          19.99         14.0   \n",
              "4         Medium      0.08        3.28           2.31         14.0   \n",
              "\n",
              "       Customer Name       Ship Mode Customer Segment Product Category  \\\n",
              "0      Bonnie Potter     Express Air        Corporate  Office Supplies   \n",
              "1     Ronnie Proctor  Delivery Truck      Home Office        Furniture   \n",
              "2      Marcus Dunlap     Regular Air      Home Office        Furniture   \n",
              "3  Gwendolyn F Tyson     Regular Air   Small Business        Furniture   \n",
              "4  Gwendolyn F Tyson     Regular Air   Small Business  Office Supplies   \n",
              "\n",
              "  Product Sub-Category  ...   Region State or Province         City  \\\n",
              "0  Pens & Art Supplies  ...     West        Washington    Anacortes   \n",
              "1   Chairs & Chairmats  ...     West        California  San Gabriel   \n",
              "2   Office Furnishings  ...     East        New Jersey      Roselle   \n",
              "3   Office Furnishings  ...  Central         Minnesota   Prior Lake   \n",
              "4  Pens & Art Supplies  ...  Central         Minnesota   Prior Lake   \n",
              "\n",
              "  Postal Code  Order Date   Ship Date     Profit Quantity ordered new  \\\n",
              "0     98221.0  07/01/2015  08/01/2015     4.5600                  4.0   \n",
              "1     91776.0  13/06/2015  15/06/2015  4390.3665                 12.0   \n",
              "2      7203.0  15/02/2015  17/02/2015   -53.8096                 22.0   \n",
              "3     55372.0  12/05/2015  14/05/2015   803.4705                 16.0   \n",
              "4     55372.0  12/05/2015  13/05/2015   -24.0300                  7.0   \n",
              "\n",
              "     Sales  Order ID  \n",
              "0    13.01   88522.0  \n",
              "1  6362.85   90193.0  \n",
              "2   211.15   90192.0  \n",
              "3  1164.45   86838.0  \n",
              "4    22.23   86838.0  \n",
              "\n",
              "[5 rows x 23 columns]"
            ],
            "text/html": [
              "\n",
              "  <div id=\"df-f27cdc26-81d7-4c5e-a951-3c8c3dcc2121\" class=\"colab-df-container\">\n",
              "    <div>\n",
              "<style scoped>\n",
              "    .dataframe tbody tr th:only-of-type {\n",
              "        vertical-align: middle;\n",
              "    }\n",
              "\n",
              "    .dataframe tbody tr th {\n",
              "        vertical-align: top;\n",
              "    }\n",
              "\n",
              "    .dataframe thead th {\n",
              "        text-align: right;\n",
              "    }\n",
              "</style>\n",
              "<table border=\"1\" class=\"dataframe\">\n",
              "  <thead>\n",
              "    <tr style=\"text-align: right;\">\n",
              "      <th></th>\n",
              "      <th>Order Priority</th>\n",
              "      <th>Discount</th>\n",
              "      <th>Unit Price</th>\n",
              "      <th>Shipping Cost</th>\n",
              "      <th>Customer ID</th>\n",
              "      <th>Customer Name</th>\n",
              "      <th>Ship Mode</th>\n",
              "      <th>Customer Segment</th>\n",
              "      <th>Product Category</th>\n",
              "      <th>Product Sub-Category</th>\n",
              "      <th>...</th>\n",
              "      <th>Region</th>\n",
              "      <th>State or Province</th>\n",
              "      <th>City</th>\n",
              "      <th>Postal Code</th>\n",
              "      <th>Order Date</th>\n",
              "      <th>Ship Date</th>\n",
              "      <th>Profit</th>\n",
              "      <th>Quantity ordered new</th>\n",
              "      <th>Sales</th>\n",
              "      <th>Order ID</th>\n",
              "    </tr>\n",
              "  </thead>\n",
              "  <tbody>\n",
              "    <tr>\n",
              "      <th>0</th>\n",
              "      <td>High</td>\n",
              "      <td>0.01</td>\n",
              "      <td>2.84</td>\n",
              "      <td>0.93</td>\n",
              "      <td>3.0</td>\n",
              "      <td>Bonnie Potter</td>\n",
              "      <td>Express Air</td>\n",
              "      <td>Corporate</td>\n",
              "      <td>Office Supplies</td>\n",
              "      <td>Pens &amp; Art Supplies</td>\n",
              "      <td>...</td>\n",
              "      <td>West</td>\n",
              "      <td>Washington</td>\n",
              "      <td>Anacortes</td>\n",
              "      <td>98221.0</td>\n",
              "      <td>07/01/2015</td>\n",
              "      <td>08/01/2015</td>\n",
              "      <td>4.5600</td>\n",
              "      <td>4.0</td>\n",
              "      <td>13.01</td>\n",
              "      <td>88522.0</td>\n",
              "    </tr>\n",
              "    <tr>\n",
              "      <th>1</th>\n",
              "      <td>Not Specified</td>\n",
              "      <td>0.02</td>\n",
              "      <td>500.98</td>\n",
              "      <td>26.00</td>\n",
              "      <td>5.0</td>\n",
              "      <td>Ronnie Proctor</td>\n",
              "      <td>Delivery Truck</td>\n",
              "      <td>Home Office</td>\n",
              "      <td>Furniture</td>\n",
              "      <td>Chairs &amp; Chairmats</td>\n",
              "      <td>...</td>\n",
              "      <td>West</td>\n",
              "      <td>California</td>\n",
              "      <td>San Gabriel</td>\n",
              "      <td>91776.0</td>\n",
              "      <td>13/06/2015</td>\n",
              "      <td>15/06/2015</td>\n",
              "      <td>4390.3665</td>\n",
              "      <td>12.0</td>\n",
              "      <td>6362.85</td>\n",
              "      <td>90193.0</td>\n",
              "    </tr>\n",
              "    <tr>\n",
              "      <th>2</th>\n",
              "      <td>Critical</td>\n",
              "      <td>0.06</td>\n",
              "      <td>9.48</td>\n",
              "      <td>7.29</td>\n",
              "      <td>11.0</td>\n",
              "      <td>Marcus Dunlap</td>\n",
              "      <td>Regular Air</td>\n",
              "      <td>Home Office</td>\n",
              "      <td>Furniture</td>\n",
              "      <td>Office Furnishings</td>\n",
              "      <td>...</td>\n",
              "      <td>East</td>\n",
              "      <td>New Jersey</td>\n",
              "      <td>Roselle</td>\n",
              "      <td>7203.0</td>\n",
              "      <td>15/02/2015</td>\n",
              "      <td>17/02/2015</td>\n",
              "      <td>-53.8096</td>\n",
              "      <td>22.0</td>\n",
              "      <td>211.15</td>\n",
              "      <td>90192.0</td>\n",
              "    </tr>\n",
              "    <tr>\n",
              "      <th>3</th>\n",
              "      <td>Medium</td>\n",
              "      <td>0.09</td>\n",
              "      <td>78.69</td>\n",
              "      <td>19.99</td>\n",
              "      <td>14.0</td>\n",
              "      <td>Gwendolyn F Tyson</td>\n",
              "      <td>Regular Air</td>\n",
              "      <td>Small Business</td>\n",
              "      <td>Furniture</td>\n",
              "      <td>Office Furnishings</td>\n",
              "      <td>...</td>\n",
              "      <td>Central</td>\n",
              "      <td>Minnesota</td>\n",
              "      <td>Prior Lake</td>\n",
              "      <td>55372.0</td>\n",
              "      <td>12/05/2015</td>\n",
              "      <td>14/05/2015</td>\n",
              "      <td>803.4705</td>\n",
              "      <td>16.0</td>\n",
              "      <td>1164.45</td>\n",
              "      <td>86838.0</td>\n",
              "    </tr>\n",
              "    <tr>\n",
              "      <th>4</th>\n",
              "      <td>Medium</td>\n",
              "      <td>0.08</td>\n",
              "      <td>3.28</td>\n",
              "      <td>2.31</td>\n",
              "      <td>14.0</td>\n",
              "      <td>Gwendolyn F Tyson</td>\n",
              "      <td>Regular Air</td>\n",
              "      <td>Small Business</td>\n",
              "      <td>Office Supplies</td>\n",
              "      <td>Pens &amp; Art Supplies</td>\n",
              "      <td>...</td>\n",
              "      <td>Central</td>\n",
              "      <td>Minnesota</td>\n",
              "      <td>Prior Lake</td>\n",
              "      <td>55372.0</td>\n",
              "      <td>12/05/2015</td>\n",
              "      <td>13/05/2015</td>\n",
              "      <td>-24.0300</td>\n",
              "      <td>7.0</td>\n",
              "      <td>22.23</td>\n",
              "      <td>86838.0</td>\n",
              "    </tr>\n",
              "  </tbody>\n",
              "</table>\n",
              "<p>5 rows × 23 columns</p>\n",
              "</div>\n",
              "    <div class=\"colab-df-buttons\">\n",
              "\n",
              "  <div class=\"colab-df-container\">\n",
              "    <button class=\"colab-df-convert\" onclick=\"convertToInteractive('df-f27cdc26-81d7-4c5e-a951-3c8c3dcc2121')\"\n",
              "            title=\"Convert this dataframe to an interactive table.\"\n",
              "            style=\"display:none;\">\n",
              "\n",
              "  <svg xmlns=\"http://www.w3.org/2000/svg\" height=\"24px\" viewBox=\"0 -960 960 960\">\n",
              "    <path d=\"M120-120v-720h720v720H120Zm60-500h600v-160H180v160Zm220 220h160v-160H400v160Zm0 220h160v-160H400v160ZM180-400h160v-160H180v160Zm440 0h160v-160H620v160ZM180-180h160v-160H180v160Zm440 0h160v-160H620v160Z\"/>\n",
              "  </svg>\n",
              "    </button>\n",
              "\n",
              "  <style>\n",
              "    .colab-df-container {\n",
              "      display:flex;\n",
              "      gap: 12px;\n",
              "    }\n",
              "\n",
              "    .colab-df-convert {\n",
              "      background-color: #E8F0FE;\n",
              "      border: none;\n",
              "      border-radius: 50%;\n",
              "      cursor: pointer;\n",
              "      display: none;\n",
              "      fill: #1967D2;\n",
              "      height: 32px;\n",
              "      padding: 0 0 0 0;\n",
              "      width: 32px;\n",
              "    }\n",
              "\n",
              "    .colab-df-convert:hover {\n",
              "      background-color: #E2EBFA;\n",
              "      box-shadow: 0px 1px 2px rgba(60, 64, 67, 0.3), 0px 1px 3px 1px rgba(60, 64, 67, 0.15);\n",
              "      fill: #174EA6;\n",
              "    }\n",
              "\n",
              "    .colab-df-buttons div {\n",
              "      margin-bottom: 4px;\n",
              "    }\n",
              "\n",
              "    [theme=dark] .colab-df-convert {\n",
              "      background-color: #3B4455;\n",
              "      fill: #D2E3FC;\n",
              "    }\n",
              "\n",
              "    [theme=dark] .colab-df-convert:hover {\n",
              "      background-color: #434B5C;\n",
              "      box-shadow: 0px 1px 3px 1px rgba(0, 0, 0, 0.15);\n",
              "      filter: drop-shadow(0px 1px 2px rgba(0, 0, 0, 0.3));\n",
              "      fill: #FFFFFF;\n",
              "    }\n",
              "  </style>\n",
              "\n",
              "    <script>\n",
              "      const buttonEl =\n",
              "        document.querySelector('#df-f27cdc26-81d7-4c5e-a951-3c8c3dcc2121 button.colab-df-convert');\n",
              "      buttonEl.style.display =\n",
              "        google.colab.kernel.accessAllowed ? 'block' : 'none';\n",
              "\n",
              "      async function convertToInteractive(key) {\n",
              "        const element = document.querySelector('#df-f27cdc26-81d7-4c5e-a951-3c8c3dcc2121');\n",
              "        const dataTable =\n",
              "          await google.colab.kernel.invokeFunction('convertToInteractive',\n",
              "                                                    [key], {});\n",
              "        if (!dataTable) return;\n",
              "\n",
              "        const docLinkHtml = 'Like what you see? Visit the ' +\n",
              "          '<a target=\"_blank\" href=https://colab.research.google.com/notebooks/data_table.ipynb>data table notebook</a>'\n",
              "          + ' to learn more about interactive tables.';\n",
              "        element.innerHTML = '';\n",
              "        dataTable['output_type'] = 'display_data';\n",
              "        await google.colab.output.renderOutput(dataTable, element);\n",
              "        const docLink = document.createElement('div');\n",
              "        docLink.innerHTML = docLinkHtml;\n",
              "        element.appendChild(docLink);\n",
              "      }\n",
              "    </script>\n",
              "  </div>\n",
              "\n",
              "\n",
              "<div id=\"df-30e79148-a49c-4dfc-bebc-f8932fd559cb\">\n",
              "  <button class=\"colab-df-quickchart\" onclick=\"quickchart('df-30e79148-a49c-4dfc-bebc-f8932fd559cb')\"\n",
              "            title=\"Suggest charts.\"\n",
              "            style=\"display:none;\">\n",
              "\n",
              "<svg xmlns=\"http://www.w3.org/2000/svg\" height=\"24px\"viewBox=\"0 0 24 24\"\n",
              "     width=\"24px\">\n",
              "    <g>\n",
              "        <path d=\"M19 3H5c-1.1 0-2 .9-2 2v14c0 1.1.9 2 2 2h14c1.1 0 2-.9 2-2V5c0-1.1-.9-2-2-2zM9 17H7v-7h2v7zm4 0h-2V7h2v10zm4 0h-2v-4h2v4z\"/>\n",
              "    </g>\n",
              "</svg>\n",
              "  </button>\n",
              "\n",
              "<style>\n",
              "  .colab-df-quickchart {\n",
              "      --bg-color: #E8F0FE;\n",
              "      --fill-color: #1967D2;\n",
              "      --hover-bg-color: #E2EBFA;\n",
              "      --hover-fill-color: #174EA6;\n",
              "      --disabled-fill-color: #AAA;\n",
              "      --disabled-bg-color: #DDD;\n",
              "  }\n",
              "\n",
              "  [theme=dark] .colab-df-quickchart {\n",
              "      --bg-color: #3B4455;\n",
              "      --fill-color: #D2E3FC;\n",
              "      --hover-bg-color: #434B5C;\n",
              "      --hover-fill-color: #FFFFFF;\n",
              "      --disabled-bg-color: #3B4455;\n",
              "      --disabled-fill-color: #666;\n",
              "  }\n",
              "\n",
              "  .colab-df-quickchart {\n",
              "    background-color: var(--bg-color);\n",
              "    border: none;\n",
              "    border-radius: 50%;\n",
              "    cursor: pointer;\n",
              "    display: none;\n",
              "    fill: var(--fill-color);\n",
              "    height: 32px;\n",
              "    padding: 0;\n",
              "    width: 32px;\n",
              "  }\n",
              "\n",
              "  .colab-df-quickchart:hover {\n",
              "    background-color: var(--hover-bg-color);\n",
              "    box-shadow: 0 1px 2px rgba(60, 64, 67, 0.3), 0 1px 3px 1px rgba(60, 64, 67, 0.15);\n",
              "    fill: var(--button-hover-fill-color);\n",
              "  }\n",
              "\n",
              "  .colab-df-quickchart-complete:disabled,\n",
              "  .colab-df-quickchart-complete:disabled:hover {\n",
              "    background-color: var(--disabled-bg-color);\n",
              "    fill: var(--disabled-fill-color);\n",
              "    box-shadow: none;\n",
              "  }\n",
              "\n",
              "  .colab-df-spinner {\n",
              "    border: 2px solid var(--fill-color);\n",
              "    border-color: transparent;\n",
              "    border-bottom-color: var(--fill-color);\n",
              "    animation:\n",
              "      spin 1s steps(1) infinite;\n",
              "  }\n",
              "\n",
              "  @keyframes spin {\n",
              "    0% {\n",
              "      border-color: transparent;\n",
              "      border-bottom-color: var(--fill-color);\n",
              "      border-left-color: var(--fill-color);\n",
              "    }\n",
              "    20% {\n",
              "      border-color: transparent;\n",
              "      border-left-color: var(--fill-color);\n",
              "      border-top-color: var(--fill-color);\n",
              "    }\n",
              "    30% {\n",
              "      border-color: transparent;\n",
              "      border-left-color: var(--fill-color);\n",
              "      border-top-color: var(--fill-color);\n",
              "      border-right-color: var(--fill-color);\n",
              "    }\n",
              "    40% {\n",
              "      border-color: transparent;\n",
              "      border-right-color: var(--fill-color);\n",
              "      border-top-color: var(--fill-color);\n",
              "    }\n",
              "    60% {\n",
              "      border-color: transparent;\n",
              "      border-right-color: var(--fill-color);\n",
              "    }\n",
              "    80% {\n",
              "      border-color: transparent;\n",
              "      border-right-color: var(--fill-color);\n",
              "      border-bottom-color: var(--fill-color);\n",
              "    }\n",
              "    90% {\n",
              "      border-color: transparent;\n",
              "      border-bottom-color: var(--fill-color);\n",
              "    }\n",
              "  }\n",
              "</style>\n",
              "\n",
              "  <script>\n",
              "    async function quickchart(key) {\n",
              "      const quickchartButtonEl =\n",
              "        document.querySelector('#' + key + ' button');\n",
              "      quickchartButtonEl.disabled = true;  // To prevent multiple clicks.\n",
              "      quickchartButtonEl.classList.add('colab-df-spinner');\n",
              "      try {\n",
              "        const charts = await google.colab.kernel.invokeFunction(\n",
              "            'suggestCharts', [key], {});\n",
              "      } catch (error) {\n",
              "        console.error('Error during call to suggestCharts:', error);\n",
              "      }\n",
              "      quickchartButtonEl.classList.remove('colab-df-spinner');\n",
              "      quickchartButtonEl.classList.add('colab-df-quickchart-complete');\n",
              "    }\n",
              "    (() => {\n",
              "      let quickchartButtonEl =\n",
              "        document.querySelector('#df-30e79148-a49c-4dfc-bebc-f8932fd559cb button');\n",
              "      quickchartButtonEl.style.display =\n",
              "        google.colab.kernel.accessAllowed ? 'block' : 'none';\n",
              "    })();\n",
              "  </script>\n",
              "</div>\n",
              "    </div>\n",
              "  </div>\n"
            ]
          },
          "metadata": {},
          "execution_count": 22
        }
      ],
      "source": [
        "df = df.drop(columns=['Row ID'])\n",
        "df.head()"
      ]
    },
    {
      "cell_type": "markdown",
      "source": [
        "This is a heatmap that underlines the instances of missing values in the dataset"
      ],
      "metadata": {
        "id": "L8hfUiGrIdW3"
      }
    },
    {
      "cell_type": "code",
      "execution_count": null,
      "metadata": {
        "colab": {
          "base_uri": "https://localhost:8080/",
          "height": 592
        },
        "id": "9R89n80ARSZF",
        "outputId": "e6509fc8-778a-47d4-f816-9122432c86f8"
      },
      "outputs": [
        {
          "output_type": "execute_result",
          "data": {
            "text/plain": [
              "<Axes: >"
            ]
          },
          "metadata": {},
          "execution_count": 23
        },
        {
          "output_type": "display_data",
          "data": {
            "text/plain": [
              "<Figure size 640x480 with 2 Axes>"
            ],
            "image/png": "[encoded data removed]"
          },
          "metadata": {}
        }
      ],
      "source": [
        "sns.heatmap(df.isnull(), cmap='viridis')"
      ]
    },
    {
      "cell_type": "code",
      "execution_count": null,
      "metadata": {
        "colab": {
          "base_uri": "https://localhost:8080/"
        },
        "id": "xYteAHhRRU8Q",
        "outputId": "e80ad9cb-7e19-4e2e-aa85-478736de866e"
      },
      "outputs": [
        {
          "output_type": "execute_result",
          "data": {
            "text/plain": [
              "0"
            ]
          },
          "metadata": {},
          "execution_count": 24
        }
      ],
      "source": [
        "imr = SimpleImputer(missing_values=np.nan, strategy='most_frequent')# mean , median , most_frequent , (constant ==fill_value)\n",
        "df['Order Priority'] = imr.fit_transform(df[['Order Priority']])\n",
        "\n",
        "# After impute\n",
        "df['Order Priority'].isnull().sum()"
      ]
    },
    {
      "cell_type": "markdown",
      "metadata": {
        "id": "NEH9x2I0VU4C"
      },
      "source": [
        "## filling the missing values with the most frequent"
      ]
    },
    {
      "cell_type": "code",
      "execution_count": null,
      "metadata": {
        "colab": {
          "base_uri": "https://localhost:8080/"
        },
        "id": "9d37CZMJRhuo",
        "outputId": "f3dce069-21a3-4375-bac8-63b67dd25eaf"
      },
      "outputs": [
        {
          "output_type": "stream",
          "name": "stdout",
          "text": [
            "Order Priority          0\n",
            "Discount                0\n",
            "Unit Price              0\n",
            "Shipping Cost           0\n",
            "Customer ID             0\n",
            "Customer Name           0\n",
            "Ship Mode               0\n",
            "Customer Segment        0\n",
            "Product Category        0\n",
            "Product Sub-Category    0\n",
            "Product Container       0\n",
            "Product Name            0\n",
            "Product Base Margin     0\n",
            "Region                  0\n",
            "State or Province       0\n",
            "City                    0\n",
            "Postal Code             0\n",
            "Order Date              0\n",
            "Ship Date               0\n",
            "Profit                  0\n",
            "Quantity ordered new    0\n",
            "Sales                   0\n",
            "Order ID                0\n",
            "dtype: int64\n"
          ]
        }
      ],
      "source": [
        "imr = SimpleImputer(missing_values=np.nan, strategy='most_frequent') # mean , median , most_frequent , (constant ==fill_value)\n",
        "\n",
        "# Loop through attributes with missing values and impute them\n",
        "attributes_with_missing = df.columns[df.isnull().any()]\n",
        "for attribute in attributes_with_missing:\n",
        "    df[attribute] = imr.fit_transform(df[[attribute]])\n",
        "\n",
        "# After impute\n",
        "print(df.isnull().sum())"
      ]
    },
    {
      "cell_type": "markdown",
      "source": [
        "**Data Integration is NOT needed as we only have one source of data**"
      ],
      "metadata": {
        "id": "Y4wWmUd1pVA5"
      }
    },
    {
      "cell_type": "markdown",
      "metadata": {
        "id": "OO1_1p03Vmhe"
      },
      "source": [
        "\n",
        "## Data Transfomation"
      ]
    },
    {
      "cell_type": "code",
      "execution_count": null,
      "metadata": {
        "id": "SffTKojkhpfK"
      },
      "outputs": [],
      "source": [
        "df = df.drop_duplicates()"
      ]
    },
    {
      "cell_type": "code",
      "execution_count": null,
      "metadata": {
        "colab": {
          "base_uri": "https://localhost:8080/"
        },
        "id": "9jyigkaJjxzj",
        "outputId": "01597edb-26a4-4cbe-a40b-bbc72f139f76"
      },
      "outputs": [
        {
          "output_type": "execute_result",
          "data": {
            "text/plain": [
              "count           1914\n",
              "unique           179\n",
              "top       09/04/2015\n",
              "freq              28\n",
              "Name: Order Date, dtype: object"
            ]
          },
          "metadata": {},
          "execution_count": 27
        }
      ],
      "source": [
        "df['Order Date'].describe()"
      ]
    },
    {
      "cell_type": "code",
      "execution_count": null,
      "metadata": {
        "colab": {
          "base_uri": "https://localhost:8080/"
        },
        "id": "ECKfqIOdkKD0",
        "outputId": "9149f36e-0d4b-4175-c982-3bfc5044efce"
      },
      "outputs": [
        {
          "output_type": "execute_result",
          "data": {
            "text/plain": [
              "count           1914\n",
              "unique           187\n",
              "top       08/01/2015\n",
              "freq              23\n",
              "Name: Ship Date, dtype: object"
            ]
          },
          "metadata": {},
          "execution_count": 28
        }
      ],
      "source": [
        "df['Ship Date'].describe()"
      ]
    },
    {
      "cell_type": "markdown",
      "source": [
        "This will transform the Order & Ship Date to datetime type"
      ],
      "metadata": {
        "id": "WqEE_eBRJO71"
      }
    },
    {
      "cell_type": "code",
      "execution_count": null,
      "metadata": {
        "id": "fgD8pEtGRyql"
      },
      "outputs": [],
      "source": [
        "try:\n",
        "    df['Order Date'] = pd.to_datetime(df['Order Date'], dayfirst=True)\n",
        "    df['Ship Date'] = pd.to_datetime(df['Ship Date'], dayfirst=True)\n",
        "except pd.errors.OutOfBoundsDatetime as e:\n",
        "    print(f\"Error: {e}\")"
      ]
    },
    {
      "cell_type": "code",
      "execution_count": null,
      "metadata": {
        "colab": {
          "base_uri": "https://localhost:8080/"
        },
        "id": "UYzlBTnGRzMH",
        "outputId": "aef0b495-7a86-4ff7-cf41-cb2168526994"
      },
      "outputs": [
        {
          "output_type": "stream",
          "name": "stdout",
          "text": [
            "<class 'pandas.core.frame.DataFrame'>\n",
            "Int64Index: 1914 entries, 0 to 1952\n",
            "Data columns (total 23 columns):\n",
            " #   Column                Non-Null Count  Dtype         \n",
            "---  ------                --------------  -----         \n",
            " 0   Order Priority        1914 non-null   object        \n",
            " 1   Discount              1914 non-null   float64       \n",
            " 2   Unit Price            1914 non-null   float64       \n",
            " 3   Shipping Cost         1914 non-null   float64       \n",
            " 4   Customer ID           1914 non-null   float64       \n",
            " 5   Customer Name         1914 non-null   object        \n",
            " 6   Ship Mode             1914 non-null   object        \n",
            " 7   Customer Segment      1914 non-null   object        \n",
            " 8   Product Category      1914 non-null   object        \n",
            " 9   Product Sub-Category  1914 non-null   object        \n",
            " 10  Product Container     1914 non-null   object        \n",
            " 11  Product Name          1914 non-null   object        \n",
            " 12  Product Base Margin   1914 non-null   float64       \n",
            " 13  Region                1914 non-null   object        \n",
            " 14  State or Province     1914 non-null   object        \n",
            " 15  City                  1914 non-null   object        \n",
            " 16  Postal Code           1914 non-null   float64       \n",
            " 17  Order Date            1914 non-null   datetime64[ns]\n",
            " 18  Ship Date             1914 non-null   datetime64[ns]\n",
            " 19  Profit                1914 non-null   float64       \n",
            " 20  Quantity ordered new  1914 non-null   float64       \n",
            " 21  Sales                 1914 non-null   float64       \n",
            " 22  Order ID              1914 non-null   float64       \n",
            "dtypes: datetime64[ns](2), float64(10), object(11)\n",
            "memory usage: 358.9+ KB\n"
          ]
        }
      ],
      "source": [
        "df.info()"
      ]
    },
    {
      "cell_type": "code",
      "execution_count": null,
      "metadata": {
        "colab": {
          "base_uri": "https://localhost:8080/"
        },
        "id": "JaoR0aETR1xn",
        "outputId": "cf48c416-0d3c-49a3-f53f-41399ca19249"
      },
      "outputs": [
        {
          "output_type": "stream",
          "name": "stdout",
          "text": [
            "Start date of transactions is 01 January 2015 and the latest transaction is 30 June 2015\n"
          ]
        }
      ],
      "source": [
        "from datetime import datetime\n",
        "min_date = df['Order Date'].min()\n",
        "max_date = df['Order Date'].max()\n",
        "\n",
        "print(f\"Start date of transactions is {datetime.strftime(min_date, '%d %B %Y')} and the latest transaction is {datetime.strftime(max_date, '%d %B %Y')}\")\n"
      ]
    },
    {
      "cell_type": "markdown",
      "source": [
        "We transformed the Order & Ship Date to the Elapsed Time attribute, so it shows how much time passed after the Order was placed"
      ],
      "metadata": {
        "id": "Wzl5xyg5KRlH"
      }
    },
    {
      "cell_type": "code",
      "execution_count": null,
      "metadata": {
        "id": "gSZbMC4rR32S"
      },
      "outputs": [],
      "source": [
        "df['Elapsed Time'] = df[['Order Date','Ship Date']].apply(lambda x: (x['Ship Date'] - x['Order Date']).days, axis = 1)\n"
      ]
    },
    {
      "cell_type": "markdown",
      "source": [
        "We will drop the Ship Date attribute as it is reduntant when Elapsed Time exists now"
      ],
      "metadata": {
        "id": "jAarQtvEKN-a"
      }
    },
    {
      "cell_type": "code",
      "execution_count": null,
      "metadata": {
        "id": "4qUeEUVSR9hz"
      },
      "outputs": [],
      "source": [
        "df.drop('Ship Date', axis = 1, inplace = True)\n"
      ]
    },
    {
      "cell_type": "markdown",
      "source": [
        "This is the transformation of the Order ID attribute, as there are repeated Order ID for several rows"
      ],
      "metadata": {
        "id": "20LGMQq_K0-y"
      }
    },
    {
      "cell_type": "code",
      "execution_count": null,
      "metadata": {
        "id": "HZvqj8r3SBQL"
      },
      "outputs": [],
      "source": [
        "order_multi_date = df.groupby('Order ID')['Order Date'].nunique() > 1\n",
        "\n",
        "dict_order = dict()\n",
        "\n",
        "for od in order_multi_date[order_multi_date].index.to_list():\n",
        "    dict_order[od] = dict()\n",
        "    add = 1\n",
        "    for od_date in df[df['Order ID'] == od].groupby('Order Date').count().index:\n",
        "        dict_order[od][od_date] = \"{:.2f}\".format(od) + str(add)\n",
        "        add += 1"
      ]
    },
    {
      "cell_type": "code",
      "execution_count": null,
      "metadata": {
        "id": "nwu5VS5LpanX"
      },
      "outputs": [],
      "source": [
        "# Reassigning new 'Order ID'\n",
        "def clean_id(col):\n",
        "    if col['Order ID'] in dict_order.keys():\n",
        "        return dict_order[col['Order ID']][col['Order Date']]\n",
        "    else:\n",
        "        return col['Order ID']\n",
        "\n",
        "df['Order ID'] = df[['Order ID','Order Date']].apply(clean_id, axis = 1)"
      ]
    },
    {
      "cell_type": "markdown",
      "source": [
        "We chose Order ID with Order Date as only one Order ID has only unique Order Date"
      ],
      "metadata": {
        "id": "k0HRLX64MiPm"
      }
    },
    {
      "cell_type": "code",
      "execution_count": null,
      "metadata": {
        "colab": {
          "base_uri": "https://localhost:8080/"
        },
        "id": "pfX4-ERQpfVW",
        "outputId": "781b87f4-5277-4627-9dae-ed39832e67a6"
      },
      "outputs": [
        {
          "output_type": "stream",
          "name": "stdout",
          "text": [
            "Amount of orders based on Order ID is 1352\n",
            "Amount of transactions which has one Order ID with more than one Order Date is 0\n"
          ]
        }
      ],
      "source": [
        "# Rechecking if there were still transaction with more than one 'Order Date'\n",
        "amount_order = len(df.groupby('Order ID'))\n",
        "order_multi_date = df.groupby('Order ID')['Order Date'].nunique() > 1\n",
        "\n",
        "print(f\"Amount of orders based on Order ID is {amount_order}\")\n",
        "print(f\"Amount of transactions which has one Order ID with more than one Order Date is {order_multi_date.sum()}\")"
      ]
    },
    {
      "cell_type": "code",
      "execution_count": null,
      "metadata": {
        "colab": {
          "base_uri": "https://localhost:8080/"
        },
        "id": "UnJzR3oXpmEO",
        "outputId": "57583e19-e1c4-46f4-fffa-d7ce830edef5"
      },
      "outputs": [
        {
          "output_type": "stream",
          "name": "stdout",
          "text": [
            "Amount of transactions with different shipping mode is 194\n"
          ]
        }
      ],
      "source": [
        "# Looking for 'Order ID' which has several shipping mode\n",
        "order_multi_ship = df.groupby('Order ID')['Ship Mode'].nunique() > 1\n",
        "print(f\"Amount of transactions with different shipping mode is {order_multi_ship.sum()}\")"
      ]
    },
    {
      "cell_type": "code",
      "execution_count": null,
      "metadata": {
        "colab": {
          "base_uri": "https://localhost:8080/"
        },
        "id": "els1KH83pzkM",
        "outputId": "0ab6b943-226f-4fae-ba48-59ec7c5b82fd"
      },
      "outputs": [
        {
          "output_type": "stream",
          "name": "stdout",
          "text": [
            "Amount of transactions with different priorities is 3\n"
          ]
        }
      ],
      "source": [
        "# Looking for 'Order ID' which has several priorities\n",
        "order_multi_prio = df.groupby('Order ID')['Order Priority'].nunique() > 1\n",
        "print(f\"Amount of transactions with different priorities is {order_multi_prio.sum()}\")"
      ]
    },
    {
      "cell_type": "code",
      "execution_count": null,
      "metadata": {
        "colab": {
          "base_uri": "https://localhost:8080/"
        },
        "id": "ItZS_r5Gp2NP",
        "outputId": "882ae599-7df7-4baf-b603-67f68ea8ef1c"
      },
      "outputs": [
        {
          "output_type": "stream",
          "name": "stdout",
          "text": [
            "Amount of transactions with different elapsed time is 316\n"
          ]
        }
      ],
      "source": [
        "# Looking for 'Order ID' which has several elapsed time\n",
        "order_multi_time = df.groupby('Order ID')['Elapsed Time'].nunique() > 1\n",
        "print(f\"Amount of transactions with different elapsed time is {order_multi_time.sum()}\")"
      ]
    },
    {
      "cell_type": "code",
      "execution_count": null,
      "metadata": {
        "colab": {
          "base_uri": "https://localhost:8080/"
        },
        "id": "CHPKCJODp5tT",
        "outputId": "1998ea34-afaf-43a0-b62f-695a1f5fb7b3"
      },
      "outputs": [
        {
          "output_type": "stream",
          "name": "stdout",
          "text": [
            "Indexes of transactions with different shipping mode are 962.0 & 9606.0 & 12224.0 & 13959.0 & 21636.0 & 24193.0 & 29319.0 & 29350.0 & 32420.0 & 33635.0 & 34017.0 & 37537.0 & 39015.0 & 40997.0 & 44231.0 & 47108.0 & 50656.0 & 53476.0 & 54949.0 & 55874.0 & 85850.0 & 85866.0 & 85880.0 & 85914.0 & 85966.0 & 85991.0 & 86050.0 & 86075.0 & 86077.0 & 86085.0 & 86221.0 & 86227.0 & 86263.0 & 86264.0 & 86308.0 & 86369.0 & 86409.0 & 86491.0 & 86507.0 & 86600.0 & 86633.0 & 86655.0 & 86668.0 & 86688.0 & 86723.0 & 86792.0 & 86813.0 & 86826.0 & 86847.0 & 86860.0 & 86899.0 & 86926.0 & 86958.0 & 87033.0 & 87134.0 & 87146.0 & 87160.0 & 87162.0 & 87214.0 & 87234.0 & 87259.0 & 87272.0 & 87357.0 & 87378.0 & 87383.0 & 87396.0 & 87570.0 & 87585.0 & 87678.0 & 87696.0 & 87726.0 & 87812.0 & 87831.0 & 87877.0 & 87962.0 & 87993.0 & 88060.0 & 88084.0 & 88136.0 & 88157.0 & 88191.0 & 88198.0 & 88219.0 & 88282.0 & 88298.0 & 88348.0 & 88387.0 & 88443.0 & 88544.0 & 88556.0 & 88558.0 & 88571.0 & 88587.0 & 88588.0 & 88599.0 & 88657.0 & 88666.0 & 88668.0 & 88701.0 & 88713.0 & 88721.0 & 88745.0 & 88746.0 & 88870.0 & 88871.0 & 88908.0 & 89039.0 & 89084.0 & 89112.0 & 89146.0 & 89174.0 & 89194.0 & 89218.0 & 89257.0 & 89284.0 & 89291.0 & 89327.0 & 89433.0 & 89448.0 & 89584.0 & 89596.0 & 89602.0 & 89647.0 & 89657.0 & 89679.0 & 89704.0 & 89716.0 & 89726.0 & 89761.0 & 89762.0 & 89787.0 & 89801.0 & 89836.0 & 89872.0 & 89885.0 & 89909.0 & 89957.0 & 89961.0 & 89981.0 & 90000.0 & 90069.0 & 90103.0 & 90109.0 & 90146.0 & 90185.0 & 90248.0 & 90291.0 & 90327.0 & 90361.0 & 90385.0 & 90386.0 & 90387.0 & 90438.0 & 90449.0 & 90462.0 & 90473.0 & 90479.0 & 90501.0 & 90502.0 & 90514.0 & 90524.0 & 90540.0 & 90597.0 & 90600.0 & 90731.0 & 90796.0 & 90800.0 & 90814.0 & 90821.0 & 90853.0 & 90888.0 & 90909.0 & 90917.0 & 91030.0 & 91042.0 & 91053.0 & 91063.0 & 91116.0 & 91123.0 & 91127.0 & 91180.0 & 91194.0 & 91195.0 & 91212.0 & 91228.0 & 91235.0 & 91236.0 & 91261.0 & 91310.0 & 91388.0 & 91397.0 & 91414.0 & 91550.0 & 91576.0\n",
            "Indexes of transactions with different priorities are 86885.0 & 88908.0 & 90540.0\n",
            "Indexes of transactions with different elapsed time are 548.0 & 3397.0 & 5509.0 & 5984.0 & 7623.0 & 9606.0 & 11206.0 & 12224.0 & 14596.0 & 14785.0 & 16547.0 & 21636.0 & 24193.0 & 26342.0 & 27013.0 & 28001.0 & 29350.0 & 30785.0 & 32037.0 & 34017.0 & 36069.0 & 36452.0 & 36647.0 & 37537.0 & 40997.0 & 42949.0 & 44002.0 & 46884.0 & 47108.0 & 53476.0 & 54949.0 & 55300.0 & 55392.0 & 55874.0 & 85850.0 & 85880.0 & 85914.0 & 85928.0 & 85966.0 & 85991.0 & 86013.0 & 86050.0 & 86051.0 & 86085.0 & 86102.0 & 86124.0 & 86189.0 & 86227.0 & 86234.0 & 86264.0 & 86307.0 & 86308.0 & 86311.0 & 86327.0 & 86346.0 & 86369.0 & 86383.0 & 86384.0 & 86409.0 & 86466.0 & 86491.0 & 86500.0 & 86507.0 & 86529.0 & 86544.0 & 86545.0 & 86600.0 & 86610.0 & 86612.0 & 86633.0 & 86668.0 & 86688.0 & 86722.0 & 86723.0 & 86751.0 & 86753.0 & 86767.0 & 86792.0 & 86828.0 & 86836.0 & 86838.0 & 86847.0 & 86860.0 & 86868.0 & 86885.0 & 86887.0 & 86926.0 & 86949.0 & 86958.0 & 87033.0 & 87057.0 & 87134.0 & 87146.0 & 87162.0 & 87175.0 & 87222.0 & 87234.0 & 87259.0 & 87277.0 & 87345.0 & 87357.0 & 87426.0 & 87435.0 & 87436.0 & 87451.0 & 87463.0 & 87474.0 & 87553.0 & 87556.0 & 87570.0 & 87584.0 & 87585.0 & 87587.0 & 87602.0 & 87603.0 & 87611.0 & 87620.0 & 87630.0 & 87651.0 & 87678.0 & 87725.0 & 87824.0 & 87830.0 & 87846.0 & 87877.0 & 87885.0 & 87889.0 & 87933.0 & 87979.0 & 88060.0 & 88102.0 & 88136.0 & 88157.0 & 88173.0 & 88205.0 & 88219.0 & 88220.0 & 88240.0 & 88282.0 & 88298.0 & 88348.0 & 88361.0 & 88387.0 & 88391.0 & 88405.0 & 88447.0 & 88475.0 & 88555.0 & 88558.0 & 88569.0 & 88571.0 & 88587.0 & 88588.0 & 88589.0 & 88599.0 & 88600.0 & 88633.0 & 88634.0 & 88644.0 & 88657.0 & 88667.0 & 88701.0 & 88713.0 & 88714.0 & 88721.0 & 88731.0 & 88745.0 & 88746.0 & 88794.0 & 88838.0 & 88857.0 & 88870.0 & 88871.0 & 88890.0 & 88906.0 & 88941.0 & 88942.0 & 88959.0 & 89008.0 & 89039.0 & 89059.0 & 89077.0 & 89084.0 & 89092.0 & 89093.0 & 89129.0 & 89148.0 & 89166.0 & 89174.0 & 89175.0 & 89194.0 & 89201.0 & 89218.0 & 89257.0 & 89279.0 & 89284.0 & 89300.0 & 89327.0 & 89360.0 & 89376.0 & 89448.0 & 89497.0 & 89504.0 & 89515.0 & 89572.0 & 89595.0 & 89596.0 & 89602.0 & 89609.0 & 89647.0 & 89697.0 & 89704.0 & 89716.0 & 89726.0 & 89762.0 & 89776.0 & 89787.0 & 89801.0 & 89805.0 & 89836.0 & 89872.0 & 89909.0 & 89910.0 & 89943.0 & 89957.0 & 89961.0 & 89981.0 & 90001.0 & 90011.0 & 90069.0 & 90099.0 & 90103.0 & 90109.0 & 90145.0 & 90146.0 & 90166.0 & 90178.0 & 90185.0 & 90189.0 & 90218.0 & 90237.0 & 90248.0 & 90314.0 & 90327.0 & 90337.0 & 90354.0 & 90361.0 & 90385.0 & 90386.0 & 90387.0 & 90438.0 & 90449.0 & 90460.0 & 90462.0 & 90473.0 & 90479.0 & 90480.0 & 90492.0 & 90501.0 & 90502.0 & 90540.0 & 90557.0 & 90578.0 & 90583.0 & 90589.0 & 90597.0 & 90600.0 & 90624.0 & 90662.0 & 90710.0 & 90724.0 & 90750.0 & 90766.0 & 90771.0 & 90796.0 & 90800.0 & 90814.0 & 90833.0 & 90853.0 & 90861.0 & 90871.0 & 90888.0 & 90891.0 & 90909.0 & 90917.0 & 91030.0 & 91042.0 & 91043.0 & 91053.0 & 91063.0 & 91116.0 & 91122.0 & 91123.0 & 91174.0 & 91209.0 & 91212.0 & 91228.0 & 91235.0 & 91236.0 & 91244.0 & 91245.0 & 91261.0 & 91310.0 & 91321.0 & 91355.0 & 91386.0 & 91388.0 & 91397.0 & 91414.0 & 91432.0 & 91433.0 & 91466.0 & 91550.0 & 91555.0 & 91576.0 & 86960.001\n"
          ]
        }
      ],
      "source": [
        "# Checking index of the 2 transactions\n",
        "print(f\"Indexes of transactions with different shipping mode are {' & '.join(str(index) for index in order_multi_ship[order_multi_ship].index)}\")\n",
        "print(f\"Indexes of transactions with different priorities are {' & '.join(str(index) for index in order_multi_prio[order_multi_prio].index)}\")\n",
        "print(f\"Indexes of transactions with different elapsed time are {' & '.join(str(index) for index in order_multi_time[order_multi_time].index)}\")\n"
      ]
    },
    {
      "cell_type": "code",
      "execution_count": null,
      "metadata": {
        "id": "tyt9scZ5qCu0"
      },
      "outputs": [],
      "source": [
        "# Making dictionary for replacing new 'Order ID'\n",
        "dict_ship = dict()\n",
        "\n",
        "for od in order_multi_ship[order_multi_ship].index.to_list():\n",
        "    dict_ship[od] = dict()\n",
        "    add = 1\n",
        "    for od_ship in df[df['Order ID'] == od]['Ship Mode'].unique():\n",
        "        dict_ship[od][od_ship] = \"{:.2f}\".format(od) + str(add)\n",
        "        add += 1"
      ]
    },
    {
      "cell_type": "code",
      "execution_count": null,
      "metadata": {
        "id": "3qY4JFQQqGUN"
      },
      "outputs": [],
      "source": [
        "# Reassigning new 'Order ID'\n",
        "def clean_id(col):\n",
        "    if col['Order ID'] in dict_ship.keys():\n",
        "        return dict_ship[col['Order ID']][col['Ship Mode']]\n",
        "    else:\n",
        "        return col['Order ID']\n",
        "\n",
        "df['Order ID'] = df[['Order ID','Ship Mode']].apply(clean_id, axis = 1)\n"
      ]
    },
    {
      "cell_type": "code",
      "execution_count": null,
      "metadata": {
        "colab": {
          "base_uri": "https://localhost:8080/"
        },
        "id": "KZnTMrFp308G",
        "outputId": "5ca5a475-0ecc-4b74-b507-23359688cd38"
      },
      "outputs": [
        {
          "output_type": "stream",
          "name": "stdout",
          "text": [
            "<class 'pandas.core.frame.DataFrame'>\n",
            "Int64Index: 1914 entries, 0 to 1952\n",
            "Data columns (total 23 columns):\n",
            " #   Column                Non-Null Count  Dtype         \n",
            "---  ------                --------------  -----         \n",
            " 0   Order Priority        1914 non-null   object        \n",
            " 1   Discount              1914 non-null   float64       \n",
            " 2   Unit Price            1914 non-null   float64       \n",
            " 3   Shipping Cost         1914 non-null   float64       \n",
            " 4   Customer ID           1914 non-null   float64       \n",
            " 5   Customer Name         1914 non-null   object        \n",
            " 6   Ship Mode             1914 non-null   object        \n",
            " 7   Customer Segment      1914 non-null   object        \n",
            " 8   Product Category      1914 non-null   object        \n",
            " 9   Product Sub-Category  1914 non-null   object        \n",
            " 10  Product Container     1914 non-null   object        \n",
            " 11  Product Name          1914 non-null   object        \n",
            " 12  Product Base Margin   1914 non-null   float64       \n",
            " 13  Region                1914 non-null   object        \n",
            " 14  State or Province     1914 non-null   object        \n",
            " 15  City                  1914 non-null   object        \n",
            " 16  Postal Code           1914 non-null   float64       \n",
            " 17  Order Date            1914 non-null   datetime64[ns]\n",
            " 18  Profit                1914 non-null   float64       \n",
            " 19  Quantity ordered new  1914 non-null   float64       \n",
            " 20  Sales                 1914 non-null   float64       \n",
            " 21  Order ID              1914 non-null   object        \n",
            " 22  Elapsed Time          1914 non-null   int64         \n",
            "dtypes: datetime64[ns](1), float64(9), int64(1), object(12)\n",
            "memory usage: 358.9+ KB\n"
          ]
        }
      ],
      "source": [
        "df.info()"
      ]
    },
    {
      "cell_type": "code",
      "execution_count": null,
      "metadata": {
        "colab": {
          "base_uri": "https://localhost:8080/",
          "height": 377
        },
        "id": "lWJGMz6O4QFD",
        "outputId": "a9ccf0a5-c089-47bd-d97d-1ab45de49dab"
      },
      "outputs": [
        {
          "output_type": "execute_result",
          "data": {
            "text/plain": [
              "  Order Priority  Discount  Unit Price  Shipping Cost  Customer ID  \\\n",
              "0           High      0.01        2.84           0.93          3.0   \n",
              "1  Not Specified      0.02      500.98          26.00          5.0   \n",
              "2       Critical      0.06        9.48           7.29         11.0   \n",
              "3         Medium      0.09       78.69          19.99         14.0   \n",
              "4         Medium      0.08        3.28           2.31         14.0   \n",
              "\n",
              "       Customer Name       Ship Mode Customer Segment Product Category  \\\n",
              "0      Bonnie Potter     Express Air        Corporate  Office Supplies   \n",
              "1     Ronnie Proctor  Delivery Truck      Home Office        Furniture   \n",
              "2      Marcus Dunlap     Regular Air      Home Office        Furniture   \n",
              "3  Gwendolyn F Tyson     Regular Air   Small Business        Furniture   \n",
              "4  Gwendolyn F Tyson     Regular Air   Small Business  Office Supplies   \n",
              "\n",
              "  Product Sub-Category  ...   Region State or Province         City  \\\n",
              "0  Pens & Art Supplies  ...     West        Washington    Anacortes   \n",
              "1   Chairs & Chairmats  ...     West        California  San Gabriel   \n",
              "2   Office Furnishings  ...     East        New Jersey      Roselle   \n",
              "3   Office Furnishings  ...  Central         Minnesota   Prior Lake   \n",
              "4  Pens & Art Supplies  ...  Central         Minnesota   Prior Lake   \n",
              "\n",
              "  Postal Code Order Date     Profit  Quantity ordered new    Sales  Order ID  \\\n",
              "0     98221.0 2015-01-07     4.5600                   4.0    13.01   88522.0   \n",
              "1     91776.0 2015-06-13  4390.3665                  12.0  6362.85   90193.0   \n",
              "2      7203.0 2015-02-15   -53.8096                  22.0   211.15   90192.0   \n",
              "3     55372.0 2015-05-12   803.4705                  16.0  1164.45   86838.0   \n",
              "4     55372.0 2015-05-12   -24.0300                   7.0    22.23   86838.0   \n",
              "\n",
              "   Elapsed Time  \n",
              "0             1  \n",
              "1             2  \n",
              "2             2  \n",
              "3             2  \n",
              "4             1  \n",
              "\n",
              "[5 rows x 23 columns]"
            ],
            "text/html": [
              "\n",
              "  <div id=\"df-92fde9eb-3f8e-4352-842a-a47f997235f2\" class=\"colab-df-container\">\n",
              "    <div>\n",
              "<style scoped>\n",
              "    .dataframe tbody tr th:only-of-type {\n",
              "        vertical-align: middle;\n",
              "    }\n",
              "\n",
              "    .dataframe tbody tr th {\n",
              "        vertical-align: top;\n",
              "    }\n",
              "\n",
              "    .dataframe thead th {\n",
              "        text-align: right;\n",
              "    }\n",
              "</style>\n",
              "<table border=\"1\" class=\"dataframe\">\n",
              "  <thead>\n",
              "    <tr style=\"text-align: right;\">\n",
              "      <th></th>\n",
              "      <th>Order Priority</th>\n",
              "      <th>Discount</th>\n",
              "      <th>Unit Price</th>\n",
              "      <th>Shipping Cost</th>\n",
              "      <th>Customer ID</th>\n",
              "      <th>Customer Name</th>\n",
              "      <th>Ship Mode</th>\n",
              "      <th>Customer Segment</th>\n",
              "      <th>Product Category</th>\n",
              "      <th>Product Sub-Category</th>\n",
              "      <th>...</th>\n",
              "      <th>Region</th>\n",
              "      <th>State or Province</th>\n",
              "      <th>City</th>\n",
              "      <th>Postal Code</th>\n",
              "      <th>Order Date</th>\n",
              "      <th>Profit</th>\n",
              "      <th>Quantity ordered new</th>\n",
              "      <th>Sales</th>\n",
              "      <th>Order ID</th>\n",
              "      <th>Elapsed Time</th>\n",
              "    </tr>\n",
              "  </thead>\n",
              "  <tbody>\n",
              "    <tr>\n",
              "      <th>0</th>\n",
              "      <td>High</td>\n",
              "      <td>0.01</td>\n",
              "      <td>2.84</td>\n",
              "      <td>0.93</td>\n",
              "      <td>3.0</td>\n",
              "      <td>Bonnie Potter</td>\n",
              "      <td>Express Air</td>\n",
              "      <td>Corporate</td>\n",
              "      <td>Office Supplies</td>\n",
              "      <td>Pens &amp; Art Supplies</td>\n",
              "      <td>...</td>\n",
              "      <td>West</td>\n",
              "      <td>Washington</td>\n",
              "      <td>Anacortes</td>\n",
              "      <td>98221.0</td>\n",
              "      <td>2015-01-07</td>\n",
              "      <td>4.5600</td>\n",
              "      <td>4.0</td>\n",
              "      <td>13.01</td>\n",
              "      <td>88522.0</td>\n",
              "      <td>1</td>\n",
              "    </tr>\n",
              "    <tr>\n",
              "      <th>1</th>\n",
              "      <td>Not Specified</td>\n",
              "      <td>0.02</td>\n",
              "      <td>500.98</td>\n",
              "      <td>26.00</td>\n",
              "      <td>5.0</td>\n",
              "      <td>Ronnie Proctor</td>\n",
              "      <td>Delivery Truck</td>\n",
              "      <td>Home Office</td>\n",
              "      <td>Furniture</td>\n",
              "      <td>Chairs &amp; Chairmats</td>\n",
              "      <td>...</td>\n",
              "      <td>West</td>\n",
              "      <td>California</td>\n",
              "      <td>San Gabriel</td>\n",
              "      <td>91776.0</td>\n",
              "      <td>2015-06-13</td>\n",
              "      <td>4390.3665</td>\n",
              "      <td>12.0</td>\n",
              "      <td>6362.85</td>\n",
              "      <td>90193.0</td>\n",
              "      <td>2</td>\n",
              "    </tr>\n",
              "    <tr>\n",
              "      <th>2</th>\n",
              "      <td>Critical</td>\n",
              "      <td>0.06</td>\n",
              "      <td>9.48</td>\n",
              "      <td>7.29</td>\n",
              "      <td>11.0</td>\n",
              "      <td>Marcus Dunlap</td>\n",
              "      <td>Regular Air</td>\n",
              "      <td>Home Office</td>\n",
              "      <td>Furniture</td>\n",
              "      <td>Office Furnishings</td>\n",
              "      <td>...</td>\n",
              "      <td>East</td>\n",
              "      <td>New Jersey</td>\n",
              "      <td>Roselle</td>\n",
              "      <td>7203.0</td>\n",
              "      <td>2015-02-15</td>\n",
              "      <td>-53.8096</td>\n",
              "      <td>22.0</td>\n",
              "      <td>211.15</td>\n",
              "      <td>90192.0</td>\n",
              "      <td>2</td>\n",
              "    </tr>\n",
              "    <tr>\n",
              "      <th>3</th>\n",
              "      <td>Medium</td>\n",
              "      <td>0.09</td>\n",
              "      <td>78.69</td>\n",
              "      <td>19.99</td>\n",
              "      <td>14.0</td>\n",
              "      <td>Gwendolyn F Tyson</td>\n",
              "      <td>Regular Air</td>\n",
              "      <td>Small Business</td>\n",
              "      <td>Furniture</td>\n",
              "      <td>Office Furnishings</td>\n",
              "      <td>...</td>\n",
              "      <td>Central</td>\n",
              "      <td>Minnesota</td>\n",
              "      <td>Prior Lake</td>\n",
              "      <td>55372.0</td>\n",
              "      <td>2015-05-12</td>\n",
              "      <td>803.4705</td>\n",
              "      <td>16.0</td>\n",
              "      <td>1164.45</td>\n",
              "      <td>86838.0</td>\n",
              "      <td>2</td>\n",
              "    </tr>\n",
              "    <tr>\n",
              "      <th>4</th>\n",
              "      <td>Medium</td>\n",
              "      <td>0.08</td>\n",
              "      <td>3.28</td>\n",
              "      <td>2.31</td>\n",
              "      <td>14.0</td>\n",
              "      <td>Gwendolyn F Tyson</td>\n",
              "      <td>Regular Air</td>\n",
              "      <td>Small Business</td>\n",
              "      <td>Office Supplies</td>\n",
              "      <td>Pens &amp; Art Supplies</td>\n",
              "      <td>...</td>\n",
              "      <td>Central</td>\n",
              "      <td>Minnesota</td>\n",
              "      <td>Prior Lake</td>\n",
              "      <td>55372.0</td>\n",
              "      <td>2015-05-12</td>\n",
              "      <td>-24.0300</td>\n",
              "      <td>7.0</td>\n",
              "      <td>22.23</td>\n",
              "      <td>86838.0</td>\n",
              "      <td>1</td>\n",
              "    </tr>\n",
              "  </tbody>\n",
              "</table>\n",
              "<p>5 rows × 23 columns</p>\n",
              "</div>\n",
              "    <div class=\"colab-df-buttons\">\n",
              "\n",
              "  <div class=\"colab-df-container\">\n",
              "    <button class=\"colab-df-convert\" onclick=\"convertToInteractive('df-92fde9eb-3f8e-4352-842a-a47f997235f2')\"\n",
              "            title=\"Convert this dataframe to an interactive table.\"\n",
              "            style=\"display:none;\">\n",
              "\n",
              "  <svg xmlns=\"http://www.w3.org/2000/svg\" height=\"24px\" viewBox=\"0 -960 960 960\">\n",
              "    <path d=\"M120-120v-720h720v720H120Zm60-500h600v-160H180v160Zm220 220h160v-160H400v160Zm0 220h160v-160H400v160ZM180-400h160v-160H180v160Zm440 0h160v-160H620v160ZM180-180h160v-160H180v160Zm440 0h160v-160H620v160Z\"/>\n",
              "  </svg>\n",
              "    </button>\n",
              "\n",
              "  <style>\n",
              "    .colab-df-container {\n",
              "      display:flex;\n",
              "      gap: 12px;\n",
              "    }\n",
              "\n",
              "    .colab-df-convert {\n",
              "      background-color: #E8F0FE;\n",
              "      border: none;\n",
              "      border-radius: 50%;\n",
              "      cursor: pointer;\n",
              "      display: none;\n",
              "      fill: #1967D2;\n",
              "      height: 32px;\n",
              "      padding: 0 0 0 0;\n",
              "      width: 32px;\n",
              "    }\n",
              "\n",
              "    .colab-df-convert:hover {\n",
              "      background-color: #E2EBFA;\n",
              "      box-shadow: 0px 1px 2px rgba(60, 64, 67, 0.3), 0px 1px 3px 1px rgba(60, 64, 67, 0.15);\n",
              "      fill: #174EA6;\n",
              "    }\n",
              "\n",
              "    .colab-df-buttons div {\n",
              "      margin-bottom: 4px;\n",
              "    }\n",
              "\n",
              "    [theme=dark] .colab-df-convert {\n",
              "      background-color: #3B4455;\n",
              "      fill: #D2E3FC;\n",
              "    }\n",
              "\n",
              "    [theme=dark] .colab-df-convert:hover {\n",
              "      background-color: #434B5C;\n",
              "      box-shadow: 0px 1px 3px 1px rgba(0, 0, 0, 0.15);\n",
              "      filter: drop-shadow(0px 1px 2px rgba(0, 0, 0, 0.3));\n",
              "      fill: #FFFFFF;\n",
              "    }\n",
              "  </style>\n",
              "\n",
              "    <script>\n",
              "      const buttonEl =\n",
              "        document.querySelector('#df-92fde9eb-3f8e-4352-842a-a47f997235f2 button.colab-df-convert');\n",
              "      buttonEl.style.display =\n",
              "        google.colab.kernel.accessAllowed ? 'block' : 'none';\n",
              "\n",
              "      async function convertToInteractive(key) {\n",
              "        const element = document.querySelector('#df-92fde9eb-3f8e-4352-842a-a47f997235f2');\n",
              "        const dataTable =\n",
              "          await google.colab.kernel.invokeFunction('convertToInteractive',\n",
              "                                                    [key], {});\n",
              "        if (!dataTable) return;\n",
              "\n",
              "        const docLinkHtml = 'Like what you see? Visit the ' +\n",
              "          '<a target=\"_blank\" href=https://colab.research.google.com/notebooks/data_table.ipynb>data table notebook</a>'\n",
              "          + ' to learn more about interactive tables.';\n",
              "        element.innerHTML = '';\n",
              "        dataTable['output_type'] = 'display_data';\n",
              "        await google.colab.output.renderOutput(dataTable, element);\n",
              "        const docLink = document.createElement('div');\n",
              "        docLink.innerHTML = docLinkHtml;\n",
              "        element.appendChild(docLink);\n",
              "      }\n",
              "    </script>\n",
              "  </div>\n",
              "\n",
              "\n",
              "<div id=\"df-8d171156-0708-45ee-a477-42851569263f\">\n",
              "  <button class=\"colab-df-quickchart\" onclick=\"quickchart('df-8d171156-0708-45ee-a477-42851569263f')\"\n",
              "            title=\"Suggest charts.\"\n",
              "            style=\"display:none;\">\n",
              "\n",
              "<svg xmlns=\"http://www.w3.org/2000/svg\" height=\"24px\"viewBox=\"0 0 24 24\"\n",
              "     width=\"24px\">\n",
              "    <g>\n",
              "        <path d=\"M19 3H5c-1.1 0-2 .9-2 2v14c0 1.1.9 2 2 2h14c1.1 0 2-.9 2-2V5c0-1.1-.9-2-2-2zM9 17H7v-7h2v7zm4 0h-2V7h2v10zm4 0h-2v-4h2v4z\"/>\n",
              "    </g>\n",
              "</svg>\n",
              "  </button>\n",
              "\n",
              "<style>\n",
              "  .colab-df-quickchart {\n",
              "      --bg-color: #E8F0FE;\n",
              "      --fill-color: #1967D2;\n",
              "      --hover-bg-color: #E2EBFA;\n",
              "      --hover-fill-color: #174EA6;\n",
              "      --disabled-fill-color: #AAA;\n",
              "      --disabled-bg-color: #DDD;\n",
              "  }\n",
              "\n",
              "  [theme=dark] .colab-df-quickchart {\n",
              "      --bg-color: #3B4455;\n",
              "      --fill-color: #D2E3FC;\n",
              "      --hover-bg-color: #434B5C;\n",
              "      --hover-fill-color: #FFFFFF;\n",
              "      --disabled-bg-color: #3B4455;\n",
              "      --disabled-fill-color: #666;\n",
              "  }\n",
              "\n",
              "  .colab-df-quickchart {\n",
              "    background-color: var(--bg-color);\n",
              "    border: none;\n",
              "    border-radius: 50%;\n",
              "    cursor: pointer;\n",
              "    display: none;\n",
              "    fill: var(--fill-color);\n",
              "    height: 32px;\n",
              "    padding: 0;\n",
              "    width: 32px;\n",
              "  }\n",
              "\n",
              "  .colab-df-quickchart:hover {\n",
              "    background-color: var(--hover-bg-color);\n",
              "    box-shadow: 0 1px 2px rgba(60, 64, 67, 0.3), 0 1px 3px 1px rgba(60, 64, 67, 0.15);\n",
              "    fill: var(--button-hover-fill-color);\n",
              "  }\n",
              "\n",
              "  .colab-df-quickchart-complete:disabled,\n",
              "  .colab-df-quickchart-complete:disabled:hover {\n",
              "    background-color: var(--disabled-bg-color);\n",
              "    fill: var(--disabled-fill-color);\n",
              "    box-shadow: none;\n",
              "  }\n",
              "\n",
              "  .colab-df-spinner {\n",
              "    border: 2px solid var(--fill-color);\n",
              "    border-color: transparent;\n",
              "    border-bottom-color: var(--fill-color);\n",
              "    animation:\n",
              "      spin 1s steps(1) infinite;\n",
              "  }\n",
              "\n",
              "  @keyframes spin {\n",
              "    0% {\n",
              "      border-color: transparent;\n",
              "      border-bottom-color: var(--fill-color);\n",
              "      border-left-color: var(--fill-color);\n",
              "    }\n",
              "    20% {\n",
              "      border-color: transparent;\n",
              "      border-left-color: var(--fill-color);\n",
              "      border-top-color: var(--fill-color);\n",
              "    }\n",
              "    30% {\n",
              "      border-color: transparent;\n",
              "      border-left-color: var(--fill-color);\n",
              "      border-top-color: var(--fill-color);\n",
              "      border-right-color: var(--fill-color);\n",
              "    }\n",
              "    40% {\n",
              "      border-color: transparent;\n",
              "      border-right-color: var(--fill-color);\n",
              "      border-top-color: var(--fill-color);\n",
              "    }\n",
              "    60% {\n",
              "      border-color: transparent;\n",
              "      border-right-color: var(--fill-color);\n",
              "    }\n",
              "    80% {\n",
              "      border-color: transparent;\n",
              "      border-right-color: var(--fill-color);\n",
              "      border-bottom-color: var(--fill-color);\n",
              "    }\n",
              "    90% {\n",
              "      border-color: transparent;\n",
              "      border-bottom-color: var(--fill-color);\n",
              "    }\n",
              "  }\n",
              "</style>\n",
              "\n",
              "  <script>\n",
              "    async function quickchart(key) {\n",
              "      const quickchartButtonEl =\n",
              "        document.querySelector('#' + key + ' button');\n",
              "      quickchartButtonEl.disabled = true;  // To prevent multiple clicks.\n",
              "      quickchartButtonEl.classList.add('colab-df-spinner');\n",
              "      try {\n",
              "        const charts = await google.colab.kernel.invokeFunction(\n",
              "            'suggestCharts', [key], {});\n",
              "      } catch (error) {\n",
              "        console.error('Error during call to suggestCharts:', error);\n",
              "      }\n",
              "      quickchartButtonEl.classList.remove('colab-df-spinner');\n",
              "      quickchartButtonEl.classList.add('colab-df-quickchart-complete');\n",
              "    }\n",
              "    (() => {\n",
              "      let quickchartButtonEl =\n",
              "        document.querySelector('#df-8d171156-0708-45ee-a477-42851569263f button');\n",
              "      quickchartButtonEl.style.display =\n",
              "        google.colab.kernel.accessAllowed ? 'block' : 'none';\n",
              "    })();\n",
              "  </script>\n",
              "</div>\n",
              "    </div>\n",
              "  </div>\n"
            ]
          },
          "metadata": {},
          "execution_count": 44
        }
      ],
      "source": [
        "df.head()"
      ]
    },
    {
      "cell_type": "markdown",
      "metadata": {
        "id": "Lqso0Qs9Qc12"
      },
      "source": [
        "### Detecting outliers in 'Unit Price'"
      ]
    },
    {
      "cell_type": "code",
      "execution_count": null,
      "metadata": {
        "colab": {
          "base_uri": "https://localhost:8080/",
          "height": 447
        },
        "id": "WNYUDNSMQexB",
        "outputId": "c8bb90ef-2029-488b-d04c-9ceab0aad299"
      },
      "outputs": [
        {
          "output_type": "execute_result",
          "data": {
            "text/plain": [
              "<Axes: >"
            ]
          },
          "metadata": {},
          "execution_count": 45
        },
        {
          "output_type": "display_data",
          "data": {
            "text/plain": [
              "<Figure size 640x480 with 1 Axes>"
            ],
            "image/png": "[encoded data removed]"
          },
          "metadata": {}
        }
      ],
      "source": [
        "sns.boxplot(df['Unit Price'])"
      ]
    },
    {
      "cell_type": "markdown",
      "metadata": {
        "id": "Qz1u-zA_QV_9"
      },
      "source": [
        "### removing outliers using IQR for Unit Price"
      ]
    },
    {
      "cell_type": "code",
      "execution_count": null,
      "metadata": {
        "colab": {
          "base_uri": "https://localhost:8080/"
        },
        "id": "cf0UHPLLQPVi",
        "outputId": "c2cb918e-67db-49d0-cb9e-7dbe7e608c0a"
      },
      "outputs": [
        {
          "output_type": "execute_result",
          "data": {
            "text/plain": [
              "496        1.14\n",
              "1691       1.14\n",
              "473        1.26\n",
              "1155       1.48\n",
              "1203       1.48\n",
              "         ...   \n",
              "27      3502.14\n",
              "663     6783.02\n",
              "1605    6783.02\n",
              "1111    6783.02\n",
              "888     6783.02\n",
              "Name: Unit Price, Length: 1914, dtype: float64"
            ]
          },
          "metadata": {},
          "execution_count": 46
        }
      ],
      "source": [
        "from scipy import stats\n",
        "import numpy as np\n",
        "sorts=df['Unit Price'].sort_values()\n",
        "sorts"
      ]
    },
    {
      "cell_type": "markdown",
      "metadata": {
        "id": "FujIJ60-Qj3r"
      },
      "source": [
        "Sorting the data"
      ]
    },
    {
      "cell_type": "code",
      "execution_count": null,
      "metadata": {
        "colab": {
          "base_uri": "https://localhost:8080/"
        },
        "id": "3hBYB9ChQhp1",
        "outputId": "54f9ba60-aaa6-4855-837f-617308168b71"
      },
      "outputs": [
        {
          "output_type": "execute_result",
          "data": {
            "text/plain": [
              "496        1.14\n",
              "1691       1.14\n",
              "473        1.26\n",
              "1155       1.48\n",
              "1203       1.48\n",
              "         ...   \n",
              "27      3502.14\n",
              "663     6783.02\n",
              "1605    6783.02\n",
              "1111    6783.02\n",
              "888     6783.02\n",
              "Name: Unit Price, Length: 1914, dtype: float64"
            ]
          },
          "metadata": {},
          "execution_count": 47
        }
      ],
      "source": [
        "sorts=df['Unit Price'].sort_values()\n",
        "sorts"
      ]
    },
    {
      "cell_type": "markdown",
      "metadata": {
        "id": "eTgwGJ5cQqsd"
      },
      "source": [
        "calculating Q1, Q2 and IQR"
      ]
    },
    {
      "cell_type": "code",
      "execution_count": null,
      "metadata": {
        "colab": {
          "base_uri": "https://localhost:8080/"
        },
        "id": "koc3PT_SQrbu",
        "outputId": "f096ff94-f4e8-4b6b-893a-5fe139cba1b5"
      },
      "outputs": [
        {
          "output_type": "stream",
          "name": "stdout",
          "text": [
            "The value of q1 is: 6.48\n",
            "The value of q3 is: 95.99\n"
          ]
        }
      ],
      "source": [
        "q1=sorts.quantile(0.25)\n",
        "q3=sorts.quantile(0.75)\n",
        "\n",
        "print(\"The value of q1 is:\",q1)\n",
        "print(\"The value of q3 is:\",q3)"
      ]
    },
    {
      "cell_type": "code",
      "execution_count": null,
      "metadata": {
        "colab": {
          "base_uri": "https://localhost:8080/"
        },
        "id": "540JpPQ-QuRQ",
        "outputId": "73f13cea-5a1f-4779-e225-79b31a5720bb"
      },
      "outputs": [
        {
          "output_type": "stream",
          "name": "stdout",
          "text": [
            "The value of iqr is: 89.50999999999999\n"
          ]
        }
      ],
      "source": [
        "iqr = q3 - q1\n",
        "print(\"The value of iqr is:\",iqr)"
      ]
    },
    {
      "cell_type": "code",
      "execution_count": null,
      "metadata": {
        "colab": {
          "base_uri": "https://localhost:8080/"
        },
        "id": "j-uc59A3QxST",
        "outputId": "9370df0b-4424-4b4e-f89b-9d2012eb3d99"
      },
      "outputs": [
        {
          "output_type": "stream",
          "name": "stdout",
          "text": [
            "The value of lower bound is: -128\n",
            "The value of upper bound is: 230\n"
          ]
        }
      ],
      "source": [
        "lower=q1-1.5*iqr\n",
        "upper=q3+1.5*iqr\n",
        "\n",
        "print(\"The value of lower bound is:\",round(lower))\n",
        "print(\"The value of upper bound is:\",round(upper))"
      ]
    },
    {
      "cell_type": "markdown",
      "metadata": {
        "id": "m29pZ5b5Q2mZ"
      },
      "source": [
        "Trim based on the giving values , and the fact that a price can not be less than 0"
      ]
    },
    {
      "cell_type": "code",
      "execution_count": null,
      "metadata": {
        "colab": {
          "base_uri": "https://localhost:8080/"
        },
        "id": "PWGl7yk0Q4Ar",
        "outputId": "27da59e4-f509-49e1-abfe-ae21b88ea282"
      },
      "outputs": [
        {
          "output_type": "execute_result",
          "data": {
            "text/plain": [
              "count    1738.000000\n",
              "mean       44.132071\n",
              "std        56.988707\n",
              "min         1.140000\n",
              "25%         6.280000\n",
              "50%        15.960000\n",
              "75%        55.990000\n",
              "max       240.980000\n",
              "Name: Unit Price, dtype: float64"
            ]
          },
          "metadata": {},
          "execution_count": 51
        }
      ],
      "source": [
        "index = df[(df['Unit Price'] >= 243)|(df['Unit Price'] <= 0)].index\n",
        "df.drop(index, inplace=True)\n",
        "df['Unit Price'].describe()"
      ]
    },
    {
      "cell_type": "markdown",
      "metadata": {
        "id": "tGmgx6lsQ79C"
      },
      "source": [
        "number of rows after removal"
      ]
    },
    {
      "cell_type": "code",
      "execution_count": null,
      "metadata": {
        "colab": {
          "base_uri": "https://localhost:8080/"
        },
        "id": "KGdIaWFyQ7OF",
        "outputId": "40f9d66c-cf90-4e8d-e7ac-0e50feda9b74"
      },
      "outputs": [
        {
          "output_type": "execute_result",
          "data": {
            "text/plain": [
              "(1738, 23)"
            ]
          },
          "metadata": {},
          "execution_count": 52
        }
      ],
      "source": [
        "df.shape"
      ]
    },
    {
      "cell_type": "code",
      "execution_count": null,
      "metadata": {
        "colab": {
          "base_uri": "https://localhost:8080/",
          "height": 448
        },
        "id": "ZsUTK4sJQ_RP",
        "outputId": "72bfc170-5606-4de4-ec4e-c729f90d8d69"
      },
      "outputs": [
        {
          "output_type": "execute_result",
          "data": {
            "text/plain": [
              "<Axes: >"
            ]
          },
          "metadata": {},
          "execution_count": 53
        },
        {
          "output_type": "display_data",
          "data": {
            "text/plain": [
              "<Figure size 640x480 with 1 Axes>"
            ],
            "image/png": "[encoded data removed]"
          },
          "metadata": {}
        }
      ],
      "source": [
        "sns.boxplot(df['Unit Price'])"
      ]
    },
    {
      "cell_type": "markdown",
      "metadata": {
        "id": "tUxmlj5tRC3V"
      },
      "source": [
        "### Detecting outliers in 'Shipping Cost' + Removing using IQR"
      ]
    },
    {
      "cell_type": "code",
      "execution_count": null,
      "metadata": {
        "colab": {
          "base_uri": "https://localhost:8080/"
        },
        "id": "CYnWahywRFdt",
        "outputId": "ffca89de-5d10-4e45-8f47-b6ae0d53507d"
      },
      "outputs": [
        {
          "output_type": "execute_result",
          "data": {
            "text/plain": [
              "558       0.49\n",
              "1836      0.49\n",
              "1167      0.49\n",
              "1497      0.49\n",
              "1245      0.49\n",
              "         ...  \n",
              "137      80.20\n",
              "1649     89.30\n",
              "717     110.20\n",
              "1440    110.20\n",
              "1444    110.20\n",
              "Name: Shipping Cost, Length: 1738, dtype: float64"
            ]
          },
          "metadata": {},
          "execution_count": 54
        }
      ],
      "source": [
        "sortU=df['Shipping Cost'].sort_values()\n",
        "sortU"
      ]
    },
    {
      "cell_type": "code",
      "execution_count": null,
      "metadata": {
        "colab": {
          "base_uri": "https://localhost:8080/"
        },
        "id": "o2v1Ev_dRHAO",
        "outputId": "8e0e5b53-f690-4db3-99d4-b7864ffb0db9"
      },
      "outputs": [
        {
          "output_type": "stream",
          "name": "stdout",
          "text": [
            "The value of q1 is: 2.64\n",
            "The value of q3 is: 9.86\n"
          ]
        }
      ],
      "source": [
        "q1=sortU.quantile(0.25)\n",
        "q3=sortU.quantile(0.75)\n",
        "\n",
        "print(\"The value of q1 is:\",q1)\n",
        "print(\"The value of q3 is:\",q3)"
      ]
    },
    {
      "cell_type": "code",
      "execution_count": null,
      "metadata": {
        "colab": {
          "base_uri": "https://localhost:8080/"
        },
        "id": "sC96pdN1RIV4",
        "outputId": "705f9304-cb86-4546-ccfd-25d055e8e09a"
      },
      "outputs": [
        {
          "output_type": "stream",
          "name": "stdout",
          "text": [
            "The value of iqr is: 7.219999999999999\n"
          ]
        }
      ],
      "source": [
        "iqr = q3 - q1\n",
        "print(\"The value of iqr is:\",iqr)"
      ]
    },
    {
      "cell_type": "code",
      "execution_count": null,
      "metadata": {
        "colab": {
          "base_uri": "https://localhost:8080/"
        },
        "id": "dyYGrMN9RKBv",
        "outputId": "9f1eb1c2-0198-4059-cc7e-695177b664ff"
      },
      "outputs": [
        {
          "output_type": "stream",
          "name": "stdout",
          "text": [
            "The value of lower bound is: -8\n",
            "The value of upper bound is: 21\n"
          ]
        }
      ],
      "source": [
        "lower=q1-1.5*iqr\n",
        "upper=q3+1.5*iqr\n",
        "\n",
        "print(\"The value of lower bound is:\",round(lower))\n",
        "print(\"The value of upper bound is:\",round(upper))"
      ]
    },
    {
      "cell_type": "markdown",
      "source": [
        "Here we defined the bounds of Shiping Cost i.e it shouldn't be more than 80 or less that -7"
      ],
      "metadata": {
        "id": "vIhEkeZENbYU"
      }
    },
    {
      "cell_type": "code",
      "execution_count": null,
      "metadata": {
        "colab": {
          "base_uri": "https://localhost:8080/"
        },
        "id": "8SLYroTsRLd_",
        "outputId": "b61fe9a3-e7c2-4ebd-f5fe-ad599075341d"
      },
      "outputs": [
        {
          "output_type": "execute_result",
          "data": {
            "text/plain": [
              "count    1732.000000\n",
              "mean       10.409838\n",
              "std        13.625655\n",
              "min         0.490000\n",
              "25%         2.640000\n",
              "50%         5.670000\n",
              "75%         9.710000\n",
              "max        74.350000\n",
              "Name: Shipping Cost, dtype: float64"
            ]
          },
          "metadata": {},
          "execution_count": 58
        }
      ],
      "source": [
        "index = df[(df['Shipping Cost'] >= 80)|(df['Shipping Cost'] <= -7)].index\n",
        "df.drop(index, inplace=True)\n",
        "df['Shipping Cost'].describe()"
      ]
    },
    {
      "cell_type": "markdown",
      "metadata": {
        "id": "_On5rb9WROFO"
      },
      "source": []
    },
    {
      "cell_type": "markdown",
      "metadata": {
        "id": "vZDuGPvfRSkV"
      },
      "source": [
        "# number of rows after removal"
      ]
    },
    {
      "cell_type": "markdown",
      "source": [
        "After preprocessing and removing the outliers the number of rows and col have decreased from (1953, 25) to (1771, 23)\n"
      ],
      "metadata": {
        "id": "kh-wsmq9OGnb"
      }
    },
    {
      "cell_type": "code",
      "execution_count": null,
      "metadata": {
        "colab": {
          "base_uri": "https://localhost:8080/"
        },
        "id": "dtfDDpJ1RNJd",
        "outputId": "e4de74c2-0ceb-4a71-ee8e-93cc7469b85d"
      },
      "outputs": [
        {
          "output_type": "execute_result",
          "data": {
            "text/plain": [
              "(1732, 23)"
            ]
          },
          "metadata": {},
          "execution_count": 59
        }
      ],
      "source": [
        "df.shape"
      ]
    },
    {
      "cell_type": "code",
      "execution_count": null,
      "metadata": {
        "id": "EVjMfeP7ZIU7"
      },
      "outputs": [],
      "source": [
        "#importing all libraries\n",
        "import numpy as np # linear algebra\n",
        "import pandas as pd # data processing, CSV file I/O\n",
        "import sklearn.linear_model as sk\n",
        "import matplotlib.pyplot as plt\n",
        "\n",
        "\n",
        "#importing the dataset\n",
        "dataset=pd.read_csv(\"/content/drive/MyDrive/DataminingAssignment/Dataset1.csv\")"
      ]
    },
    {
      "cell_type": "code",
      "source": [
        "dataset"
      ],
      "metadata": {
        "colab": {
          "base_uri": "https://localhost:8080/",
          "height": 635
        },
        "id": "SsaGzpTb4pmJ",
        "outputId": "0fac5f01-7b50-4ef5-d4fa-fdaea76d06a8"
      },
      "execution_count": null,
      "outputs": [
        {
          "output_type": "execute_result",
          "data": {
            "text/plain": [
              "       Row ID Order Priority  Discount  Unit Price  Shipping Cost  \\\n",
              "0     20847.0           High      0.01        2.84           0.93   \n",
              "1     20228.0  Not Specified      0.02      500.98          26.00   \n",
              "2     21776.0       Critical      0.06        9.48           7.29   \n",
              "3     24844.0         Medium      0.09       78.69          19.99   \n",
              "4     24846.0         Medium      0.08        3.28           2.31   \n",
              "...       ...            ...       ...         ...            ...   \n",
              "1948  19843.0           High      0.10        7.99           5.03   \n",
              "1949  26208.0  Not Specified      0.08       11.97           5.81   \n",
              "1950  24911.0         Medium      0.10        9.38           4.93   \n",
              "1951  25914.0           High      0.10      105.98          13.99   \n",
              "1952      NaN            NaN       NaN         NaN            NaN   \n",
              "\n",
              "      Customer ID      Customer Name       Ship Mode Customer Segment  \\\n",
              "0             3.0      Bonnie Potter     Express Air        Corporate   \n",
              "1             5.0     Ronnie Proctor  Delivery Truck      Home Office   \n",
              "2            11.0      Marcus Dunlap     Regular Air      Home Office   \n",
              "3            14.0  Gwendolyn F Tyson     Regular Air   Small Business   \n",
              "4            14.0  Gwendolyn F Tyson     Regular Air   Small Business   \n",
              "...           ...                ...             ...              ...   \n",
              "1948       3397.0        Andrea Shaw     Regular Air   Small Business   \n",
              "1949       3399.0        Marvin Reid     Regular Air   Small Business   \n",
              "1950       3400.0      Florence Gold     Express Air   Small Business   \n",
              "1951       3403.0      Tammy Buckley     Express Air         Consumer   \n",
              "1952          NaN                NaN             NaN              NaN   \n",
              "\n",
              "     Product Category  ...   Region State or Province         City  \\\n",
              "0     Office Supplies  ...     West        Washington    Anacortes   \n",
              "1           Furniture  ...     West        California  San Gabriel   \n",
              "2           Furniture  ...     East        New Jersey      Roselle   \n",
              "3           Furniture  ...  Central         Minnesota   Prior Lake   \n",
              "4     Office Supplies  ...  Central         Minnesota   Prior Lake   \n",
              "...               ...  ...      ...               ...          ...   \n",
              "1948       Technology  ...  Central          Illinois     Danville   \n",
              "1949  Office Supplies  ...  Central          Illinois  Des Plaines   \n",
              "1950        Furniture  ...     East     West Virginia     Fairmont   \n",
              "1951        Furniture  ...     West           Wyoming     Cheyenne   \n",
              "1952              NaN  ...      NaN               NaN          NaN   \n",
              "\n",
              "      Postal Code  Order Date   Ship Date     Profit Quantity ordered new  \\\n",
              "0         98221.0  07/01/2015  08/01/2015     4.5600                  4.0   \n",
              "1         91776.0  13/06/2015  15/06/2015  4390.3665                 12.0   \n",
              "2          7203.0  15/02/2015  17/02/2015   -53.8096                 22.0   \n",
              "3         55372.0  12/05/2015  14/05/2015   803.4705                 16.0   \n",
              "4         55372.0  12/05/2015  13/05/2015   -24.0300                  7.0   \n",
              "...           ...         ...         ...        ...                  ...   \n",
              "1948      61832.0  11/03/2015  12/03/2015  -160.9520                 22.0   \n",
              "1949      60016.0  29/03/2015  31/03/2015   -41.8700                  5.0   \n",
              "1950      26554.0  04/04/2015  04/04/2015   -24.7104                 15.0   \n",
              "1951      82001.0  08/02/2015  11/02/2015   349.4850                  5.0   \n",
              "1952          NaN         NaN         NaN        NaN                  NaN   \n",
              "\n",
              "        Sales Order ID  \n",
              "0       13.01  88522.0  \n",
              "1     6362.85  90193.0  \n",
              "2      211.15  90192.0  \n",
              "3     1164.45  86838.0  \n",
              "4       22.23  86838.0  \n",
              "...       ...      ...  \n",
              "1948   143.12  87536.0  \n",
              "1949    59.98  87534.0  \n",
              "1950   135.78  87537.0  \n",
              "1951   506.50  87530.0  \n",
              "1952      NaN      NaN  \n",
              "\n",
              "[1953 rows x 25 columns]"
            ],
            "text/html": [
              "\n",
              "  <div id=\"df-a6121b2c-5d2e-4cc6-a066-ebaabfe69d37\" class=\"colab-df-container\">\n",
              "    <div>\n",
              "<style scoped>\n",
              "    .dataframe tbody tr th:only-of-type {\n",
              "        vertical-align: middle;\n",
              "    }\n",
              "\n",
              "    .dataframe tbody tr th {\n",
              "        vertical-align: top;\n",
              "    }\n",
              "\n",
              "    .dataframe thead th {\n",
              "        text-align: right;\n",
              "    }\n",
              "</style>\n",
              "<table border=\"1\" class=\"dataframe\">\n",
              "  <thead>\n",
              "    <tr style=\"text-align: right;\">\n",
              "      <th></th>\n",
              "      <th>Row ID</th>\n",
              "      <th>Order Priority</th>\n",
              "      <th>Discount</th>\n",
              "      <th>Unit Price</th>\n",
              "      <th>Shipping Cost</th>\n",
              "      <th>Customer ID</th>\n",
              "      <th>Customer Name</th>\n",
              "      <th>Ship Mode</th>\n",
              "      <th>Customer Segment</th>\n",
              "      <th>Product Category</th>\n",
              "      <th>...</th>\n",
              "      <th>Region</th>\n",
              "      <th>State or Province</th>\n",
              "      <th>City</th>\n",
              "      <th>Postal Code</th>\n",
              "      <th>Order Date</th>\n",
              "      <th>Ship Date</th>\n",
              "      <th>Profit</th>\n",
              "      <th>Quantity ordered new</th>\n",
              "      <th>Sales</th>\n",
              "      <th>Order ID</th>\n",
              "    </tr>\n",
              "  </thead>\n",
              "  <tbody>\n",
              "    <tr>\n",
              "      <th>0</th>\n",
              "      <td>20847.0</td>\n",
              "      <td>High</td>\n",
              "      <td>0.01</td>\n",
              "      <td>2.84</td>\n",
              "      <td>0.93</td>\n",
              "      <td>3.0</td>\n",
              "      <td>Bonnie Potter</td>\n",
              "      <td>Express Air</td>\n",
              "      <td>Corporate</td>\n",
              "      <td>Office Supplies</td>\n",
              "      <td>...</td>\n",
              "      <td>West</td>\n",
              "      <td>Washington</td>\n",
              "      <td>Anacortes</td>\n",
              "      <td>98221.0</td>\n",
              "      <td>07/01/2015</td>\n",
              "      <td>08/01/2015</td>\n",
              "      <td>4.5600</td>\n",
              "      <td>4.0</td>\n",
              "      <td>13.01</td>\n",
              "      <td>88522.0</td>\n",
              "    </tr>\n",
              "    <tr>\n",
              "      <th>1</th>\n",
              "      <td>20228.0</td>\n",
              "      <td>Not Specified</td>\n",
              "      <td>0.02</td>\n",
              "      <td>500.98</td>\n",
              "      <td>26.00</td>\n",
              "      <td>5.0</td>\n",
              "      <td>Ronnie Proctor</td>\n",
              "      <td>Delivery Truck</td>\n",
              "      <td>Home Office</td>\n",
              "      <td>Furniture</td>\n",
              "      <td>...</td>\n",
              "      <td>West</td>\n",
              "      <td>California</td>\n",
              "      <td>San Gabriel</td>\n",
              "      <td>91776.0</td>\n",
              "      <td>13/06/2015</td>\n",
              "      <td>15/06/2015</td>\n",
              "      <td>4390.3665</td>\n",
              "      <td>12.0</td>\n",
              "      <td>6362.85</td>\n",
              "      <td>90193.0</td>\n",
              "    </tr>\n",
              "    <tr>\n",
              "      <th>2</th>\n",
              "      <td>21776.0</td>\n",
              "      <td>Critical</td>\n",
              "      <td>0.06</td>\n",
              "      <td>9.48</td>\n",
              "      <td>7.29</td>\n",
              "      <td>11.0</td>\n",
              "      <td>Marcus Dunlap</td>\n",
              "      <td>Regular Air</td>\n",
              "      <td>Home Office</td>\n",
              "      <td>Furniture</td>\n",
              "      <td>...</td>\n",
              "      <td>East</td>\n",
              "      <td>New Jersey</td>\n",
              "      <td>Roselle</td>\n",
              "      <td>7203.0</td>\n",
              "      <td>15/02/2015</td>\n",
              "      <td>17/02/2015</td>\n",
              "      <td>-53.8096</td>\n",
              "      <td>22.0</td>\n",
              "      <td>211.15</td>\n",
              "      <td>90192.0</td>\n",
              "    </tr>\n",
              "    <tr>\n",
              "      <th>3</th>\n",
              "      <td>24844.0</td>\n",
              "      <td>Medium</td>\n",
              "      <td>0.09</td>\n",
              "      <td>78.69</td>\n",
              "      <td>19.99</td>\n",
              "      <td>14.0</td>\n",
              "      <td>Gwendolyn F Tyson</td>\n",
              "      <td>Regular Air</td>\n",
              "      <td>Small Business</td>\n",
              "      <td>Furniture</td>\n",
              "      <td>...</td>\n",
              "      <td>Central</td>\n",
              "      <td>Minnesota</td>\n",
              "      <td>Prior Lake</td>\n",
              "      <td>55372.0</td>\n",
              "      <td>12/05/2015</td>\n",
              "      <td>14/05/2015</td>\n",
              "      <td>803.4705</td>\n",
              "      <td>16.0</td>\n",
              "      <td>1164.45</td>\n",
              "      <td>86838.0</td>\n",
              "    </tr>\n",
              "    <tr>\n",
              "      <th>4</th>\n",
              "      <td>24846.0</td>\n",
              "      <td>Medium</td>\n",
              "      <td>0.08</td>\n",
              "      <td>3.28</td>\n",
              "      <td>2.31</td>\n",
              "      <td>14.0</td>\n",
              "      <td>Gwendolyn F Tyson</td>\n",
              "      <td>Regular Air</td>\n",
              "      <td>Small Business</td>\n",
              "      <td>Office Supplies</td>\n",
              "      <td>...</td>\n",
              "      <td>Central</td>\n",
              "      <td>Minnesota</td>\n",
              "      <td>Prior Lake</td>\n",
              "      <td>55372.0</td>\n",
              "      <td>12/05/2015</td>\n",
              "      <td>13/05/2015</td>\n",
              "      <td>-24.0300</td>\n",
              "      <td>7.0</td>\n",
              "      <td>22.23</td>\n",
              "      <td>86838.0</td>\n",
              "    </tr>\n",
              "    <tr>\n",
              "      <th>...</th>\n",
              "      <td>...</td>\n",
              "      <td>...</td>\n",
              "      <td>...</td>\n",
              "      <td>...</td>\n",
              "      <td>...</td>\n",
              "      <td>...</td>\n",
              "      <td>...</td>\n",
              "      <td>...</td>\n",
              "      <td>...</td>\n",
              "      <td>...</td>\n",
              "      <td>...</td>\n",
              "      <td>...</td>\n",
              "      <td>...</td>\n",
              "      <td>...</td>\n",
              "      <td>...</td>\n",
              "      <td>...</td>\n",
              "      <td>...</td>\n",
              "      <td>...</td>\n",
              "      <td>...</td>\n",
              "      <td>...</td>\n",
              "      <td>...</td>\n",
              "    </tr>\n",
              "    <tr>\n",
              "      <th>1948</th>\n",
              "      <td>19843.0</td>\n",
              "      <td>High</td>\n",
              "      <td>0.10</td>\n",
              "      <td>7.99</td>\n",
              "      <td>5.03</td>\n",
              "      <td>3397.0</td>\n",
              "      <td>Andrea Shaw</td>\n",
              "      <td>Regular Air</td>\n",
              "      <td>Small Business</td>\n",
              "      <td>Technology</td>\n",
              "      <td>...</td>\n",
              "      <td>Central</td>\n",
              "      <td>Illinois</td>\n",
              "      <td>Danville</td>\n",
              "      <td>61832.0</td>\n",
              "      <td>11/03/2015</td>\n",
              "      <td>12/03/2015</td>\n",
              "      <td>-160.9520</td>\n",
              "      <td>22.0</td>\n",
              "      <td>143.12</td>\n",
              "      <td>87536.0</td>\n",
              "    </tr>\n",
              "    <tr>\n",
              "      <th>1949</th>\n",
              "      <td>26208.0</td>\n",
              "      <td>Not Specified</td>\n",
              "      <td>0.08</td>\n",
              "      <td>11.97</td>\n",
              "      <td>5.81</td>\n",
              "      <td>3399.0</td>\n",
              "      <td>Marvin Reid</td>\n",
              "      <td>Regular Air</td>\n",
              "      <td>Small Business</td>\n",
              "      <td>Office Supplies</td>\n",
              "      <td>...</td>\n",
              "      <td>Central</td>\n",
              "      <td>Illinois</td>\n",
              "      <td>Des Plaines</td>\n",
              "      <td>60016.0</td>\n",
              "      <td>29/03/2015</td>\n",
              "      <td>31/03/2015</td>\n",
              "      <td>-41.8700</td>\n",
              "      <td>5.0</td>\n",
              "      <td>59.98</td>\n",
              "      <td>87534.0</td>\n",
              "    </tr>\n",
              "    <tr>\n",
              "      <th>1950</th>\n",
              "      <td>24911.0</td>\n",
              "      <td>Medium</td>\n",
              "      <td>0.10</td>\n",
              "      <td>9.38</td>\n",
              "      <td>4.93</td>\n",
              "      <td>3400.0</td>\n",
              "      <td>Florence Gold</td>\n",
              "      <td>Express Air</td>\n",
              "      <td>Small Business</td>\n",
              "      <td>Furniture</td>\n",
              "      <td>...</td>\n",
              "      <td>East</td>\n",
              "      <td>West Virginia</td>\n",
              "      <td>Fairmont</td>\n",
              "      <td>26554.0</td>\n",
              "      <td>04/04/2015</td>\n",
              "      <td>04/04/2015</td>\n",
              "      <td>-24.7104</td>\n",
              "      <td>15.0</td>\n",
              "      <td>135.78</td>\n",
              "      <td>87537.0</td>\n",
              "    </tr>\n",
              "    <tr>\n",
              "      <th>1951</th>\n",
              "      <td>25914.0</td>\n",
              "      <td>High</td>\n",
              "      <td>0.10</td>\n",
              "      <td>105.98</td>\n",
              "      <td>13.99</td>\n",
              "      <td>3403.0</td>\n",
              "      <td>Tammy Buckley</td>\n",
              "      <td>Express Air</td>\n",
              "      <td>Consumer</td>\n",
              "      <td>Furniture</td>\n",
              "      <td>...</td>\n",
              "      <td>West</td>\n",
              "      <td>Wyoming</td>\n",
              "      <td>Cheyenne</td>\n",
              "      <td>82001.0</td>\n",
              "      <td>08/02/2015</td>\n",
              "      <td>11/02/2015</td>\n",
              "      <td>349.4850</td>\n",
              "      <td>5.0</td>\n",
              "      <td>506.50</td>\n",
              "      <td>87530.0</td>\n",
              "    </tr>\n",
              "    <tr>\n",
              "      <th>1952</th>\n",
              "      <td>NaN</td>\n",
              "      <td>NaN</td>\n",
              "      <td>NaN</td>\n",
              "      <td>NaN</td>\n",
              "      <td>NaN</td>\n",
              "      <td>NaN</td>\n",
              "      <td>NaN</td>\n",
              "      <td>NaN</td>\n",
              "      <td>NaN</td>\n",
              "      <td>NaN</td>\n",
              "      <td>...</td>\n",
              "      <td>NaN</td>\n",
              "      <td>NaN</td>\n",
              "      <td>NaN</td>\n",
              "      <td>NaN</td>\n",
              "      <td>NaN</td>\n",
              "      <td>NaN</td>\n",
              "      <td>NaN</td>\n",
              "      <td>NaN</td>\n",
              "      <td>NaN</td>\n",
              "      <td>NaN</td>\n",
              "    </tr>\n",
              "  </tbody>\n",
              "</table>\n",
              "<p>1953 rows × 25 columns</p>\n",
              "</div>\n",
              "    <div class=\"colab-df-buttons\">\n",
              "\n",
              "  <div class=\"colab-df-container\">\n",
              "    <button class=\"colab-df-convert\" onclick=\"convertToInteractive('df-a6121b2c-5d2e-4cc6-a066-ebaabfe69d37')\"\n",
              "            title=\"Convert this dataframe to an interactive table.\"\n",
              "            style=\"display:none;\">\n",
              "\n",
              "  <svg xmlns=\"http://www.w3.org/2000/svg\" height=\"24px\" viewBox=\"0 -960 960 960\">\n",
              "    <path d=\"M120-120v-720h720v720H120Zm60-500h600v-160H180v160Zm220 220h160v-160H400v160Zm0 220h160v-160H400v160ZM180-400h160v-160H180v160Zm440 0h160v-160H620v160ZM180-180h160v-160H180v160Zm440 0h160v-160H620v160Z\"/>\n",
              "  </svg>\n",
              "    </button>\n",
              "\n",
              "  <style>\n",
              "    .colab-df-container {\n",
              "      display:flex;\n",
              "      gap: 12px;\n",
              "    }\n",
              "\n",
              "    .colab-df-convert {\n",
              "      background-color: #E8F0FE;\n",
              "      border: none;\n",
              "      border-radius: 50%;\n",
              "      cursor: pointer;\n",
              "      display: none;\n",
              "      fill: #1967D2;\n",
              "      height: 32px;\n",
              "      padding: 0 0 0 0;\n",
              "      width: 32px;\n",
              "    }\n",
              "\n",
              "    .colab-df-convert:hover {\n",
              "      background-color: #E2EBFA;\n",
              "      box-shadow: 0px 1px 2px rgba(60, 64, 67, 0.3), 0px 1px 3px 1px rgba(60, 64, 67, 0.15);\n",
              "      fill: #174EA6;\n",
              "    }\n",
              "\n",
              "    .colab-df-buttons div {\n",
              "      margin-bottom: 4px;\n",
              "    }\n",
              "\n",
              "    [theme=dark] .colab-df-convert {\n",
              "      background-color: #3B4455;\n",
              "      fill: #D2E3FC;\n",
              "    }\n",
              "\n",
              "    [theme=dark] .colab-df-convert:hover {\n",
              "      background-color: #434B5C;\n",
              "      box-shadow: 0px 1px 3px 1px rgba(0, 0, 0, 0.15);\n",
              "      filter: drop-shadow(0px 1px 2px rgba(0, 0, 0, 0.3));\n",
              "      fill: #FFFFFF;\n",
              "    }\n",
              "  </style>\n",
              "\n",
              "    <script>\n",
              "      const buttonEl =\n",
              "        document.querySelector('#df-a6121b2c-5d2e-4cc6-a066-ebaabfe69d37 button.colab-df-convert');\n",
              "      buttonEl.style.display =\n",
              "        google.colab.kernel.accessAllowed ? 'block' : 'none';\n",
              "\n",
              "      async function convertToInteractive(key) {\n",
              "        const element = document.querySelector('#df-a6121b2c-5d2e-4cc6-a066-ebaabfe69d37');\n",
              "        const dataTable =\n",
              "          await google.colab.kernel.invokeFunction('convertToInteractive',\n",
              "                                                    [key], {});\n",
              "        if (!dataTable) return;\n",
              "\n",
              "        const docLinkHtml = 'Like what you see? Visit the ' +\n",
              "          '<a target=\"_blank\" href=https://colab.research.google.com/notebooks/data_table.ipynb>data table notebook</a>'\n",
              "          + ' to learn more about interactive tables.';\n",
              "        element.innerHTML = '';\n",
              "        dataTable['output_type'] = 'display_data';\n",
              "        await google.colab.output.renderOutput(dataTable, element);\n",
              "        const docLink = document.createElement('div');\n",
              "        docLink.innerHTML = docLinkHtml;\n",
              "        element.appendChild(docLink);\n",
              "      }\n",
              "    </script>\n",
              "  </div>\n",
              "\n",
              "\n",
              "<div id=\"df-52efa904-477e-47c0-be8b-b98325ed02f8\">\n",
              "  <button class=\"colab-df-quickchart\" onclick=\"quickchart('df-52efa904-477e-47c0-be8b-b98325ed02f8')\"\n",
              "            title=\"Suggest charts.\"\n",
              "            style=\"display:none;\">\n",
              "\n",
              "<svg xmlns=\"http://www.w3.org/2000/svg\" height=\"24px\"viewBox=\"0 0 24 24\"\n",
              "     width=\"24px\">\n",
              "    <g>\n",
              "        <path d=\"M19 3H5c-1.1 0-2 .9-2 2v14c0 1.1.9 2 2 2h14c1.1 0 2-.9 2-2V5c0-1.1-.9-2-2-2zM9 17H7v-7h2v7zm4 0h-2V7h2v10zm4 0h-2v-4h2v4z\"/>\n",
              "    </g>\n",
              "</svg>\n",
              "  </button>\n",
              "\n",
              "<style>\n",
              "  .colab-df-quickchart {\n",
              "      --bg-color: #E8F0FE;\n",
              "      --fill-color: #1967D2;\n",
              "      --hover-bg-color: #E2EBFA;\n",
              "      --hover-fill-color: #174EA6;\n",
              "      --disabled-fill-color: #AAA;\n",
              "      --disabled-bg-color: #DDD;\n",
              "  }\n",
              "\n",
              "  [theme=dark] .colab-df-quickchart {\n",
              "      --bg-color: #3B4455;\n",
              "      --fill-color: #D2E3FC;\n",
              "      --hover-bg-color: #434B5C;\n",
              "      --hover-fill-color: #FFFFFF;\n",
              "      --disabled-bg-color: #3B4455;\n",
              "      --disabled-fill-color: #666;\n",
              "  }\n",
              "\n",
              "  .colab-df-quickchart {\n",
              "    background-color: var(--bg-color);\n",
              "    border: none;\n",
              "    border-radius: 50%;\n",
              "    cursor: pointer;\n",
              "    display: none;\n",
              "    fill: var(--fill-color);\n",
              "    height: 32px;\n",
              "    padding: 0;\n",
              "    width: 32px;\n",
              "  }\n",
              "\n",
              "  .colab-df-quickchart:hover {\n",
              "    background-color: var(--hover-bg-color);\n",
              "    box-shadow: 0 1px 2px rgba(60, 64, 67, 0.3), 0 1px 3px 1px rgba(60, 64, 67, 0.15);\n",
              "    fill: var(--button-hover-fill-color);\n",
              "  }\n",
              "\n",
              "  .colab-df-quickchart-complete:disabled,\n",
              "  .colab-df-quickchart-complete:disabled:hover {\n",
              "    background-color: var(--disabled-bg-color);\n",
              "    fill: var(--disabled-fill-color);\n",
              "    box-shadow: none;\n",
              "  }\n",
              "\n",
              "  .colab-df-spinner {\n",
              "    border: 2px solid var(--fill-color);\n",
              "    border-color: transparent;\n",
              "    border-bottom-color: var(--fill-color);\n",
              "    animation:\n",
              "      spin 1s steps(1) infinite;\n",
              "  }\n",
              "\n",
              "  @keyframes spin {\n",
              "    0% {\n",
              "      border-color: transparent;\n",
              "      border-bottom-color: var(--fill-color);\n",
              "      border-left-color: var(--fill-color);\n",
              "    }\n",
              "    20% {\n",
              "      border-color: transparent;\n",
              "      border-left-color: var(--fill-color);\n",
              "      border-top-color: var(--fill-color);\n",
              "    }\n",
              "    30% {\n",
              "      border-color: transparent;\n",
              "      border-left-color: var(--fill-color);\n",
              "      border-top-color: var(--fill-color);\n",
              "      border-right-color: var(--fill-color);\n",
              "    }\n",
              "    40% {\n",
              "      border-color: transparent;\n",
              "      border-right-color: var(--fill-color);\n",
              "      border-top-color: var(--fill-color);\n",
              "    }\n",
              "    60% {\n",
              "      border-color: transparent;\n",
              "      border-right-color: var(--fill-color);\n",
              "    }\n",
              "    80% {\n",
              "      border-color: transparent;\n",
              "      border-right-color: var(--fill-color);\n",
              "      border-bottom-color: var(--fill-color);\n",
              "    }\n",
              "    90% {\n",
              "      border-color: transparent;\n",
              "      border-bottom-color: var(--fill-color);\n",
              "    }\n",
              "  }\n",
              "</style>\n",
              "\n",
              "  <script>\n",
              "    async function quickchart(key) {\n",
              "      const quickchartButtonEl =\n",
              "        document.querySelector('#' + key + ' button');\n",
              "      quickchartButtonEl.disabled = true;  // To prevent multiple clicks.\n",
              "      quickchartButtonEl.classList.add('colab-df-spinner');\n",
              "      try {\n",
              "        const charts = await google.colab.kernel.invokeFunction(\n",
              "            'suggestCharts', [key], {});\n",
              "      } catch (error) {\n",
              "        console.error('Error during call to suggestCharts:', error);\n",
              "      }\n",
              "      quickchartButtonEl.classList.remove('colab-df-spinner');\n",
              "      quickchartButtonEl.classList.add('colab-df-quickchart-complete');\n",
              "    }\n",
              "    (() => {\n",
              "      let quickchartButtonEl =\n",
              "        document.querySelector('#df-52efa904-477e-47c0-be8b-b98325ed02f8 button');\n",
              "      quickchartButtonEl.style.display =\n",
              "        google.colab.kernel.accessAllowed ? 'block' : 'none';\n",
              "    })();\n",
              "  </script>\n",
              "</div>\n",
              "    </div>\n",
              "  </div>\n"
            ]
          },
          "metadata": {},
          "execution_count": 61
        }
      ]
    },
    {
      "cell_type": "code",
      "execution_count": null,
      "metadata": {
        "colab": {
          "base_uri": "https://localhost:8080/",
          "height": 231
        },
        "id": "d53YPPUtZOIA",
        "outputId": "1fed393d-bfe1-41e3-9331-8abaf1c9e380"
      },
      "outputs": [
        {
          "output_type": "execute_result",
          "data": {
            "text/plain": [
              "  Order Priority  Discount  Unit Price  Shipping Cost  Customer ID  \\\n",
              "0           High      0.01        2.84           0.93          3.0   \n",
              "2       Critical      0.06        9.48           7.29         11.0   \n",
              "\n",
              "   Customer Name    Ship Mode Customer Segment Product Category  \\\n",
              "0  Bonnie Potter  Express Air        Corporate  Office Supplies   \n",
              "2  Marcus Dunlap  Regular Air      Home Office        Furniture   \n",
              "\n",
              "  Product Sub-Category  ... Region State or Province       City Postal Code  \\\n",
              "0  Pens & Art Supplies  ...   West        Washington  Anacortes     98221.0   \n",
              "2   Office Furnishings  ...   East        New Jersey    Roselle      7203.0   \n",
              "\n",
              "  Order Date   Profit  Quantity ordered new   Sales  Order ID  Elapsed Time  \n",
              "0 2015-01-07   4.5600                   4.0   13.01   88522.0             1  \n",
              "2 2015-02-15 -53.8096                  22.0  211.15   90192.0             2  \n",
              "\n",
              "[2 rows x 23 columns]"
            ],
            "text/html": [
              "\n",
              "  <div id=\"df-846a92b4-3572-4577-afcf-bda9b8e90285\" class=\"colab-df-container\">\n",
              "    <div>\n",
              "<style scoped>\n",
              "    .dataframe tbody tr th:only-of-type {\n",
              "        vertical-align: middle;\n",
              "    }\n",
              "\n",
              "    .dataframe tbody tr th {\n",
              "        vertical-align: top;\n",
              "    }\n",
              "\n",
              "    .dataframe thead th {\n",
              "        text-align: right;\n",
              "    }\n",
              "</style>\n",
              "<table border=\"1\" class=\"dataframe\">\n",
              "  <thead>\n",
              "    <tr style=\"text-align: right;\">\n",
              "      <th></th>\n",
              "      <th>Order Priority</th>\n",
              "      <th>Discount</th>\n",
              "      <th>Unit Price</th>\n",
              "      <th>Shipping Cost</th>\n",
              "      <th>Customer ID</th>\n",
              "      <th>Customer Name</th>\n",
              "      <th>Ship Mode</th>\n",
              "      <th>Customer Segment</th>\n",
              "      <th>Product Category</th>\n",
              "      <th>Product Sub-Category</th>\n",
              "      <th>...</th>\n",
              "      <th>Region</th>\n",
              "      <th>State or Province</th>\n",
              "      <th>City</th>\n",
              "      <th>Postal Code</th>\n",
              "      <th>Order Date</th>\n",
              "      <th>Profit</th>\n",
              "      <th>Quantity ordered new</th>\n",
              "      <th>Sales</th>\n",
              "      <th>Order ID</th>\n",
              "      <th>Elapsed Time</th>\n",
              "    </tr>\n",
              "  </thead>\n",
              "  <tbody>\n",
              "    <tr>\n",
              "      <th>0</th>\n",
              "      <td>High</td>\n",
              "      <td>0.01</td>\n",
              "      <td>2.84</td>\n",
              "      <td>0.93</td>\n",
              "      <td>3.0</td>\n",
              "      <td>Bonnie Potter</td>\n",
              "      <td>Express Air</td>\n",
              "      <td>Corporate</td>\n",
              "      <td>Office Supplies</td>\n",
              "      <td>Pens &amp; Art Supplies</td>\n",
              "      <td>...</td>\n",
              "      <td>West</td>\n",
              "      <td>Washington</td>\n",
              "      <td>Anacortes</td>\n",
              "      <td>98221.0</td>\n",
              "      <td>2015-01-07</td>\n",
              "      <td>4.5600</td>\n",
              "      <td>4.0</td>\n",
              "      <td>13.01</td>\n",
              "      <td>88522.0</td>\n",
              "      <td>1</td>\n",
              "    </tr>\n",
              "    <tr>\n",
              "      <th>2</th>\n",
              "      <td>Critical</td>\n",
              "      <td>0.06</td>\n",
              "      <td>9.48</td>\n",
              "      <td>7.29</td>\n",
              "      <td>11.0</td>\n",
              "      <td>Marcus Dunlap</td>\n",
              "      <td>Regular Air</td>\n",
              "      <td>Home Office</td>\n",
              "      <td>Furniture</td>\n",
              "      <td>Office Furnishings</td>\n",
              "      <td>...</td>\n",
              "      <td>East</td>\n",
              "      <td>New Jersey</td>\n",
              "      <td>Roselle</td>\n",
              "      <td>7203.0</td>\n",
              "      <td>2015-02-15</td>\n",
              "      <td>-53.8096</td>\n",
              "      <td>22.0</td>\n",
              "      <td>211.15</td>\n",
              "      <td>90192.0</td>\n",
              "      <td>2</td>\n",
              "    </tr>\n",
              "  </tbody>\n",
              "</table>\n",
              "<p>2 rows × 23 columns</p>\n",
              "</div>\n",
              "    <div class=\"colab-df-buttons\">\n",
              "\n",
              "  <div class=\"colab-df-container\">\n",
              "    <button class=\"colab-df-convert\" onclick=\"convertToInteractive('df-846a92b4-3572-4577-afcf-bda9b8e90285')\"\n",
              "            title=\"Convert this dataframe to an interactive table.\"\n",
              "            style=\"display:none;\">\n",
              "\n",
              "  <svg xmlns=\"http://www.w3.org/2000/svg\" height=\"24px\" viewBox=\"0 -960 960 960\">\n",
              "    <path d=\"M120-120v-720h720v720H120Zm60-500h600v-160H180v160Zm220 220h160v-160H400v160Zm0 220h160v-160H400v160ZM180-400h160v-160H180v160Zm440 0h160v-160H620v160ZM180-180h160v-160H180v160Zm440 0h160v-160H620v160Z\"/>\n",
              "  </svg>\n",
              "    </button>\n",
              "\n",
              "  <style>\n",
              "    .colab-df-container {\n",
              "      display:flex;\n",
              "      gap: 12px;\n",
              "    }\n",
              "\n",
              "    .colab-df-convert {\n",
              "      background-color: #E8F0FE;\n",
              "      border: none;\n",
              "      border-radius: 50%;\n",
              "      cursor: pointer;\n",
              "      display: none;\n",
              "      fill: #1967D2;\n",
              "      height: 32px;\n",
              "      padding: 0 0 0 0;\n",
              "      width: 32px;\n",
              "    }\n",
              "\n",
              "    .colab-df-convert:hover {\n",
              "      background-color: #E2EBFA;\n",
              "      box-shadow: 0px 1px 2px rgba(60, 64, 67, 0.3), 0px 1px 3px 1px rgba(60, 64, 67, 0.15);\n",
              "      fill: #174EA6;\n",
              "    }\n",
              "\n",
              "    .colab-df-buttons div {\n",
              "      margin-bottom: 4px;\n",
              "    }\n",
              "\n",
              "    [theme=dark] .colab-df-convert {\n",
              "      background-color: #3B4455;\n",
              "      fill: #D2E3FC;\n",
              "    }\n",
              "\n",
              "    [theme=dark] .colab-df-convert:hover {\n",
              "      background-color: #434B5C;\n",
              "      box-shadow: 0px 1px 3px 1px rgba(0, 0, 0, 0.15);\n",
              "      filter: drop-shadow(0px 1px 2px rgba(0, 0, 0, 0.3));\n",
              "      fill: #FFFFFF;\n",
              "    }\n",
              "  </style>\n",
              "\n",
              "    <script>\n",
              "      const buttonEl =\n",
              "        document.querySelector('#df-846a92b4-3572-4577-afcf-bda9b8e90285 button.colab-df-convert');\n",
              "      buttonEl.style.display =\n",
              "        google.colab.kernel.accessAllowed ? 'block' : 'none';\n",
              "\n",
              "      async function convertToInteractive(key) {\n",
              "        const element = document.querySelector('#df-846a92b4-3572-4577-afcf-bda9b8e90285');\n",
              "        const dataTable =\n",
              "          await google.colab.kernel.invokeFunction('convertToInteractive',\n",
              "                                                    [key], {});\n",
              "        if (!dataTable) return;\n",
              "\n",
              "        const docLinkHtml = 'Like what you see? Visit the ' +\n",
              "          '<a target=\"_blank\" href=https://colab.research.google.com/notebooks/data_table.ipynb>data table notebook</a>'\n",
              "          + ' to learn more about interactive tables.';\n",
              "        element.innerHTML = '';\n",
              "        dataTable['output_type'] = 'display_data';\n",
              "        await google.colab.output.renderOutput(dataTable, element);\n",
              "        const docLink = document.createElement('div');\n",
              "        docLink.innerHTML = docLinkHtml;\n",
              "        element.appendChild(docLink);\n",
              "      }\n",
              "    </script>\n",
              "  </div>\n",
              "\n",
              "\n",
              "<div id=\"df-7930e411-4ffe-4d90-829f-4bc487796e9c\">\n",
              "  <button class=\"colab-df-quickchart\" onclick=\"quickchart('df-7930e411-4ffe-4d90-829f-4bc487796e9c')\"\n",
              "            title=\"Suggest charts.\"\n",
              "            style=\"display:none;\">\n",
              "\n",
              "<svg xmlns=\"http://www.w3.org/2000/svg\" height=\"24px\"viewBox=\"0 0 24 24\"\n",
              "     width=\"24px\">\n",
              "    <g>\n",
              "        <path d=\"M19 3H5c-1.1 0-2 .9-2 2v14c0 1.1.9 2 2 2h14c1.1 0 2-.9 2-2V5c0-1.1-.9-2-2-2zM9 17H7v-7h2v7zm4 0h-2V7h2v10zm4 0h-2v-4h2v4z\"/>\n",
              "    </g>\n",
              "</svg>\n",
              "  </button>\n",
              "\n",
              "<style>\n",
              "  .colab-df-quickchart {\n",
              "      --bg-color: #E8F0FE;\n",
              "      --fill-color: #1967D2;\n",
              "      --hover-bg-color: #E2EBFA;\n",
              "      --hover-fill-color: #174EA6;\n",
              "      --disabled-fill-color: #AAA;\n",
              "      --disabled-bg-color: #DDD;\n",
              "  }\n",
              "\n",
              "  [theme=dark] .colab-df-quickchart {\n",
              "      --bg-color: #3B4455;\n",
              "      --fill-color: #D2E3FC;\n",
              "      --hover-bg-color: #434B5C;\n",
              "      --hover-fill-color: #FFFFFF;\n",
              "      --disabled-bg-color: #3B4455;\n",
              "      --disabled-fill-color: #666;\n",
              "  }\n",
              "\n",
              "  .colab-df-quickchart {\n",
              "    background-color: var(--bg-color);\n",
              "    border: none;\n",
              "    border-radius: 50%;\n",
              "    cursor: pointer;\n",
              "    display: none;\n",
              "    fill: var(--fill-color);\n",
              "    height: 32px;\n",
              "    padding: 0;\n",
              "    width: 32px;\n",
              "  }\n",
              "\n",
              "  .colab-df-quickchart:hover {\n",
              "    background-color: var(--hover-bg-color);\n",
              "    box-shadow: 0 1px 2px rgba(60, 64, 67, 0.3), 0 1px 3px 1px rgba(60, 64, 67, 0.15);\n",
              "    fill: var(--button-hover-fill-color);\n",
              "  }\n",
              "\n",
              "  .colab-df-quickchart-complete:disabled,\n",
              "  .colab-df-quickchart-complete:disabled:hover {\n",
              "    background-color: var(--disabled-bg-color);\n",
              "    fill: var(--disabled-fill-color);\n",
              "    box-shadow: none;\n",
              "  }\n",
              "\n",
              "  .colab-df-spinner {\n",
              "    border: 2px solid var(--fill-color);\n",
              "    border-color: transparent;\n",
              "    border-bottom-color: var(--fill-color);\n",
              "    animation:\n",
              "      spin 1s steps(1) infinite;\n",
              "  }\n",
              "\n",
              "  @keyframes spin {\n",
              "    0% {\n",
              "      border-color: transparent;\n",
              "      border-bottom-color: var(--fill-color);\n",
              "      border-left-color: var(--fill-color);\n",
              "    }\n",
              "    20% {\n",
              "      border-color: transparent;\n",
              "      border-left-color: var(--fill-color);\n",
              "      border-top-color: var(--fill-color);\n",
              "    }\n",
              "    30% {\n",
              "      border-color: transparent;\n",
              "      border-left-color: var(--fill-color);\n",
              "      border-top-color: var(--fill-color);\n",
              "      border-right-color: var(--fill-color);\n",
              "    }\n",
              "    40% {\n",
              "      border-color: transparent;\n",
              "      border-right-color: var(--fill-color);\n",
              "      border-top-color: var(--fill-color);\n",
              "    }\n",
              "    60% {\n",
              "      border-color: transparent;\n",
              "      border-right-color: var(--fill-color);\n",
              "    }\n",
              "    80% {\n",
              "      border-color: transparent;\n",
              "      border-right-color: var(--fill-color);\n",
              "      border-bottom-color: var(--fill-color);\n",
              "    }\n",
              "    90% {\n",
              "      border-color: transparent;\n",
              "      border-bottom-color: var(--fill-color);\n",
              "    }\n",
              "  }\n",
              "</style>\n",
              "\n",
              "  <script>\n",
              "    async function quickchart(key) {\n",
              "      const quickchartButtonEl =\n",
              "        document.querySelector('#' + key + ' button');\n",
              "      quickchartButtonEl.disabled = true;  // To prevent multiple clicks.\n",
              "      quickchartButtonEl.classList.add('colab-df-spinner');\n",
              "      try {\n",
              "        const charts = await google.colab.kernel.invokeFunction(\n",
              "            'suggestCharts', [key], {});\n",
              "      } catch (error) {\n",
              "        console.error('Error during call to suggestCharts:', error);\n",
              "      }\n",
              "      quickchartButtonEl.classList.remove('colab-df-spinner');\n",
              "      quickchartButtonEl.classList.add('colab-df-quickchart-complete');\n",
              "    }\n",
              "    (() => {\n",
              "      let quickchartButtonEl =\n",
              "        document.querySelector('#df-7930e411-4ffe-4d90-829f-4bc487796e9c button');\n",
              "      quickchartButtonEl.style.display =\n",
              "        google.colab.kernel.accessAllowed ? 'block' : 'none';\n",
              "    })();\n",
              "  </script>\n",
              "</div>\n",
              "    </div>\n",
              "  </div>\n"
            ]
          },
          "metadata": {},
          "execution_count": 62
        }
      ],
      "source": [
        "df.head(2)"
      ]
    },
    {
      "cell_type": "markdown",
      "source": [
        "**LINEAR REGRESSION**"
      ],
      "metadata": {
        "id": "6Cxqpd67qMZa"
      }
    },
    {
      "cell_type": "markdown",
      "metadata": {
        "id": "mzDKUq85ZRdz"
      },
      "source": [
        "Checking the type"
      ]
    },
    {
      "cell_type": "code",
      "execution_count": null,
      "metadata": {
        "colab": {
          "base_uri": "https://localhost:8080/"
        },
        "id": "6oBamZIiZSbR",
        "outputId": "95dfd935-f504-43ba-f646-aabf60bcbafa"
      },
      "outputs": [
        {
          "output_type": "execute_result",
          "data": {
            "text/plain": [
              "dtype('float64')"
            ]
          },
          "metadata": {},
          "execution_count": 63
        }
      ],
      "source": [
        "df[\"Shipping Cost\"].dtype\n",
        "df[\"Sales\"].dtype"
      ]
    },
    {
      "cell_type": "markdown",
      "metadata": {
        "id": "j2zwRNusZV56"
      },
      "source": [
        "checking if i have null values"
      ]
    },
    {
      "cell_type": "code",
      "execution_count": null,
      "metadata": {
        "colab": {
          "base_uri": "https://localhost:8080/"
        },
        "id": "Di0gNRwlZcsk",
        "outputId": "f53d2cde-639d-48bf-ec08-2cbe05b9c06c"
      },
      "outputs": [
        {
          "output_type": "stream",
          "name": "stdout",
          "text": [
            "No missing values in either the 'Sales' or 'Shipping Cost' column.\n"
          ]
        }
      ],
      "source": [
        "# Check for missing values in the \"Sales\" and \"Price\" columns\n",
        "missing_sales = df[['Shipping Cost', 'Sales']].isnull().values.any()\n",
        "\n",
        "# Print the result\n",
        "if missing_sales:\n",
        "    print(\"Missing values found in either the 'Sales' or 'Shipping Cost' column.\")\n",
        "else:\n",
        "    print(\"No missing values in either the 'Sales' or 'Shipping Cost' column.\")"
      ]
    },
    {
      "cell_type": "markdown",
      "metadata": {
        "id": "F0hW62eLZuEI"
      },
      "source": [
        "Since there’s no missing values and the data is clean we start drawing"
      ]
    },
    {
      "cell_type": "code",
      "execution_count": null,
      "metadata": {
        "colab": {
          "base_uri": "https://localhost:8080/",
          "height": 466
        },
        "id": "53StRfZOZuzI",
        "outputId": "dd071429-838a-4030-8f71-168979762134"
      },
      "outputs": [
        {
          "output_type": "execute_result",
          "data": {
            "text/plain": [
              "<function matplotlib.pyplot.show(close=None, block=None)>"
            ]
          },
          "metadata": {},
          "execution_count": 65
        },
        {
          "output_type": "display_data",
          "data": {
            "text/plain": [
              "<Figure size 640x480 with 1 Axes>"
            ],
            "image/png": "[encoded data removed]"
          },
          "metadata": {}
        }
      ],
      "source": [
        "plt.scatter(df[\"Shipping Cost\"],df[\"Sales\"],marker=\"+\",color=\"red\")\n",
        "plt.xlabel(\"Shipping Cost\")\n",
        "plt.ylabel(\"Sales\")\n",
        "plt.show"
      ]
    },
    {
      "cell_type": "markdown",
      "metadata": {
        "id": "fyK3vPbrZzw3"
      },
      "source": [
        "regression algorithm to predict Sales against their Shipping Cost"
      ]
    },
    {
      "cell_type": "code",
      "execution_count": null,
      "metadata": {
        "id": "sg7lhWsxZzS5"
      },
      "outputs": [],
      "source": [
        "reg = sk.LinearRegression()"
      ]
    },
    {
      "cell_type": "code",
      "execution_count": null,
      "metadata": {
        "colab": {
          "base_uri": "https://localhost:8080/",
          "height": 75
        },
        "id": "QweYC0_RaO74",
        "outputId": "74bc3c85-255a-4291-d806-2f9b3b791cd1"
      },
      "outputs": [
        {
          "output_type": "execute_result",
          "data": {
            "text/plain": [
              "LinearRegression()"
            ],
            "text/html": [
              "<style>#sk-container-id-1 {color: black;background-color: white;}#sk-container-id-1 pre{padding: 0;}#sk-container-id-1 div.sk-toggleable {background-color: white;}#sk-container-id-1 label.sk-toggleable__label {cursor: pointer;display: block;width: 100%;margin-bottom: 0;padding: 0.3em;box-sizing: border-box;text-align: center;}#sk-container-id-1 label.sk-toggleable__label-arrow:before {content: \"▸\";float: left;margin-right: 0.25em;color: #696969;}#sk-container-id-1 label.sk-toggleable__label-arrow:hover:before {color: black;}#sk-container-id-1 div.sk-estimator:hover label.sk-toggleable__label-arrow:before {color: black;}#sk-container-id-1 div.sk-toggleable__content {max-height: 0;max-width: 0;overflow: hidden;text-align: left;background-color: #f0f8ff;}#sk-container-id-1 div.sk-toggleable__content pre {margin: 0.2em;color: black;border-radius: 0.25em;background-color: #f0f8ff;}#sk-container-id-1 input.sk-toggleable__control:checked~div.sk-toggleable__content {max-height: 200px;max-width: 100%;overflow: auto;}#sk-container-id-1 input.sk-toggleable__control:checked~label.sk-toggleable__label-arrow:before {content: \"▾\";}#sk-container-id-1 div.sk-estimator input.sk-toggleable__control:checked~label.sk-toggleable__label {background-color: #d4ebff;}#sk-container-id-1 div.sk-label input.sk-toggleable__control:checked~label.sk-toggleable__label {background-color: #d4ebff;}#sk-container-id-1 input.sk-hidden--visually {border: 0;clip: rect(1px 1px 1px 1px);clip: rect(1px, 1px, 1px, 1px);height: 1px;margin: -1px;overflow: hidden;padding: 0;position: absolute;width: 1px;}#sk-container-id-1 div.sk-estimator {font-family: monospace;background-color: #f0f8ff;border: 1px dotted black;border-radius: 0.25em;box-sizing: border-box;margin-bottom: 0.5em;}#sk-container-id-1 div.sk-estimator:hover {background-color: #d4ebff;}#sk-container-id-1 div.sk-parallel-item::after {content: \"\";width: 100%;border-bottom: 1px solid gray;flex-grow: 1;}#sk-container-id-1 div.sk-label:hover label.sk-toggleable__label {background-color: #d4ebff;}#sk-container-id-1 div.sk-serial::before {content: \"\";position: absolute;border-left: 1px solid gray;box-sizing: border-box;top: 0;bottom: 0;left: 50%;z-index: 0;}#sk-container-id-1 div.sk-serial {display: flex;flex-direction: column;align-items: center;background-color: white;padding-right: 0.2em;padding-left: 0.2em;position: relative;}#sk-container-id-1 div.sk-item {position: relative;z-index: 1;}#sk-container-id-1 div.sk-parallel {display: flex;align-items: stretch;justify-content: center;background-color: white;position: relative;}#sk-container-id-1 div.sk-item::before, #sk-container-id-1 div.sk-parallel-item::before {content: \"\";position: absolute;border-left: 1px solid gray;box-sizing: border-box;top: 0;bottom: 0;left: 50%;z-index: -1;}#sk-container-id-1 div.sk-parallel-item {display: flex;flex-direction: column;z-index: 1;position: relative;background-color: white;}#sk-container-id-1 div.sk-parallel-item:first-child::after {align-self: flex-end;width: 50%;}#sk-container-id-1 div.sk-parallel-item:last-child::after {align-self: flex-start;width: 50%;}#sk-container-id-1 div.sk-parallel-item:only-child::after {width: 0;}#sk-container-id-1 div.sk-dashed-wrapped {border: 1px dashed gray;margin: 0 0.4em 0.5em 0.4em;box-sizing: border-box;padding-bottom: 0.4em;background-color: white;}#sk-container-id-1 div.sk-label label {font-family: monospace;font-weight: bold;display: inline-block;line-height: 1.2em;}#sk-container-id-1 div.sk-label-container {text-align: center;}#sk-container-id-1 div.sk-container {/* jupyter's `normalize.less` sets `[hidden] { display: none; }` but bootstrap.min.css set `[hidden] { display: none !important; }` so we also need the `!important` here to be able to override the default hidden behavior on the sphinx rendered scikit-learn.org. See: https://github.com/scikit-learn/scikit-learn/issues/21755 */display: inline-block !important;position: relative;}#sk-container-id-1 div.sk-text-repr-fallback {display: none;}</style><div id=\"sk-container-id-1\" class=\"sk-top-container\"><div class=\"sk-text-repr-fallback\"><pre>LinearRegression()</pre><b>In a Jupyter environment, please rerun this cell to show the HTML representation or trust the notebook. <br />On GitHub, the HTML representation is unable to render, please try loading this page with nbviewer.org.</b></div><div class=\"sk-container\" hidden><div class=\"sk-item\"><div class=\"sk-estimator sk-toggleable\"><input class=\"sk-toggleable__control sk-hidden--visually\" id=\"sk-estimator-id-1\" type=\"checkbox\" checked><label for=\"sk-estimator-id-1\" class=\"sk-toggleable__label sk-toggleable__label-arrow\">LinearRegression</label><div class=\"sk-toggleable__content\"><pre>LinearRegression()</pre></div></div></div></div></div>"
            ]
          },
          "metadata": {},
          "execution_count": 67
        }
      ],
      "source": [
        "reg.fit (df [[\"Shipping Cost\"]],df[ \"Sales\"])"
      ]
    },
    {
      "cell_type": "markdown",
      "metadata": {
        "id": "rBNzLcqlaSFL"
      },
      "source": [
        "coefficient and intercept italicized text"
      ]
    },
    {
      "cell_type": "code",
      "execution_count": null,
      "metadata": {
        "colab": {
          "base_uri": "https://localhost:8080/"
        },
        "id": "QqAvt9p9aU2y",
        "outputId": "f6acb52e-175f-4bd1-a9ca-c3368f11e687"
      },
      "outputs": [
        {
          "output_type": "execute_result",
          "data": {
            "text/plain": [
              "array([32.18026245])"
            ]
          },
          "metadata": {},
          "execution_count": 68
        }
      ],
      "source": [
        "reg.coef_"
      ]
    },
    {
      "cell_type": "code",
      "execution_count": null,
      "metadata": {
        "colab": {
          "base_uri": "https://localhost:8080/"
        },
        "id": "ZczaZeJiaVoE",
        "outputId": "78629629-8513-477e-946a-aaedb0b766bc"
      },
      "outputs": [
        {
          "output_type": "execute_result",
          "data": {
            "text/plain": [
              "220.00358365959073"
            ]
          },
          "metadata": {},
          "execution_count": 69
        }
      ],
      "source": [
        "reg.intercept_"
      ]
    },
    {
      "cell_type": "markdown",
      "metadata": {
        "id": "GiJhB_pHaaz-"
      },
      "source": [
        "draw the regression line"
      ]
    },
    {
      "cell_type": "code",
      "execution_count": null,
      "metadata": {
        "colab": {
          "base_uri": "https://localhost:8080/",
          "height": 466
        },
        "id": "AdVsjKwRacKY",
        "outputId": "4ebea1b9-9f60-433b-ac3b-4d3dad63859b"
      },
      "outputs": [
        {
          "output_type": "execute_result",
          "data": {
            "text/plain": [
              "<function matplotlib.pyplot.show(close=None, block=None)>"
            ]
          },
          "metadata": {},
          "execution_count": 70
        },
        {
          "output_type": "display_data",
          "data": {
            "text/plain": [
              "<Figure size 640x480 with 1 Axes>"
            ],
            "image/png": "[encoded data removed]"
          },
          "metadata": {}
        }
      ],
      "source": [
        "plt.scatter(df[\"Shipping Cost\"],df[\"Sales\"],marker=\"+\",color=\"red\")\n",
        "plt.plot (df[[\"Shipping Cost\"]], reg.predict(df[[\"Shipping Cost\"]]) , color= \"blue\", linewidth=3)\n",
        "plt.xlabel(\"Shipping Cost\")\n",
        "plt.ylabel(\"Sales\")\n",
        "plt.show"
      ]
    },
    {
      "cell_type": "markdown",
      "metadata": {
        "id": "FYxB4j3KafDH"
      },
      "source": [
        "Predict for some value"
      ]
    },
    {
      "cell_type": "code",
      "execution_count": null,
      "metadata": {
        "colab": {
          "base_uri": "https://localhost:8080/"
        },
        "id": "Ny1wgLsjaoDK",
        "outputId": "7925924f-4288-45b8-9fb9-97365f2e0838"
      },
      "outputs": [
        {
          "output_type": "stream",
          "name": "stderr",
          "text": [
            "/usr/local/lib/python3.10/dist-packages/sklearn/base.py:439: UserWarning: X does not have valid feature names, but LinearRegression was fitted with feature names\n",
            "  warnings.warn(\n"
          ]
        },
        {
          "output_type": "execute_result",
          "data": {
            "text/plain": [
              "array([16310.13480783])"
            ]
          },
          "metadata": {},
          "execution_count": 71
        }
      ],
      "source": [
        "reg.predict([[500]])"
      ]
    },
    {
      "cell_type": "code",
      "execution_count": null,
      "metadata": {
        "colab": {
          "base_uri": "https://localhost:8080/"
        },
        "id": "D7AxdDltaojN",
        "outputId": "25be88a1-3842-43aa-8fba-374d60398369"
      },
      "outputs": [
        {
          "output_type": "execute_result",
          "data": {
            "text/plain": [
              "0.10740896894424601"
            ]
          },
          "metadata": {},
          "execution_count": 72
        }
      ],
      "source": [
        "reg.score(df [[\"Shipping Cost\"]],df[ \"Sales\"])"
      ]
    },
    {
      "cell_type": "markdown",
      "source": [
        "**NAIVE BAYES CLASSIFICATION**"
      ],
      "metadata": {
        "id": "ypDJYhU8qUTU"
      }
    },
    {
      "cell_type": "code",
      "execution_count": null,
      "metadata": {
        "id": "YuZaJRykdYtB"
      },
      "outputs": [],
      "source": [
        "import pandas as pd\n",
        "from sklearn .naive_bayes import GaussianNB\n",
        "from sklearn.model_selection import train_test_split\n",
        "from sklearn.metrics import classification_report"
      ]
    },
    {
      "cell_type": "code",
      "execution_count": null,
      "metadata": {
        "id": "HK53Th9HdhIr",
        "colab": {
          "base_uri": "https://localhost:8080/",
          "height": 652
        },
        "outputId": "2c232cfd-4c27-4bff-fc1b-dc322645c2cc"
      },
      "outputs": [
        {
          "output_type": "execute_result",
          "data": {
            "text/plain": [
              "     Order Priority  Discount  Unit Price  Shipping Cost  Customer ID  \\\n",
              "0              High      0.01        2.84           0.93          3.0   \n",
              "2          Critical      0.06        9.48           7.29         11.0   \n",
              "3            Medium      0.09       78.69          19.99         14.0   \n",
              "4            Medium      0.08        3.28           2.31         14.0   \n",
              "5            Medium      0.05        3.28           4.20         14.0   \n",
              "...             ...       ...         ...            ...          ...   \n",
              "1948           High      0.10        7.99           5.03       3397.0   \n",
              "1949  Not Specified      0.08       11.97           5.81       3399.0   \n",
              "1950         Medium      0.10        9.38           4.93       3400.0   \n",
              "1951           High      0.10      105.98          13.99       3403.0   \n",
              "1952            Low      0.05        6.48          19.99        699.0   \n",
              "\n",
              "          Customer Name    Ship Mode Customer Segment Product Category  \\\n",
              "0         Bonnie Potter  Express Air        Corporate  Office Supplies   \n",
              "2         Marcus Dunlap  Regular Air      Home Office        Furniture   \n",
              "3     Gwendolyn F Tyson  Regular Air   Small Business        Furniture   \n",
              "4     Gwendolyn F Tyson  Regular Air   Small Business  Office Supplies   \n",
              "5     Gwendolyn F Tyson  Regular Air   Small Business  Office Supplies   \n",
              "...                 ...          ...              ...              ...   \n",
              "1948        Andrea Shaw  Regular Air   Small Business       Technology   \n",
              "1949        Marvin Reid  Regular Air   Small Business  Office Supplies   \n",
              "1950      Florence Gold  Express Air   Small Business        Furniture   \n",
              "1951      Tammy Buckley  Express Air         Consumer        Furniture   \n",
              "1952         Jenny Gold  Regular Air        Corporate  Office Supplies   \n",
              "\n",
              "              Product Sub-Category  ...   Region State or Province  \\\n",
              "0              Pens & Art Supplies  ...     West        Washington   \n",
              "2               Office Furnishings  ...     East        New Jersey   \n",
              "3               Office Furnishings  ...  Central         Minnesota   \n",
              "4              Pens & Art Supplies  ...  Central         Minnesota   \n",
              "5              Pens & Art Supplies  ...  Central         Minnesota   \n",
              "...                            ...  ...      ...               ...   \n",
              "1948  Telephones and Communication  ...  Central          Illinois   \n",
              "1949           Pens & Art Supplies  ...  Central          Illinois   \n",
              "1950            Office Furnishings  ...     East     West Virginia   \n",
              "1951            Office Furnishings  ...     West           Wyoming   \n",
              "1952                         Paper  ...  Central        California   \n",
              "\n",
              "               City Postal Code Order Date     Profit  Quantity ordered new  \\\n",
              "0         Anacortes     98221.0 2015-01-07     4.5600                   4.0   \n",
              "2           Roselle      7203.0 2015-02-15   -53.8096                  22.0   \n",
              "3        Prior Lake     55372.0 2015-05-12   803.4705                  16.0   \n",
              "4        Prior Lake     55372.0 2015-05-12   -24.0300                   7.0   \n",
              "5        Prior Lake     55372.0 2015-05-12   -37.0300                   4.0   \n",
              "...             ...         ...        ...        ...                   ...   \n",
              "1948       Danville     61832.0 2015-03-11  -160.9520                  22.0   \n",
              "1949    Des Plaines     60016.0 2015-03-29   -41.8700                   5.0   \n",
              "1950       Fairmont     26554.0 2015-04-04   -24.7104                  15.0   \n",
              "1951       Cheyenne     82001.0 2015-02-08   349.4850                   5.0   \n",
              "1952  New York City     10177.0 2015-04-09 -2426.5500                   1.0   \n",
              "\n",
              "        Sales   Order ID  Elapsed Time  \n",
              "0       13.01    88522.0             1  \n",
              "2      211.15    90192.0             2  \n",
              "3     1164.45    86838.0             2  \n",
              "4       22.23    86838.0             1  \n",
              "5       13.99    86838.0             1  \n",
              "...       ...        ...           ...  \n",
              "1948   143.12    87536.0             1  \n",
              "1949    59.98    87534.0             2  \n",
              "1950   135.78    87537.0             0  \n",
              "1951   506.50    87530.0             3  \n",
              "1952     8.30  86960.002           -91  \n",
              "\n",
              "[1732 rows x 23 columns]"
            ],
            "text/html": [
              "\n",
              "  <div id=\"df-65589340-e0c0-4e5c-abf3-898beac4f556\" class=\"colab-df-container\">\n",
              "    <div>\n",
              "<style scoped>\n",
              "    .dataframe tbody tr th:only-of-type {\n",
              "        vertical-align: middle;\n",
              "    }\n",
              "\n",
              "    .dataframe tbody tr th {\n",
              "        vertical-align: top;\n",
              "    }\n",
              "\n",
              "    .dataframe thead th {\n",
              "        text-align: right;\n",
              "    }\n",
              "</style>\n",
              "<table border=\"1\" class=\"dataframe\">\n",
              "  <thead>\n",
              "    <tr style=\"text-align: right;\">\n",
              "      <th></th>\n",
              "      <th>Order Priority</th>\n",
              "      <th>Discount</th>\n",
              "      <th>Unit Price</th>\n",
              "      <th>Shipping Cost</th>\n",
              "      <th>Customer ID</th>\n",
              "      <th>Customer Name</th>\n",
              "      <th>Ship Mode</th>\n",
              "      <th>Customer Segment</th>\n",
              "      <th>Product Category</th>\n",
              "      <th>Product Sub-Category</th>\n",
              "      <th>...</th>\n",
              "      <th>Region</th>\n",
              "      <th>State or Province</th>\n",
              "      <th>City</th>\n",
              "      <th>Postal Code</th>\n",
              "      <th>Order Date</th>\n",
              "      <th>Profit</th>\n",
              "      <th>Quantity ordered new</th>\n",
              "      <th>Sales</th>\n",
              "      <th>Order ID</th>\n",
              "      <th>Elapsed Time</th>\n",
              "    </tr>\n",
              "  </thead>\n",
              "  <tbody>\n",
              "    <tr>\n",
              "      <th>0</th>\n",
              "      <td>High</td>\n",
              "      <td>0.01</td>\n",
              "      <td>2.84</td>\n",
              "      <td>0.93</td>\n",
              "      <td>3.0</td>\n",
              "      <td>Bonnie Potter</td>\n",
              "      <td>Express Air</td>\n",
              "      <td>Corporate</td>\n",
              "      <td>Office Supplies</td>\n",
              "      <td>Pens &amp; Art Supplies</td>\n",
              "      <td>...</td>\n",
              "      <td>West</td>\n",
              "      <td>Washington</td>\n",
              "      <td>Anacortes</td>\n",
              "      <td>98221.0</td>\n",
              "      <td>2015-01-07</td>\n",
              "      <td>4.5600</td>\n",
              "      <td>4.0</td>\n",
              "      <td>13.01</td>\n",
              "      <td>88522.0</td>\n",
              "      <td>1</td>\n",
              "    </tr>\n",
              "    <tr>\n",
              "      <th>2</th>\n",
              "      <td>Critical</td>\n",
              "      <td>0.06</td>\n",
              "      <td>9.48</td>\n",
              "      <td>7.29</td>\n",
              "      <td>11.0</td>\n",
              "      <td>Marcus Dunlap</td>\n",
              "      <td>Regular Air</td>\n",
              "      <td>Home Office</td>\n",
              "      <td>Furniture</td>\n",
              "      <td>Office Furnishings</td>\n",
              "      <td>...</td>\n",
              "      <td>East</td>\n",
              "      <td>New Jersey</td>\n",
              "      <td>Roselle</td>\n",
              "      <td>7203.0</td>\n",
              "      <td>2015-02-15</td>\n",
              "      <td>-53.8096</td>\n",
              "      <td>22.0</td>\n",
              "      <td>211.15</td>\n",
              "      <td>90192.0</td>\n",
              "      <td>2</td>\n",
              "    </tr>\n",
              "    <tr>\n",
              "      <th>3</th>\n",
              "      <td>Medium</td>\n",
              "      <td>0.09</td>\n",
              "      <td>78.69</td>\n",
              "      <td>19.99</td>\n",
              "      <td>14.0</td>\n",
              "      <td>Gwendolyn F Tyson</td>\n",
              "      <td>Regular Air</td>\n",
              "      <td>Small Business</td>\n",
              "      <td>Furniture</td>\n",
              "      <td>Office Furnishings</td>\n",
              "      <td>...</td>\n",
              "      <td>Central</td>\n",
              "      <td>Minnesota</td>\n",
              "      <td>Prior Lake</td>\n",
              "      <td>55372.0</td>\n",
              "      <td>2015-05-12</td>\n",
              "      <td>803.4705</td>\n",
              "      <td>16.0</td>\n",
              "      <td>1164.45</td>\n",
              "      <td>86838.0</td>\n",
              "      <td>2</td>\n",
              "    </tr>\n",
              "    <tr>\n",
              "      <th>4</th>\n",
              "      <td>Medium</td>\n",
              "      <td>0.08</td>\n",
              "      <td>3.28</td>\n",
              "      <td>2.31</td>\n",
              "      <td>14.0</td>\n",
              "      <td>Gwendolyn F Tyson</td>\n",
              "      <td>Regular Air</td>\n",
              "      <td>Small Business</td>\n",
              "      <td>Office Supplies</td>\n",
              "      <td>Pens &amp; Art Supplies</td>\n",
              "      <td>...</td>\n",
              "      <td>Central</td>\n",
              "      <td>Minnesota</td>\n",
              "      <td>Prior Lake</td>\n",
              "      <td>55372.0</td>\n",
              "      <td>2015-05-12</td>\n",
              "      <td>-24.0300</td>\n",
              "      <td>7.0</td>\n",
              "      <td>22.23</td>\n",
              "      <td>86838.0</td>\n",
              "      <td>1</td>\n",
              "    </tr>\n",
              "    <tr>\n",
              "      <th>5</th>\n",
              "      <td>Medium</td>\n",
              "      <td>0.05</td>\n",
              "      <td>3.28</td>\n",
              "      <td>4.20</td>\n",
              "      <td>14.0</td>\n",
              "      <td>Gwendolyn F Tyson</td>\n",
              "      <td>Regular Air</td>\n",
              "      <td>Small Business</td>\n",
              "      <td>Office Supplies</td>\n",
              "      <td>Pens &amp; Art Supplies</td>\n",
              "      <td>...</td>\n",
              "      <td>Central</td>\n",
              "      <td>Minnesota</td>\n",
              "      <td>Prior Lake</td>\n",
              "      <td>55372.0</td>\n",
              "      <td>2015-05-12</td>\n",
              "      <td>-37.0300</td>\n",
              "      <td>4.0</td>\n",
              "      <td>13.99</td>\n",
              "      <td>86838.0</td>\n",
              "      <td>1</td>\n",
              "    </tr>\n",
              "    <tr>\n",
              "      <th>...</th>\n",
              "      <td>...</td>\n",
              "      <td>...</td>\n",
              "      <td>...</td>\n",
              "      <td>...</td>\n",
              "      <td>...</td>\n",
              "      <td>...</td>\n",
              "      <td>...</td>\n",
              "      <td>...</td>\n",
              "      <td>...</td>\n",
              "      <td>...</td>\n",
              "      <td>...</td>\n",
              "      <td>...</td>\n",
              "      <td>...</td>\n",
              "      <td>...</td>\n",
              "      <td>...</td>\n",
              "      <td>...</td>\n",
              "      <td>...</td>\n",
              "      <td>...</td>\n",
              "      <td>...</td>\n",
              "      <td>...</td>\n",
              "      <td>...</td>\n",
              "    </tr>\n",
              "    <tr>\n",
              "      <th>1948</th>\n",
              "      <td>High</td>\n",
              "      <td>0.10</td>\n",
              "      <td>7.99</td>\n",
              "      <td>5.03</td>\n",
              "      <td>3397.0</td>\n",
              "      <td>Andrea Shaw</td>\n",
              "      <td>Regular Air</td>\n",
              "      <td>Small Business</td>\n",
              "      <td>Technology</td>\n",
              "      <td>Telephones and Communication</td>\n",
              "      <td>...</td>\n",
              "      <td>Central</td>\n",
              "      <td>Illinois</td>\n",
              "      <td>Danville</td>\n",
              "      <td>61832.0</td>\n",
              "      <td>2015-03-11</td>\n",
              "      <td>-160.9520</td>\n",
              "      <td>22.0</td>\n",
              "      <td>143.12</td>\n",
              "      <td>87536.0</td>\n",
              "      <td>1</td>\n",
              "    </tr>\n",
              "    <tr>\n",
              "      <th>1949</th>\n",
              "      <td>Not Specified</td>\n",
              "      <td>0.08</td>\n",
              "      <td>11.97</td>\n",
              "      <td>5.81</td>\n",
              "      <td>3399.0</td>\n",
              "      <td>Marvin Reid</td>\n",
              "      <td>Regular Air</td>\n",
              "      <td>Small Business</td>\n",
              "      <td>Office Supplies</td>\n",
              "      <td>Pens &amp; Art Supplies</td>\n",
              "      <td>...</td>\n",
              "      <td>Central</td>\n",
              "      <td>Illinois</td>\n",
              "      <td>Des Plaines</td>\n",
              "      <td>60016.0</td>\n",
              "      <td>2015-03-29</td>\n",
              "      <td>-41.8700</td>\n",
              "      <td>5.0</td>\n",
              "      <td>59.98</td>\n",
              "      <td>87534.0</td>\n",
              "      <td>2</td>\n",
              "    </tr>\n",
              "    <tr>\n",
              "      <th>1950</th>\n",
              "      <td>Medium</td>\n",
              "      <td>0.10</td>\n",
              "      <td>9.38</td>\n",
              "      <td>4.93</td>\n",
              "      <td>3400.0</td>\n",
              "      <td>Florence Gold</td>\n",
              "      <td>Express Air</td>\n",
              "      <td>Small Business</td>\n",
              "      <td>Furniture</td>\n",
              "      <td>Office Furnishings</td>\n",
              "      <td>...</td>\n",
              "      <td>East</td>\n",
              "      <td>West Virginia</td>\n",
              "      <td>Fairmont</td>\n",
              "      <td>26554.0</td>\n",
              "      <td>2015-04-04</td>\n",
              "      <td>-24.7104</td>\n",
              "      <td>15.0</td>\n",
              "      <td>135.78</td>\n",
              "      <td>87537.0</td>\n",
              "      <td>0</td>\n",
              "    </tr>\n",
              "    <tr>\n",
              "      <th>1951</th>\n",
              "      <td>High</td>\n",
              "      <td>0.10</td>\n",
              "      <td>105.98</td>\n",
              "      <td>13.99</td>\n",
              "      <td>3403.0</td>\n",
              "      <td>Tammy Buckley</td>\n",
              "      <td>Express Air</td>\n",
              "      <td>Consumer</td>\n",
              "      <td>Furniture</td>\n",
              "      <td>Office Furnishings</td>\n",
              "      <td>...</td>\n",
              "      <td>West</td>\n",
              "      <td>Wyoming</td>\n",
              "      <td>Cheyenne</td>\n",
              "      <td>82001.0</td>\n",
              "      <td>2015-02-08</td>\n",
              "      <td>349.4850</td>\n",
              "      <td>5.0</td>\n",
              "      <td>506.50</td>\n",
              "      <td>87530.0</td>\n",
              "      <td>3</td>\n",
              "    </tr>\n",
              "    <tr>\n",
              "      <th>1952</th>\n",
              "      <td>Low</td>\n",
              "      <td>0.05</td>\n",
              "      <td>6.48</td>\n",
              "      <td>19.99</td>\n",
              "      <td>699.0</td>\n",
              "      <td>Jenny Gold</td>\n",
              "      <td>Regular Air</td>\n",
              "      <td>Corporate</td>\n",
              "      <td>Office Supplies</td>\n",
              "      <td>Paper</td>\n",
              "      <td>...</td>\n",
              "      <td>Central</td>\n",
              "      <td>California</td>\n",
              "      <td>New York City</td>\n",
              "      <td>10177.0</td>\n",
              "      <td>2015-04-09</td>\n",
              "      <td>-2426.5500</td>\n",
              "      <td>1.0</td>\n",
              "      <td>8.30</td>\n",
              "      <td>86960.002</td>\n",
              "      <td>-91</td>\n",
              "    </tr>\n",
              "  </tbody>\n",
              "</table>\n",
              "<p>1732 rows × 23 columns</p>\n",
              "</div>\n",
              "    <div class=\"colab-df-buttons\">\n",
              "\n",
              "  <div class=\"colab-df-container\">\n",
              "    <button class=\"colab-df-convert\" onclick=\"convertToInteractive('df-65589340-e0c0-4e5c-abf3-898beac4f556')\"\n",
              "            title=\"Convert this dataframe to an interactive table.\"\n",
              "            style=\"display:none;\">\n",
              "\n",
              "  <svg xmlns=\"http://www.w3.org/2000/svg\" height=\"24px\" viewBox=\"0 -960 960 960\">\n",
              "    <path d=\"M120-120v-720h720v720H120Zm60-500h600v-160H180v160Zm220 220h160v-160H400v160Zm0 220h160v-160H400v160ZM180-400h160v-160H180v160Zm440 0h160v-160H620v160ZM180-180h160v-160H180v160Zm440 0h160v-160H620v160Z\"/>\n",
              "  </svg>\n",
              "    </button>\n",
              "\n",
              "  <style>\n",
              "    .colab-df-container {\n",
              "      display:flex;\n",
              "      gap: 12px;\n",
              "    }\n",
              "\n",
              "    .colab-df-convert {\n",
              "      background-color: #E8F0FE;\n",
              "      border: none;\n",
              "      border-radius: 50%;\n",
              "      cursor: pointer;\n",
              "      display: none;\n",
              "      fill: #1967D2;\n",
              "      height: 32px;\n",
              "      padding: 0 0 0 0;\n",
              "      width: 32px;\n",
              "    }\n",
              "\n",
              "    .colab-df-convert:hover {\n",
              "      background-color: #E2EBFA;\n",
              "      box-shadow: 0px 1px 2px rgba(60, 64, 67, 0.3), 0px 1px 3px 1px rgba(60, 64, 67, 0.15);\n",
              "      fill: #174EA6;\n",
              "    }\n",
              "\n",
              "    .colab-df-buttons div {\n",
              "      margin-bottom: 4px;\n",
              "    }\n",
              "\n",
              "    [theme=dark] .colab-df-convert {\n",
              "      background-color: #3B4455;\n",
              "      fill: #D2E3FC;\n",
              "    }\n",
              "\n",
              "    [theme=dark] .colab-df-convert:hover {\n",
              "      background-color: #434B5C;\n",
              "      box-shadow: 0px 1px 3px 1px rgba(0, 0, 0, 0.15);\n",
              "      filter: drop-shadow(0px 1px 2px rgba(0, 0, 0, 0.3));\n",
              "      fill: #FFFFFF;\n",
              "    }\n",
              "  </style>\n",
              "\n",
              "    <script>\n",
              "      const buttonEl =\n",
              "        document.querySelector('#df-65589340-e0c0-4e5c-abf3-898beac4f556 button.colab-df-convert');\n",
              "      buttonEl.style.display =\n",
              "        google.colab.kernel.accessAllowed ? 'block' : 'none';\n",
              "\n",
              "      async function convertToInteractive(key) {\n",
              "        const element = document.querySelector('#df-65589340-e0c0-4e5c-abf3-898beac4f556');\n",
              "        const dataTable =\n",
              "          await google.colab.kernel.invokeFunction('convertToInteractive',\n",
              "                                                    [key], {});\n",
              "        if (!dataTable) return;\n",
              "\n",
              "        const docLinkHtml = 'Like what you see? Visit the ' +\n",
              "          '<a target=\"_blank\" href=https://colab.research.google.com/notebooks/data_table.ipynb>data table notebook</a>'\n",
              "          + ' to learn more about interactive tables.';\n",
              "        element.innerHTML = '';\n",
              "        dataTable['output_type'] = 'display_data';\n",
              "        await google.colab.output.renderOutput(dataTable, element);\n",
              "        const docLink = document.createElement('div');\n",
              "        docLink.innerHTML = docLinkHtml;\n",
              "        element.appendChild(docLink);\n",
              "      }\n",
              "    </script>\n",
              "  </div>\n",
              "\n",
              "\n",
              "<div id=\"df-4f7b8260-b189-496b-a3da-7b25e36ba4dd\">\n",
              "  <button class=\"colab-df-quickchart\" onclick=\"quickchart('df-4f7b8260-b189-496b-a3da-7b25e36ba4dd')\"\n",
              "            title=\"Suggest charts.\"\n",
              "            style=\"display:none;\">\n",
              "\n",
              "<svg xmlns=\"http://www.w3.org/2000/svg\" height=\"24px\"viewBox=\"0 0 24 24\"\n",
              "     width=\"24px\">\n",
              "    <g>\n",
              "        <path d=\"M19 3H5c-1.1 0-2 .9-2 2v14c0 1.1.9 2 2 2h14c1.1 0 2-.9 2-2V5c0-1.1-.9-2-2-2zM9 17H7v-7h2v7zm4 0h-2V7h2v10zm4 0h-2v-4h2v4z\"/>\n",
              "    </g>\n",
              "</svg>\n",
              "  </button>\n",
              "\n",
              "<style>\n",
              "  .colab-df-quickchart {\n",
              "      --bg-color: #E8F0FE;\n",
              "      --fill-color: #1967D2;\n",
              "      --hover-bg-color: #E2EBFA;\n",
              "      --hover-fill-color: #174EA6;\n",
              "      --disabled-fill-color: #AAA;\n",
              "      --disabled-bg-color: #DDD;\n",
              "  }\n",
              "\n",
              "  [theme=dark] .colab-df-quickchart {\n",
              "      --bg-color: #3B4455;\n",
              "      --fill-color: #D2E3FC;\n",
              "      --hover-bg-color: #434B5C;\n",
              "      --hover-fill-color: #FFFFFF;\n",
              "      --disabled-bg-color: #3B4455;\n",
              "      --disabled-fill-color: #666;\n",
              "  }\n",
              "\n",
              "  .colab-df-quickchart {\n",
              "    background-color: var(--bg-color);\n",
              "    border: none;\n",
              "    border-radius: 50%;\n",
              "    cursor: pointer;\n",
              "    display: none;\n",
              "    fill: var(--fill-color);\n",
              "    height: 32px;\n",
              "    padding: 0;\n",
              "    width: 32px;\n",
              "  }\n",
              "\n",
              "  .colab-df-quickchart:hover {\n",
              "    background-color: var(--hover-bg-color);\n",
              "    box-shadow: 0 1px 2px rgba(60, 64, 67, 0.3), 0 1px 3px 1px rgba(60, 64, 67, 0.15);\n",
              "    fill: var(--button-hover-fill-color);\n",
              "  }\n",
              "\n",
              "  .colab-df-quickchart-complete:disabled,\n",
              "  .colab-df-quickchart-complete:disabled:hover {\n",
              "    background-color: var(--disabled-bg-color);\n",
              "    fill: var(--disabled-fill-color);\n",
              "    box-shadow: none;\n",
              "  }\n",
              "\n",
              "  .colab-df-spinner {\n",
              "    border: 2px solid var(--fill-color);\n",
              "    border-color: transparent;\n",
              "    border-bottom-color: var(--fill-color);\n",
              "    animation:\n",
              "      spin 1s steps(1) infinite;\n",
              "  }\n",
              "\n",
              "  @keyframes spin {\n",
              "    0% {\n",
              "      border-color: transparent;\n",
              "      border-bottom-color: var(--fill-color);\n",
              "      border-left-color: var(--fill-color);\n",
              "    }\n",
              "    20% {\n",
              "      border-color: transparent;\n",
              "      border-left-color: var(--fill-color);\n",
              "      border-top-color: var(--fill-color);\n",
              "    }\n",
              "    30% {\n",
              "      border-color: transparent;\n",
              "      border-left-color: var(--fill-color);\n",
              "      border-top-color: var(--fill-color);\n",
              "      border-right-color: var(--fill-color);\n",
              "    }\n",
              "    40% {\n",
              "      border-color: transparent;\n",
              "      border-right-color: var(--fill-color);\n",
              "      border-top-color: var(--fill-color);\n",
              "    }\n",
              "    60% {\n",
              "      border-color: transparent;\n",
              "      border-right-color: var(--fill-color);\n",
              "    }\n",
              "    80% {\n",
              "      border-color: transparent;\n",
              "      border-right-color: var(--fill-color);\n",
              "      border-bottom-color: var(--fill-color);\n",
              "    }\n",
              "    90% {\n",
              "      border-color: transparent;\n",
              "      border-bottom-color: var(--fill-color);\n",
              "    }\n",
              "  }\n",
              "</style>\n",
              "\n",
              "  <script>\n",
              "    async function quickchart(key) {\n",
              "      const quickchartButtonEl =\n",
              "        document.querySelector('#' + key + ' button');\n",
              "      quickchartButtonEl.disabled = true;  // To prevent multiple clicks.\n",
              "      quickchartButtonEl.classList.add('colab-df-spinner');\n",
              "      try {\n",
              "        const charts = await google.colab.kernel.invokeFunction(\n",
              "            'suggestCharts', [key], {});\n",
              "      } catch (error) {\n",
              "        console.error('Error during call to suggestCharts:', error);\n",
              "      }\n",
              "      quickchartButtonEl.classList.remove('colab-df-spinner');\n",
              "      quickchartButtonEl.classList.add('colab-df-quickchart-complete');\n",
              "    }\n",
              "    (() => {\n",
              "      let quickchartButtonEl =\n",
              "        document.querySelector('#df-4f7b8260-b189-496b-a3da-7b25e36ba4dd button');\n",
              "      quickchartButtonEl.style.display =\n",
              "        google.colab.kernel.accessAllowed ? 'block' : 'none';\n",
              "    })();\n",
              "  </script>\n",
              "</div>\n",
              "    </div>\n",
              "  </div>\n"
            ]
          },
          "metadata": {},
          "execution_count": 74
        }
      ],
      "source": [
        "X= df[['Unit Price','Shipping Cost','Discount',]]\n",
        "y=df['Ship Mode']\n",
        "df"
      ]
    },
    {
      "cell_type": "code",
      "execution_count": null,
      "metadata": {
        "id": "GV2REA0pdk-I"
      },
      "outputs": [],
      "source": [
        "X_train, X_test, y_train, y_test = train_test_split(X, y, test_size=0.2, random_state=0)"
      ]
    },
    {
      "cell_type": "code",
      "execution_count": null,
      "metadata": {
        "id": "V3s0wB8NdmOz",
        "colab": {
          "base_uri": "https://localhost:8080/",
          "height": 75
        },
        "outputId": "41ecf6d3-d4b3-4561-b2ca-8d950d259bf8"
      },
      "outputs": [
        {
          "output_type": "execute_result",
          "data": {
            "text/plain": [
              "GaussianNB()"
            ],
            "text/html": [
              "<style>#sk-container-id-2 {color: black;background-color: white;}#sk-container-id-2 pre{padding: 0;}#sk-container-id-2 div.sk-toggleable {background-color: white;}#sk-container-id-2 label.sk-toggleable__label {cursor: pointer;display: block;width: 100%;margin-bottom: 0;padding: 0.3em;box-sizing: border-box;text-align: center;}#sk-container-id-2 label.sk-toggleable__label-arrow:before {content: \"▸\";float: left;margin-right: 0.25em;color: #696969;}#sk-container-id-2 label.sk-toggleable__label-arrow:hover:before {color: black;}#sk-container-id-2 div.sk-estimator:hover label.sk-toggleable__label-arrow:before {color: black;}#sk-container-id-2 div.sk-toggleable__content {max-height: 0;max-width: 0;overflow: hidden;text-align: left;background-color: #f0f8ff;}#sk-container-id-2 div.sk-toggleable__content pre {margin: 0.2em;color: black;border-radius: 0.25em;background-color: #f0f8ff;}#sk-container-id-2 input.sk-toggleable__control:checked~div.sk-toggleable__content {max-height: 200px;max-width: 100%;overflow: auto;}#sk-container-id-2 input.sk-toggleable__control:checked~label.sk-toggleable__label-arrow:before {content: \"▾\";}#sk-container-id-2 div.sk-estimator input.sk-toggleable__control:checked~label.sk-toggleable__label {background-color: #d4ebff;}#sk-container-id-2 div.sk-label input.sk-toggleable__control:checked~label.sk-toggleable__label {background-color: #d4ebff;}#sk-container-id-2 input.sk-hidden--visually {border: 0;clip: rect(1px 1px 1px 1px);clip: rect(1px, 1px, 1px, 1px);height: 1px;margin: -1px;overflow: hidden;padding: 0;position: absolute;width: 1px;}#sk-container-id-2 div.sk-estimator {font-family: monospace;background-color: #f0f8ff;border: 1px dotted black;border-radius: 0.25em;box-sizing: border-box;margin-bottom: 0.5em;}#sk-container-id-2 div.sk-estimator:hover {background-color: #d4ebff;}#sk-container-id-2 div.sk-parallel-item::after {content: \"\";width: 100%;border-bottom: 1px solid gray;flex-grow: 1;}#sk-container-id-2 div.sk-label:hover label.sk-toggleable__label {background-color: #d4ebff;}#sk-container-id-2 div.sk-serial::before {content: \"\";position: absolute;border-left: 1px solid gray;box-sizing: border-box;top: 0;bottom: 0;left: 50%;z-index: 0;}#sk-container-id-2 div.sk-serial {display: flex;flex-direction: column;align-items: center;background-color: white;padding-right: 0.2em;padding-left: 0.2em;position: relative;}#sk-container-id-2 div.sk-item {position: relative;z-index: 1;}#sk-container-id-2 div.sk-parallel {display: flex;align-items: stretch;justify-content: center;background-color: white;position: relative;}#sk-container-id-2 div.sk-item::before, #sk-container-id-2 div.sk-parallel-item::before {content: \"\";position: absolute;border-left: 1px solid gray;box-sizing: border-box;top: 0;bottom: 0;left: 50%;z-index: -1;}#sk-container-id-2 div.sk-parallel-item {display: flex;flex-direction: column;z-index: 1;position: relative;background-color: white;}#sk-container-id-2 div.sk-parallel-item:first-child::after {align-self: flex-end;width: 50%;}#sk-container-id-2 div.sk-parallel-item:last-child::after {align-self: flex-start;width: 50%;}#sk-container-id-2 div.sk-parallel-item:only-child::after {width: 0;}#sk-container-id-2 div.sk-dashed-wrapped {border: 1px dashed gray;margin: 0 0.4em 0.5em 0.4em;box-sizing: border-box;padding-bottom: 0.4em;background-color: white;}#sk-container-id-2 div.sk-label label {font-family: monospace;font-weight: bold;display: inline-block;line-height: 1.2em;}#sk-container-id-2 div.sk-label-container {text-align: center;}#sk-container-id-2 div.sk-container {/* jupyter's `normalize.less` sets `[hidden] { display: none; }` but bootstrap.min.css set `[hidden] { display: none !important; }` so we also need the `!important` here to be able to override the default hidden behavior on the sphinx rendered scikit-learn.org. See: https://github.com/scikit-learn/scikit-learn/issues/21755 */display: inline-block !important;position: relative;}#sk-container-id-2 div.sk-text-repr-fallback {display: none;}</style><div id=\"sk-container-id-2\" class=\"sk-top-container\"><div class=\"sk-text-repr-fallback\"><pre>GaussianNB()</pre><b>In a Jupyter environment, please rerun this cell to show the HTML representation or trust the notebook. <br />On GitHub, the HTML representation is unable to render, please try loading this page with nbviewer.org.</b></div><div class=\"sk-container\" hidden><div class=\"sk-item\"><div class=\"sk-estimator sk-toggleable\"><input class=\"sk-toggleable__control sk-hidden--visually\" id=\"sk-estimator-id-2\" type=\"checkbox\" checked><label for=\"sk-estimator-id-2\" class=\"sk-toggleable__label sk-toggleable__label-arrow\">GaussianNB</label><div class=\"sk-toggleable__content\"><pre>GaussianNB()</pre></div></div></div></div></div>"
            ]
          },
          "metadata": {},
          "execution_count": 76
        }
      ],
      "source": [
        "clf=GaussianNB()\n",
        "clf.fit(X_train,y_train)"
      ]
    },
    {
      "cell_type": "code",
      "execution_count": null,
      "metadata": {
        "id": "pVUWBSKddoW0",
        "colab": {
          "base_uri": "https://localhost:8080/"
        },
        "outputId": "1c9aa9cf-29b7-45c7-c45e-3f8d767fe05b"
      },
      "outputs": [
        {
          "output_type": "stream",
          "name": "stdout",
          "text": [
            "                precision    recall  f1-score   support\n",
            "\n",
            "Delivery Truck       0.48      0.91      0.62        33\n",
            "   Express Air       0.00      0.00      0.00        45\n",
            "   Regular Air       0.85      0.90      0.88       269\n",
            "\n",
            "      accuracy                           0.78       347\n",
            "     macro avg       0.44      0.60      0.50       347\n",
            "  weighted avg       0.71      0.78      0.74       347\n",
            "\n"
          ]
        },
        {
          "output_type": "stream",
          "name": "stderr",
          "text": [
            "/usr/local/lib/python3.10/dist-packages/sklearn/metrics/_classification.py:1344: UndefinedMetricWarning: Precision and F-score are ill-defined and being set to 0.0 in labels with no predicted samples. Use `zero_division` parameter to control this behavior.\n",
            "  _warn_prf(average, modifier, msg_start, len(result))\n",
            "/usr/local/lib/python3.10/dist-packages/sklearn/metrics/_classification.py:1344: UndefinedMetricWarning: Precision and F-score are ill-defined and being set to 0.0 in labels with no predicted samples. Use `zero_division` parameter to control this behavior.\n",
            "  _warn_prf(average, modifier, msg_start, len(result))\n",
            "/usr/local/lib/python3.10/dist-packages/sklearn/metrics/_classification.py:1344: UndefinedMetricWarning: Precision and F-score are ill-defined and being set to 0.0 in labels with no predicted samples. Use `zero_division` parameter to control this behavior.\n",
            "  _warn_prf(average, modifier, msg_start, len(result))\n"
          ]
        }
      ],
      "source": [
        "y_pred=clf.predict(X_test)\n",
        "print(classification_report(y_test,y_pred))"
      ]
    },
    {
      "cell_type": "code",
      "execution_count": null,
      "metadata": {
        "id": "JtX4hdfrYfiE"
      },
      "outputs": [],
      "source": [
        "# Save the dataset to Google Drive\n",
        "df.to_csv('/content/drive/MyDrive/my_dataset.csv', index=False)\n"
      ]
    }
  ],
  "metadata": {
    "colab": {
      "provenance": [],
      "include_colab_link": true
    },
    "kernelspec": {
      "display_name": "Python 3",
      "name": "python3"
    },
    "language_info": {
      "name": "python"
    }
  },
  "nbformat": 4,
  "nbformat_minor": 0
}